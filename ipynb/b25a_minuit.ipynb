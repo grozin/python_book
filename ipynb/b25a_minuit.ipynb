{
 "cells": [
  {
   "cell_type": "markdown",
   "metadata": {},
   "source": [
    "# IMinuit\n",
    "\n",
    "Minuit - программа численной минимизации функций многих переменных, широко применяемая в физике элементарных частиц. Есть два питонских интерфейса, PyMinuit и IMinuit (он особенно удобен в ipython)."
   ]
  },
  {
   "cell_type": "code",
   "execution_count": 1,
   "metadata": {},
   "outputs": [
    {
     "name": "stdout",
     "output_type": "stream",
     "text": [
      "Populating the interactive namespace from numpy and matplotlib\n"
     ]
    }
   ],
   "source": [
    "from iminuit import Minuit\n",
    "%pylab inline"
   ]
  },
  {
   "cell_type": "markdown",
   "metadata": {},
   "source": [
    "## Простой пример\n",
    "\n",
    "Определим квадратичную функцию от двух параметров."
   ]
  },
  {
   "cell_type": "code",
   "execution_count": 2,
   "metadata": {
    "collapsed": true
   },
   "outputs": [],
   "source": [
    "def f(a,b):\n",
    "    return 10*a**2+10*b**2-16*a*b+12*a-24*b"
   ]
  },
  {
   "cell_type": "markdown",
   "metadata": {},
   "source": [
    "Создадим объект класса `Minuit`. `a` и `b` - грубые догадки, около чего надо искать минимум; `error_a` и `error_b` - оценки точности этих догадок (в начале минимизации программа будет делать шаги порядка этих величин, потом они будут уменьшаться). Пределы изменения задавать не обязательно. Валичина `errordef` показывает, насколько функция должна быть выше своего минимума, чтобы это считалось отклонением на одну сигму; поскольку минимизируемая функция - это, как правило, $\\chi^2$, значение 1 по умолчанию вполне годится."
   ]
  },
  {
   "cell_type": "code",
   "execution_count": 3,
   "metadata": {},
   "outputs": [
    {
     "name": "stderr",
     "output_type": "stream",
     "text": [
      "/usr/lib64/python3.6/site-packages/ipykernel_launcher.py:2: InitialParamWarning: errordef is not given. Default to 1.\n",
      "  \n"
     ]
    }
   ],
   "source": [
    "m=Minuit(f,a=0,error_a=1,limit_a=(-10,10),\n",
    "         b=0,error_b=1,limit_b=(-10,10))"
   ]
  },
  {
   "cell_type": "markdown",
   "metadata": {},
   "source": [
    "Наиболее популярный метод минимизации - `migrad`."
   ]
  },
  {
   "cell_type": "code",
   "execution_count": 4,
   "metadata": {},
   "outputs": [
    {
     "data": {
      "text/html": [
       "<hr>"
      ]
     },
     "metadata": {},
     "output_type": "display_data"
    },
    {
     "data": {
      "text/html": [
       "\n",
       "        <table>\n",
       "            <tr>\n",
       "                <td title=\"Minimum value of function\">FCN = -17.999997281186666</td>\n",
       "                <td title=\"Total number of call to FCN so far\">TOTAL NCALL = 36</td>\n",
       "                <td title=\"Number of call in last migrad\">NCALLS = 36</td>\n",
       "            </tr>\n",
       "            <tr>\n",
       "                <td title=\"Estimated distance to minimum\">EDM = 2.7187527367825896e-06</td>\n",
       "                <td title=\"Maximum EDM definition of convergence\">GOAL EDM = 1e-05</td>\n",
       "                <td title=\"Error def. Amount of increase in FCN to be defined as 1 standard deviation\">\n",
       "                UP = 1.0</td>\n",
       "            </tr>\n",
       "        </table>\n",
       "        \n",
       "        <table>\n",
       "            <tr>\n",
       "                <td align=\"center\" title=\"Validity of the migrad call\">Valid</td>\n",
       "                <td align=\"center\" title=\"Validity of parameters\">Valid Param</td>\n",
       "                <td align=\"center\" title=\"Is Covariance matrix accurate?\">Accurate Covar</td>\n",
       "                <td align=\"center\" title=\"Positive definiteness of covariance matrix\">PosDef</td>\n",
       "                <td align=\"center\" title=\"Was covariance matrix made posdef by adding diagonal element\">Made PosDef</td>\n",
       "            </tr>\n",
       "            <tr>\n",
       "                <td align=\"center\" style=\"background-color:#92CCA6\">True</td>\n",
       "                <td align=\"center\" style=\"background-color:#92CCA6\">True</td>\n",
       "                <td align=\"center\" style=\"background-color:#92CCA6\">True</td>\n",
       "                <td align=\"center\" style=\"background-color:#92CCA6\">True</td>\n",
       "                <td align=\"center\" style=\"background-color:#92CCA6\">False</td>\n",
       "            </tr>\n",
       "            <tr>\n",
       "                <td align=\"center\" title=\"Was last hesse call fail?\">Hesse Fail</td>\n",
       "                <td align=\"center\" title=\"Validity of covariance\">HasCov</td>\n",
       "                <td align=\"center\" title=\"Is EDM above goal EDM?\">Above EDM</td>\n",
       "                <td align=\"center\"></td>\n",
       "                <td align=\"center\" title=\"Did last migrad call reach max call limit?\">Reach calllim</td>\n",
       "            </tr>\n",
       "            <tr>\n",
       "                <td align=\"center\" style=\"background-color:#92CCA6\">False</td>\n",
       "                <td align=\"center\" style=\"background-color:#92CCA6\">True</td>\n",
       "                <td align=\"center\" style=\"background-color:#92CCA6\">False</td>\n",
       "                <td align=\"center\"></td>\n",
       "                <td align=\"center\" style=\"background-color:#92CCA6\">False</td>\n",
       "            </tr>\n",
       "        </table>\n",
       "        "
      ]
     },
     "metadata": {},
     "output_type": "display_data"
    },
    {
     "data": {
      "text/html": [
       "\n",
       "        <table>\n",
       "            <tr>\n",
       "                <td><a href=\"#\" onclick=\"$('#rxqvUgfLnk').toggle()\">+</a></td>\n",
       "                <td title=\"Variable name\">Name</td>\n",
       "                <td title=\"Value of parameter\">Value</td>\n",
       "                <td title=\"Parabolic error\">Parab Error</td>\n",
       "                <td title=\"Minos lower error\">Minos Error-</td>\n",
       "                <td title=\"Minos upper error\">Minos Error+</td>\n",
       "                <td title=\"Lower limit of the parameter\">Limit-</td>\n",
       "                <td title=\"Upper limit of the parameter\">Limit+</td>\n",
       "                <td title=\"Is the parameter fixed in the fit\">FIXED</td>\n",
       "            </tr>\n",
       "        \n",
       "            <tr>\n",
       "                <td>1</td>\n",
       "                <td>a</td>\n",
       "                <td>0.999823</td>\n",
       "                <td>0.526788</td>\n",
       "                <td>0</td>\n",
       "                <td>0</td>\n",
       "                <td>-10.0</td>\n",
       "                <td>10.0</td>\n",
       "                <td></td>\n",
       "            </tr>\n",
       "            \n",
       "            <tr>\n",
       "                <td>2</td>\n",
       "                <td>b</td>\n",
       "                <td>1.99935</td>\n",
       "                <td>0.526776</td>\n",
       "                <td>0</td>\n",
       "                <td>0</td>\n",
       "                <td>-10.0</td>\n",
       "                <td>10.0</td>\n",
       "                <td></td>\n",
       "            </tr>\n",
       "            \n",
       "            </table>\n",
       "        \n",
       "            <pre id=\"rxqvUgfLnk\" style=\"display:none;\">\n",
       "            <textarea rows=\"10\" cols=\"50\" onclick=\"this.select()\" readonly>\\begin{tabular}{|c|r|r|r|r|r|r|r|c|}\n",
       "\\hline\n",
       " & Name & Value & Para Error & Error+ & Error- & Limit+ & Limit- & FIXED\\\\\n",
       "\\hline\n",
       "1 & a & 9.998e-01 & 5.268e-01 &  &  & -1.000e+01 & 1.000e+01 & \\\\\n",
       "\\hline\n",
       "2 & b & 1.999e+00 & 5.268e-01 &  &  & -1.000e+01 & 1.000e+01 & \\\\\n",
       "\\hline\n",
       "\\end{tabular}</textarea>\n",
       "            </pre>\n",
       "            "
      ]
     },
     "metadata": {},
     "output_type": "display_data"
    },
    {
     "data": {
      "text/html": [
       "<hr>"
      ]
     },
     "metadata": {},
     "output_type": "display_data"
    },
    {
     "data": {
      "text/plain": [
       "({'fval': -17.999997281186666, 'edm': 2.7187527367825896e-06, 'nfcn': 36, 'up': 1.0, 'is_valid': True, 'has_valid_parameters': True, 'has_accurate_covar': True, 'has_posdef_covar': True, 'has_made_posdef_covar': False, 'hesse_failed': False, 'has_covariance': True, 'is_above_max_edm': False, 'has_reached_call_limit': False},\n",
       " [{'number': 0, 'name': 'a', 'value': 0.9998227792225478, 'error': 0.5267876810263843, 'is_const': False, 'is_fixed': False, 'has_limits': True, 'has_lower_limit': True, 'has_upper_limit': True, 'lower_limit': -10.0, 'upper_limit': 10.0},\n",
       "  {'number': 1, 'name': 'b', 'value': 1.9993477581584944, 'error': 0.5267762744877214, 'is_const': False, 'is_fixed': False, 'has_limits': True, 'has_lower_limit': True, 'has_upper_limit': True, 'lower_limit': -10.0, 'upper_limit': 10.0}])"
      ]
     },
     "execution_count": 4,
     "metadata": {},
     "output_type": "execute_result"
    }
   ],
   "source": [
    "m.migrad()"
   ]
  },
  {
   "cell_type": "markdown",
   "metadata": {},
   "source": [
    "Значения параметров."
   ]
  },
  {
   "cell_type": "code",
   "execution_count": 5,
   "metadata": {},
   "outputs": [
    {
     "data": {
      "text/plain": [
       "{'a': 0.9998227792225478, 'b': 1.9993477581584944}"
      ]
     },
     "execution_count": 5,
     "metadata": {},
     "output_type": "execute_result"
    }
   ],
   "source": [
    "m.values"
   ]
  },
  {
   "cell_type": "markdown",
   "metadata": {},
   "source": [
    "Значение функции в точке минимума."
   ]
  },
  {
   "cell_type": "code",
   "execution_count": 6,
   "metadata": {},
   "outputs": [
    {
     "data": {
      "text/plain": [
       "-17.999997281186666"
      ]
     },
     "execution_count": 6,
     "metadata": {},
     "output_type": "execute_result"
    }
   ],
   "source": [
    "m.fval"
   ]
  },
  {
   "cell_type": "markdown",
   "metadata": {},
   "source": [
    "Ошибки параметров."
   ]
  },
  {
   "cell_type": "code",
   "execution_count": 7,
   "metadata": {},
   "outputs": [
    {
     "data": {
      "text/plain": [
       "{'a': 0.5267876810263843, 'b': 0.5267762744877214}"
      ]
     },
     "execution_count": 7,
     "metadata": {},
     "output_type": "execute_result"
    }
   ],
   "source": [
    "m.errors"
   ]
  },
  {
   "cell_type": "markdown",
   "metadata": {},
   "source": [
    "Если, скажем, $a$ - наш окончательный физический результат, то мы напишем в статье $a=1\\pm0.5$. На самом деле у нас есть больше информации, поскольку ошибки $a$ и $b$ сильно скоррелированы. Матрица корреляции ошибок:"
   ]
  },
  {
   "cell_type": "code",
   "execution_count": 8,
   "metadata": {},
   "outputs": [
    {
     "data": {
      "text/plain": [
       "((0.27776493841711364, 0.22220727646667665),\n",
       " (0.22220727646667665, 0.27776101882046583))"
      ]
     },
     "execution_count": 8,
     "metadata": {},
     "output_type": "execute_result"
    }
   ],
   "source": [
    "m.matrix()"
   ]
  },
  {
   "cell_type": "markdown",
   "metadata": {},
   "source": [
    "Минимизация квадратичной формы сводится к решению системы линейных уравнений, а матрица корреляции ошибок - обратная матрица этой системы. В таком простом случае не имеет смысла использовать инструмент минимизации произвольных функций, такой, как Minuit."
   ]
  },
  {
   "cell_type": "code",
   "execution_count": 9,
   "metadata": {},
   "outputs": [
    {
     "data": {
      "text/plain": [
       "array([[ 0.27777778,  0.22222222],\n",
       "       [ 0.22222222,  0.27777778]])"
      ]
     },
     "execution_count": 9,
     "metadata": {},
     "output_type": "execute_result"
    }
   ],
   "source": [
    "M=array([[10.,-8.],[-8.,10.]])\n",
    "M=inv(M)\n",
    "M"
   ]
  },
  {
   "cell_type": "code",
   "execution_count": 10,
   "metadata": {},
   "outputs": [
    {
     "data": {
      "text/plain": [
       "array([[ 1.],\n",
       "       [ 2.]])"
      ]
     },
     "execution_count": 10,
     "metadata": {},
     "output_type": "execute_result"
    }
   ],
   "source": [
    "M@array([[-6],[12]])"
   ]
  },
  {
   "cell_type": "markdown",
   "metadata": {},
   "source": [
    "Нарисуем контуры, соответствующие отклонению на 1, 2 и 3 сигмы от оптимальной точки."
   ]
  },
  {
   "cell_type": "code",
   "execution_count": 11,
   "metadata": {},
   "outputs": [
    {
     "data": {
      "text/plain": [
       "(array([-1.03835166, -0.997266  , -0.95618035, -0.9150947 , -0.87400905,\n",
       "        -0.8329234 , -0.79183775, -0.7507521 , -0.70966645, -0.6685808 ,\n",
       "        -0.62749514, -0.58640949, -0.54532384, -0.50423819, -0.46315254,\n",
       "        -0.42206689, -0.38098124, -0.33989559, -0.29880994, -0.25772428,\n",
       "        -0.21663863, -0.17555298, -0.13446733, -0.09338168, -0.05229603,\n",
       "        -0.01121038,  0.02987527,  0.07096092,  0.11204657,  0.15313223,\n",
       "         0.19421788,  0.23530353,  0.27638918,  0.31747483,  0.35856048,\n",
       "         0.39964613,  0.44073178,  0.48181743,  0.52290309,  0.56398874,\n",
       "         0.60507439,  0.64616004,  0.68724569,  0.72833134,  0.76941699,\n",
       "         0.81050264,  0.85158829,  0.89267395,  0.9337596 ,  0.97484525,\n",
       "         1.0159309 ,  1.05701655,  1.0981022 ,  1.13918785,  1.1802735 ,\n",
       "         1.22135915,  1.26244481,  1.30353046,  1.34461611,  1.38570176,\n",
       "         1.42678741,  1.46787306,  1.50895871,  1.55004436,  1.59113001,\n",
       "         1.63221567,  1.67330132,  1.71438697,  1.75547262,  1.79655827,\n",
       "         1.83764392,  1.87872957,  1.91981522,  1.96090087,  2.00198652,\n",
       "         2.04307218,  2.08415783,  2.12524348,  2.16632913,  2.20741478,\n",
       "         2.24850043,  2.28958608,  2.33067173,  2.37175738,  2.41284304,\n",
       "         2.45392869,  2.49501434,  2.53609999,  2.57718564,  2.61827129,\n",
       "         2.65935694,  2.70044259,  2.74152824,  2.7826139 ,  2.82369955,\n",
       "         2.8647852 ,  2.90587085,  2.9469565 ,  2.98804215,  3.0291278 ]),\n",
       " array([ -3.83516801e-02,   2.73397445e-03,   4.38196290e-02,\n",
       "          8.49052835e-02,   1.25990938e-01,   1.67076592e-01,\n",
       "          2.08162247e-01,   2.49247901e-01,   2.90333556e-01,\n",
       "          3.31419210e-01,   3.72504865e-01,   4.13590519e-01,\n",
       "          4.54676174e-01,   4.95761828e-01,   5.36847483e-01,\n",
       "          5.77933138e-01,   6.19018792e-01,   6.60104447e-01,\n",
       "          7.01190101e-01,   7.42275756e-01,   7.83361410e-01,\n",
       "          8.24447065e-01,   8.65532719e-01,   9.06618374e-01,\n",
       "          9.47704028e-01,   9.88789683e-01,   1.02987534e+00,\n",
       "          1.07096099e+00,   1.11204665e+00,   1.15313230e+00,\n",
       "          1.19421796e+00,   1.23530361e+00,   1.27638926e+00,\n",
       "          1.31747492e+00,   1.35856057e+00,   1.39964623e+00,\n",
       "          1.44073188e+00,   1.48181754e+00,   1.52290319e+00,\n",
       "          1.56398885e+00,   1.60507450e+00,   1.64616015e+00,\n",
       "          1.68724581e+00,   1.72833146e+00,   1.76941712e+00,\n",
       "          1.81050277e+00,   1.85158843e+00,   1.89267408e+00,\n",
       "          1.93375974e+00,   1.97484539e+00,   2.01593105e+00,\n",
       "          2.05701670e+00,   2.09810235e+00,   2.13918801e+00,\n",
       "          2.18027366e+00,   2.22135932e+00,   2.26244497e+00,\n",
       "          2.30353063e+00,   2.34461628e+00,   2.38570194e+00,\n",
       "          2.42678759e+00,   2.46787324e+00,   2.50895890e+00,\n",
       "          2.55004455e+00,   2.59113021e+00,   2.63221586e+00,\n",
       "          2.67330152e+00,   2.71438717e+00,   2.75547283e+00,\n",
       "          2.79655848e+00,   2.83764414e+00,   2.87872979e+00,\n",
       "          2.91981544e+00,   2.96090110e+00,   3.00198675e+00,\n",
       "          3.04307241e+00,   3.08415806e+00,   3.12524372e+00,\n",
       "          3.16632937e+00,   3.20741503e+00,   3.24850068e+00,\n",
       "          3.28958633e+00,   3.33067199e+00,   3.37175764e+00,\n",
       "          3.41284330e+00,   3.45392895e+00,   3.49501461e+00,\n",
       "          3.53610026e+00,   3.57718592e+00,   3.61827157e+00,\n",
       "          3.65935723e+00,   3.70044288e+00,   3.74152853e+00,\n",
       "          3.78261419e+00,   3.82369984e+00,   3.86478550e+00,\n",
       "          3.90587115e+00,   3.94695681e+00,   3.98804246e+00,\n",
       "          4.02912812e+00]),\n",
       " masked_array(data =\n",
       "  [[-- -- -- ..., -- -- --]\n",
       "  [-- -- -- ..., -- -- --]\n",
       "  [-- -- -- ..., -- -- --]\n",
       "  ..., \n",
       "  [-- -- -- ..., -- -- --]\n",
       "  [-- -- -- ..., -- -- --]\n",
       "  [-- -- -- ..., -- -- --]],\n",
       "              mask =\n",
       "  [[ True  True  True ...,  True  True  True]\n",
       "  [ True  True  True ...,  True  True  True]\n",
       "  [ True  True  True ...,  True  True  True]\n",
       "  ..., \n",
       "  [ True  True  True ...,  True  True  True]\n",
       "  [ True  True  True ...,  True  True  True]\n",
       "  [ True  True  True ...,  True  True  True]],\n",
       "        fill_value = 1e+20),\n",
       " <matplotlib.contour.QuadContourSet at 0x7fb2f8a9a940>)"
      ]
     },
     "execution_count": 11,
     "metadata": {},
     "output_type": "execute_result"
    },
    {
     "data": {
      "image/png": "[encoded data removed]",
      "text/plain": [
       "<matplotlib.figure.Figure at 0x7fb2fafde320>"
      ]
     },
     "metadata": {},
     "output_type": "display_data"
    }
   ],
   "source": [
    "m.draw_mncontour('a','b',nsigma=3)"
   ]
  },
  {
   "cell_type": "markdown",
   "metadata": {},
   "source": [
    "То же в виде цветов."
   ]
  },
  {
   "cell_type": "code",
   "execution_count": 12,
   "metadata": {},
   "outputs": [
    {
     "data": {
      "text/plain": [
       "<matplotlib.colorbar.Colorbar at 0x7fb2f8a136d8>"
      ]
     },
     "execution_count": 12,
     "metadata": {},
     "output_type": "execute_result"
    },
    {
     "data": {
      "image/png": "[encoded data removed]",
      "text/plain": [
       "<matplotlib.figure.Figure at 0x7fb2f89ff0b8>"
      ]
     },
     "metadata": {},
     "output_type": "display_data"
    }
   ],
   "source": [
    "a,b,g,r=m.mncontour_grid('a','b',nsigma=3)\n",
    "pcolormesh(a,b,g)\n",
    "colorbar()"
   ]
  },
  {
   "cell_type": "markdown",
   "metadata": {},
   "source": [
    "## Дайте мне 3 параметра, и я профитирую слона. С 4 параметрами он будет махать хоботом.\n",
    "\n",
    "Пусть у нас есть экспериментальные данные, и мы хотим профитировать их прямой."
   ]
  },
  {
   "cell_type": "code",
   "execution_count": 13,
   "metadata": {
    "collapsed": true
   },
   "outputs": [],
   "source": [
    "def fit(a,b,x):\n",
    "    return a*x+b"
   ]
  },
  {
   "cell_type": "markdown",
   "metadata": {},
   "source": [
    "Данные не настоящие, а сгенерированные. Все имеют ошибки 0.1."
   ]
  },
  {
   "cell_type": "code",
   "execution_count": 14,
   "metadata": {
    "collapsed": true
   },
   "outputs": [],
   "source": [
    "x=linspace(0,1,11)\n",
    "dy=0.1*ones(11)\n",
    "y=x+dy*normal(size=11)"
   ]
  },
  {
   "cell_type": "markdown",
   "metadata": {},
   "source": [
    "Функция $\\chi^2$."
   ]
  },
  {
   "cell_type": "code",
   "execution_count": 15,
   "metadata": {
    "collapsed": true
   },
   "outputs": [],
   "source": [
    "def chi2(a,b):\n",
    "    global x,y,dy\n",
    "    return (((y-fit(a,b,x))/dy)**2).sum()"
   ]
  },
  {
   "cell_type": "markdown",
   "metadata": {},
   "source": [
    "Минимизируем."
   ]
  },
  {
   "cell_type": "code",
   "execution_count": 16,
   "metadata": {},
   "outputs": [
    {
     "name": "stderr",
     "output_type": "stream",
     "text": [
      "/usr/lib64/python3.6/site-packages/ipykernel_launcher.py:1: InitialParamWarning: errordef is not given. Default to 1.\n",
      "  \"\"\"Entry point for launching an IPython kernel.\n"
     ]
    }
   ],
   "source": [
    "m=Minuit(chi2,a=0,b=0,error_a=1,error_b=1)"
   ]
  },
  {
   "cell_type": "code",
   "execution_count": 17,
   "metadata": {},
   "outputs": [
    {
     "data": {
      "text/html": [
       "<hr>"
      ]
     },
     "metadata": {},
     "output_type": "display_data"
    },
    {
     "data": {
      "text/html": [
       "\n",
       "        <table>\n",
       "            <tr>\n",
       "                <td title=\"Minimum value of function\">FCN = 17.644418929505377</td>\n",
       "                <td title=\"Total number of call to FCN so far\">TOTAL NCALL = 32</td>\n",
       "                <td title=\"Number of call in last migrad\">NCALLS = 32</td>\n",
       "            </tr>\n",
       "            <tr>\n",
       "                <td title=\"Estimated distance to minimum\">EDM = 4.646403811874004e-23</td>\n",
       "                <td title=\"Maximum EDM definition of convergence\">GOAL EDM = 1e-05</td>\n",
       "                <td title=\"Error def. Amount of increase in FCN to be defined as 1 standard deviation\">\n",
       "                UP = 1.0</td>\n",
       "            </tr>\n",
       "        </table>\n",
       "        \n",
       "        <table>\n",
       "            <tr>\n",
       "                <td align=\"center\" title=\"Validity of the migrad call\">Valid</td>\n",
       "                <td align=\"center\" title=\"Validity of parameters\">Valid Param</td>\n",
       "                <td align=\"center\" title=\"Is Covariance matrix accurate?\">Accurate Covar</td>\n",
       "                <td align=\"center\" title=\"Positive definiteness of covariance matrix\">PosDef</td>\n",
       "                <td align=\"center\" title=\"Was covariance matrix made posdef by adding diagonal element\">Made PosDef</td>\n",
       "            </tr>\n",
       "            <tr>\n",
       "                <td align=\"center\" style=\"background-color:#92CCA6\">True</td>\n",
       "                <td align=\"center\" style=\"background-color:#92CCA6\">True</td>\n",
       "                <td align=\"center\" style=\"background-color:#92CCA6\">True</td>\n",
       "                <td align=\"center\" style=\"background-color:#92CCA6\">True</td>\n",
       "                <td align=\"center\" style=\"background-color:#92CCA6\">False</td>\n",
       "            </tr>\n",
       "            <tr>\n",
       "                <td align=\"center\" title=\"Was last hesse call fail?\">Hesse Fail</td>\n",
       "                <td align=\"center\" title=\"Validity of covariance\">HasCov</td>\n",
       "                <td align=\"center\" title=\"Is EDM above goal EDM?\">Above EDM</td>\n",
       "                <td align=\"center\"></td>\n",
       "                <td align=\"center\" title=\"Did last migrad call reach max call limit?\">Reach calllim</td>\n",
       "            </tr>\n",
       "            <tr>\n",
       "                <td align=\"center\" style=\"background-color:#92CCA6\">False</td>\n",
       "                <td align=\"center\" style=\"background-color:#92CCA6\">True</td>\n",
       "                <td align=\"center\" style=\"background-color:#92CCA6\">False</td>\n",
       "                <td align=\"center\"></td>\n",
       "                <td align=\"center\" style=\"background-color:#92CCA6\">False</td>\n",
       "            </tr>\n",
       "        </table>\n",
       "        "
      ]
     },
     "metadata": {},
     "output_type": "display_data"
    },
    {
     "data": {
      "text/html": [
       "\n",
       "        <table>\n",
       "            <tr>\n",
       "                <td><a href=\"#\" onclick=\"$('#YzAjtflJGx').toggle()\">+</a></td>\n",
       "                <td title=\"Variable name\">Name</td>\n",
       "                <td title=\"Value of parameter\">Value</td>\n",
       "                <td title=\"Parabolic error\">Parab Error</td>\n",
       "                <td title=\"Minos lower error\">Minos Error-</td>\n",
       "                <td title=\"Minos upper error\">Minos Error+</td>\n",
       "                <td title=\"Lower limit of the parameter\">Limit-</td>\n",
       "                <td title=\"Upper limit of the parameter\">Limit+</td>\n",
       "                <td title=\"Is the parameter fixed in the fit\">FIXED</td>\n",
       "            </tr>\n",
       "        \n",
       "            <tr>\n",
       "                <td>1</td>\n",
       "                <td>a</td>\n",
       "                <td>1.06563</td>\n",
       "                <td>0.0953463</td>\n",
       "                <td>0</td>\n",
       "                <td>0</td>\n",
       "                <td></td>\n",
       "                <td></td>\n",
       "                <td></td>\n",
       "            </tr>\n",
       "            \n",
       "            <tr>\n",
       "                <td>2</td>\n",
       "                <td>b</td>\n",
       "                <td>-0.0337525</td>\n",
       "                <td>0.0564076</td>\n",
       "                <td>0</td>\n",
       "                <td>0</td>\n",
       "                <td></td>\n",
       "                <td></td>\n",
       "                <td></td>\n",
       "            </tr>\n",
       "            \n",
       "            </table>\n",
       "        \n",
       "            <pre id=\"YzAjtflJGx\" style=\"display:none;\">\n",
       "            <textarea rows=\"10\" cols=\"50\" onclick=\"this.select()\" readonly>\\begin{tabular}{|c|r|r|r|r|r|r|r|c|}\n",
       "\\hline\n",
       " & Name & Value & Para Error & Error+ & Error- & Limit+ & Limit- & FIXED\\\\\n",
       "\\hline\n",
       "1 & a & 1.066e+00 & 9.535e-02 &  &  &  &  & \\\\\n",
       "\\hline\n",
       "2 & b & -3.375e-02 & 5.641e-02 &  &  &  &  & \\\\\n",
       "\\hline\n",
       "\\end{tabular}</textarea>\n",
       "            </pre>\n",
       "            "
      ]
     },
     "metadata": {},
     "output_type": "display_data"
    },
    {
     "data": {
      "text/html": [
       "<hr>"
      ]
     },
     "metadata": {},
     "output_type": "display_data"
    },
    {
     "data": {
      "text/plain": [
       "({'fval': 17.644418929505377, 'edm': 4.646403811874004e-23, 'nfcn': 32, 'up': 1.0, 'is_valid': True, 'has_valid_parameters': True, 'has_accurate_covar': True, 'has_posdef_covar': True, 'has_made_posdef_covar': False, 'hesse_failed': False, 'has_covariance': True, 'is_above_max_edm': False, 'has_reached_call_limit': False},\n",
       " [{'number': 0, 'name': 'a', 'value': 1.0656301806229376, 'error': 0.09534625880413838, 'is_const': False, 'is_fixed': False, 'has_limits': False, 'has_lower_limit': False, 'has_upper_limit': False, 'lower_limit': 0.0, 'upper_limit': 0.0},\n",
       "  {'number': 1, 'name': 'b', 'value': -0.03375249916931122, 'error': 0.05640760739068982, 'is_const': False, 'is_fixed': False, 'has_limits': False, 'has_lower_limit': False, 'has_upper_limit': False, 'lower_limit': 0.0, 'upper_limit': 0.0}])"
      ]
     },
     "execution_count": 17,
     "metadata": {},
     "output_type": "execute_result"
    }
   ],
   "source": [
    "m.migrad()"
   ]
  },
  {
   "cell_type": "code",
   "execution_count": 18,
   "metadata": {},
   "outputs": [
    {
     "data": {
      "text/plain": [
       "{'a': 1.0656301806229376, 'b': -0.03375249916931122}"
      ]
     },
     "execution_count": 18,
     "metadata": {},
     "output_type": "execute_result"
    }
   ],
   "source": [
    "m.values"
   ]
  },
  {
   "cell_type": "code",
   "execution_count": 19,
   "metadata": {},
   "outputs": [
    {
     "data": {
      "text/plain": [
       "17.644418929505377"
      ]
     },
     "execution_count": 19,
     "metadata": {},
     "output_type": "execute_result"
    }
   ],
   "source": [
    "m.fval"
   ]
  },
  {
   "cell_type": "code",
   "execution_count": 20,
   "metadata": {},
   "outputs": [
    {
     "data": {
      "text/plain": [
       "((0.009090909067945735, -0.004545454529982192),\n",
       " (-0.004545454529982192, 0.0031818181715422044))"
      ]
     },
     "execution_count": 20,
     "metadata": {},
     "output_type": "execute_result"
    }
   ],
   "source": [
    "m.matrix()"
   ]
  },
  {
   "cell_type": "code",
   "execution_count": 21,
   "metadata": {},
   "outputs": [
    {
     "data": {
      "text/plain": [
       "(array([ 0.69687852,  0.7043112 ,  0.71174387,  0.71917655,  0.72660922,\n",
       "         0.7340419 ,  0.74147457,  0.74890724,  0.75633992,  0.76377259,\n",
       "         0.77120527,  0.77863794,  0.78607062,  0.79350329,  0.80093596,\n",
       "         0.80836864,  0.81580131,  0.82323399,  0.83066666,  0.83809934,\n",
       "         0.84553201,  0.85296468,  0.86039736,  0.86783003,  0.87526271,\n",
       "         0.88269538,  0.89012806,  0.89756073,  0.9049934 ,  0.91242608,\n",
       "         0.91985875,  0.92729143,  0.9347241 ,  0.94215678,  0.94958945,\n",
       "         0.95702212,  0.9644548 ,  0.97188747,  0.97932015,  0.98675282,\n",
       "         0.9941855 ,  1.00161817,  1.00905084,  1.01648352,  1.02391619,\n",
       "         1.03134887,  1.03878154,  1.04621422,  1.05364689,  1.06107956,\n",
       "         1.06851224,  1.07594491,  1.08337759,  1.09081026,  1.09824294,\n",
       "         1.10567561,  1.11310828,  1.12054096,  1.12797363,  1.13540631,\n",
       "         1.14283898,  1.15027166,  1.15770433,  1.165137  ,  1.17256968,\n",
       "         1.18000235,  1.18743503,  1.1948677 ,  1.20230037,  1.20973305,\n",
       "         1.21716572,  1.2245984 ,  1.23203107,  1.23946375,  1.24689642,\n",
       "         1.25432909,  1.26176177,  1.26919444,  1.27662712,  1.28405979,\n",
       "         1.29149247,  1.29892514,  1.30635781,  1.31379049,  1.32122316,\n",
       "         1.32865584,  1.33608851,  1.34352119,  1.35095386,  1.35838653,\n",
       "         1.36581921,  1.37325188,  1.38068456,  1.38811723,  1.39554991,\n",
       "         1.40298258,  1.41041525,  1.41784793,  1.4252806 ,  1.43271328]),\n",
       " array([-0.25190892, -0.24751169, -0.24311446, -0.23871723, -0.23432   ,\n",
       "        -0.22992277, -0.22552554, -0.22112832, -0.21673109, -0.21233386,\n",
       "        -0.20793663, -0.2035394 , -0.19914217, -0.19474494, -0.19034771,\n",
       "        -0.18595048, -0.18155325, -0.17715602, -0.17275879, -0.16836156,\n",
       "        -0.16396433, -0.1595671 , -0.15516987, -0.15077264, -0.14637542,\n",
       "        -0.14197819, -0.13758096, -0.13318373, -0.1287865 , -0.12438927,\n",
       "        -0.11999204, -0.11559481, -0.11119758, -0.10680035, -0.10240312,\n",
       "        -0.09800589, -0.09360866, -0.08921143, -0.0848142 , -0.08041697,\n",
       "        -0.07601975, -0.07162252, -0.06722529, -0.06282806, -0.05843083,\n",
       "        -0.0540336 , -0.04963637, -0.04523914, -0.04084191, -0.03644468,\n",
       "        -0.03204745, -0.02765022, -0.02325299, -0.01885576, -0.01445853,\n",
       "        -0.0100613 , -0.00566407, -0.00126685,  0.00313038,  0.00752761,\n",
       "         0.01192484,  0.01632207,  0.0207193 ,  0.02511653,  0.02951376,\n",
       "         0.03391099,  0.03830822,  0.04270545,  0.04710268,  0.05149991,\n",
       "         0.05589714,  0.06029437,  0.0646916 ,  0.06908883,  0.07348605,\n",
       "         0.07788328,  0.08228051,  0.08667774,  0.09107497,  0.0954722 ,\n",
       "         0.09986943,  0.10426666,  0.10866389,  0.11306112,  0.11745835,\n",
       "         0.12185558,  0.12625281,  0.13065004,  0.13504727,  0.1394445 ,\n",
       "         0.14384173,  0.14823895,  0.15263618,  0.15703341,  0.16143064,\n",
       "         0.16582787,  0.1702251 ,  0.17462233,  0.17901956,  0.18341679]),\n",
       " masked_array(data =\n",
       "  [[-- -- -- ..., -- -- --]\n",
       "  [-- -- -- ..., -- -- --]\n",
       "  [-- -- -- ..., -- -- --]\n",
       "  ..., \n",
       "  [-- -- -- ..., -- -- --]\n",
       "  [-- -- -- ..., -- -- --]\n",
       "  [-- -- -- ..., -- -- --]],\n",
       "              mask =\n",
       "  [[ True  True  True ...,  True  True  True]\n",
       "  [ True  True  True ...,  True  True  True]\n",
       "  [ True  True  True ...,  True  True  True]\n",
       "  ..., \n",
       "  [ True  True  True ...,  True  True  True]\n",
       "  [ True  True  True ...,  True  True  True]\n",
       "  [ True  True  True ...,  True  True  True]],\n",
       "        fill_value = 1e+20),\n",
       " <matplotlib.contour.QuadContourSet at 0x7fb2f8867780>)"
      ]
     },
     "execution_count": 21,
     "metadata": {},
     "output_type": "execute_result"
    },
    {
     "data": {
      "image/png": "[encoded data removed]",
      "text/plain": [
       "<matplotlib.figure.Figure at 0x7fb2f8a766a0>"
      ]
     },
     "metadata": {},
     "output_type": "display_data"
    }
   ],
   "source": [
    "m.draw_mncontour('a','b',nsigma=3)"
   ]
  },
  {
   "cell_type": "code",
   "execution_count": 22,
   "metadata": {},
   "outputs": [
    {
     "data": {
      "text/plain": [
       "<matplotlib.colorbar.Colorbar at 0x7fb2f887fb70>"
      ]
     },
     "execution_count": 22,
     "metadata": {},
     "output_type": "execute_result"
    },
    {
     "data": {
      "image/png": "[encoded data removed]",
      "text/plain": [
       "<matplotlib.figure.Figure at 0x7fb2f88cf400>"
      ]
     },
     "metadata": {},
     "output_type": "display_data"
    }
   ],
   "source": [
    "a,b,g,r=m.mncontour_grid('a','b',nsigma=3)\n",
    "pcolormesh(a,b,g)\n",
    "colorbar()"
   ]
  },
  {
   "cell_type": "markdown",
   "metadata": {},
   "source": [
    "Нарисуем на одном графике экспериментальные точки, наш фит (сплошная линия) и истинную теоретическую кривую (пунктир)."
   ]
  },
  {
   "cell_type": "code",
   "execution_count": 23,
   "metadata": {},
   "outputs": [
    {
     "data": {
      "text/plain": [
       "[<matplotlib.lines.Line2D at 0x7fb2f86c1d30>]"
      ]
     },
     "execution_count": 23,
     "metadata": {},
     "output_type": "execute_result"
    },
    {
     "data": {
      "image/png": "[encoded data removed]",
      "text/plain": [
       "<matplotlib.figure.Figure at 0x7fb2f86c1f98>"
      ]
     },
     "metadata": {},
     "output_type": "display_data"
    }
   ],
   "source": [
    "errorbar(x,y,dy,fmt='ro')\n",
    "xt=linspace(0,1,101)\n",
    "plot(xt,fit(m.values['a'],m.values['b'],xt),'b-')\n",
    "plot(xt,fit(1,0,xt),'g--')"
   ]
  },
  {
   "cell_type": "markdown",
   "metadata": {},
   "source": [
    "Когда фитирующая функция есть линейная комбинация каких-то фиксированных функций с неизвестными коэффициентами, минимизация $\\chi^2$ сводится к решению системы линейных уравнений. Нет надобности использовать Minuit.\n",
    "\n",
    "## Резонанс без фона\n",
    "\n",
    "Пусть теперь наша фитирующая функция - Брейт-Вигнеровский резонанс (без фона), с двумя параметрами - положением и шириной (лучше бы ввести третий - высоту, но я не стал этого делать для простоты). Теперь $\\chi^2$ - сложная нелинейная функция параметров."
   ]
  },
  {
   "cell_type": "code",
   "execution_count": 24,
   "metadata": {
    "collapsed": true
   },
   "outputs": [],
   "source": [
    "def fit(x0,Gamma,x):\n",
    "    return 1/((x-x0)**2+Gamma**2)"
   ]
  },
  {
   "cell_type": "markdown",
   "metadata": {},
   "source": [
    "Вот наши экспериментальные данные (с ошибками 0.1)."
   ]
  },
  {
   "cell_type": "code",
   "execution_count": 25,
   "metadata": {
    "collapsed": true
   },
   "outputs": [],
   "source": [
    "x=linspace(-3,3,21)\n",
    "dy=0.1*ones(21)\n",
    "y=fit(0,1,x)+dy*normal(size=21)"
   ]
  },
  {
   "cell_type": "markdown",
   "metadata": {},
   "source": [
    "Минимизируем $\\chi^2$."
   ]
  },
  {
   "cell_type": "code",
   "execution_count": 26,
   "metadata": {
    "collapsed": true
   },
   "outputs": [],
   "source": [
    "def chi2(x0,Gamma):\n",
    "    global x,y,dy\n",
    "    return (((y-fit(x0,Gamma,x))/dy)**2).sum()"
   ]
  },
  {
   "cell_type": "code",
   "execution_count": 27,
   "metadata": {},
   "outputs": [
    {
     "name": "stderr",
     "output_type": "stream",
     "text": [
      "/usr/lib64/python3.6/site-packages/ipykernel_launcher.py:1: InitialParamWarning: errordef is not given. Default to 1.\n",
      "  \"\"\"Entry point for launching an IPython kernel.\n"
     ]
    }
   ],
   "source": [
    "m=Minuit(chi2,x0=0,error_x0=1,Gamma=1,error_Gamma=1)"
   ]
  },
  {
   "cell_type": "code",
   "execution_count": 28,
   "metadata": {},
   "outputs": [
    {
     "data": {
      "text/html": [
       "<hr>"
      ]
     },
     "metadata": {},
     "output_type": "display_data"
    },
    {
     "data": {
      "text/html": [
       "\n",
       "        <table>\n",
       "            <tr>\n",
       "                <td title=\"Minimum value of function\">FCN = 35.747379402362355</td>\n",
       "                <td title=\"Total number of call to FCN so far\">TOTAL NCALL = 29</td>\n",
       "                <td title=\"Number of call in last migrad\">NCALLS = 29</td>\n",
       "            </tr>\n",
       "            <tr>\n",
       "                <td title=\"Estimated distance to minimum\">EDM = 1.5113944332374378e-07</td>\n",
       "                <td title=\"Maximum EDM definition of convergence\">GOAL EDM = 1e-05</td>\n",
       "                <td title=\"Error def. Amount of increase in FCN to be defined as 1 standard deviation\">\n",
       "                UP = 1.0</td>\n",
       "            </tr>\n",
       "        </table>\n",
       "        \n",
       "        <table>\n",
       "            <tr>\n",
       "                <td align=\"center\" title=\"Validity of the migrad call\">Valid</td>\n",
       "                <td align=\"center\" title=\"Validity of parameters\">Valid Param</td>\n",
       "                <td align=\"center\" title=\"Is Covariance matrix accurate?\">Accurate Covar</td>\n",
       "                <td align=\"center\" title=\"Positive definiteness of covariance matrix\">PosDef</td>\n",
       "                <td align=\"center\" title=\"Was covariance matrix made posdef by adding diagonal element\">Made PosDef</td>\n",
       "            </tr>\n",
       "            <tr>\n",
       "                <td align=\"center\" style=\"background-color:#92CCA6\">True</td>\n",
       "                <td align=\"center\" style=\"background-color:#92CCA6\">True</td>\n",
       "                <td align=\"center\" style=\"background-color:#92CCA6\">True</td>\n",
       "                <td align=\"center\" style=\"background-color:#92CCA6\">True</td>\n",
       "                <td align=\"center\" style=\"background-color:#92CCA6\">False</td>\n",
       "            </tr>\n",
       "            <tr>\n",
       "                <td align=\"center\" title=\"Was last hesse call fail?\">Hesse Fail</td>\n",
       "                <td align=\"center\" title=\"Validity of covariance\">HasCov</td>\n",
       "                <td align=\"center\" title=\"Is EDM above goal EDM?\">Above EDM</td>\n",
       "                <td align=\"center\"></td>\n",
       "                <td align=\"center\" title=\"Did last migrad call reach max call limit?\">Reach calllim</td>\n",
       "            </tr>\n",
       "            <tr>\n",
       "                <td align=\"center\" style=\"background-color:#92CCA6\">False</td>\n",
       "                <td align=\"center\" style=\"background-color:#92CCA6\">True</td>\n",
       "                <td align=\"center\" style=\"background-color:#92CCA6\">False</td>\n",
       "                <td align=\"center\"></td>\n",
       "                <td align=\"center\" style=\"background-color:#92CCA6\">False</td>\n",
       "            </tr>\n",
       "        </table>\n",
       "        "
      ]
     },
     "metadata": {},
     "output_type": "display_data"
    },
    {
     "data": {
      "text/html": [
       "\n",
       "        <table>\n",
       "            <tr>\n",
       "                <td><a href=\"#\" onclick=\"$('#evsXCOENSj').toggle()\">+</a></td>\n",
       "                <td title=\"Variable name\">Name</td>\n",
       "                <td title=\"Value of parameter\">Value</td>\n",
       "                <td title=\"Parabolic error\">Parab Error</td>\n",
       "                <td title=\"Minos lower error\">Minos Error-</td>\n",
       "                <td title=\"Minos upper error\">Minos Error+</td>\n",
       "                <td title=\"Lower limit of the parameter\">Limit-</td>\n",
       "                <td title=\"Upper limit of the parameter\">Limit+</td>\n",
       "                <td title=\"Is the parameter fixed in the fit\">FIXED</td>\n",
       "            </tr>\n",
       "        \n",
       "            <tr>\n",
       "                <td>1</td>\n",
       "                <td>x0</td>\n",
       "                <td>-0.00899077</td>\n",
       "                <td>0.0659539</td>\n",
       "                <td>0</td>\n",
       "                <td>0</td>\n",
       "                <td></td>\n",
       "                <td></td>\n",
       "                <td></td>\n",
       "            </tr>\n",
       "            \n",
       "            <tr>\n",
       "                <td>2</td>\n",
       "                <td>Gamma</td>\n",
       "                <td>0.991722</td>\n",
       "                <td>0.0266705</td>\n",
       "                <td>0</td>\n",
       "                <td>0</td>\n",
       "                <td></td>\n",
       "                <td></td>\n",
       "                <td></td>\n",
       "            </tr>\n",
       "            \n",
       "            </table>\n",
       "        \n",
       "            <pre id=\"evsXCOENSj\" style=\"display:none;\">\n",
       "            <textarea rows=\"10\" cols=\"50\" onclick=\"this.select()\" readonly>\\begin{tabular}{|c|r|r|r|r|r|r|r|c|}\n",
       "\\hline\n",
       " & Name & Value & Para Error & Error+ & Error- & Limit+ & Limit- & FIXED\\\\\n",
       "\\hline\n",
       "1 & x0 & -8.991e-03 & 6.595e-02 &  &  &  &  & \\\\\n",
       "\\hline\n",
       "2 & $\\Gamma$ & 9.917e-01 & 2.667e-02 &  &  &  &  & \\\\\n",
       "\\hline\n",
       "\\end{tabular}</textarea>\n",
       "            </pre>\n",
       "            "
      ]
     },
     "metadata": {},
     "output_type": "display_data"
    },
    {
     "data": {
      "text/html": [
       "<hr>"
      ]
     },
     "metadata": {},
     "output_type": "display_data"
    },
    {
     "data": {
      "text/plain": [
       "({'fval': 35.747379402362355, 'edm': 1.5113944332374378e-07, 'nfcn': 29, 'up': 1.0, 'is_valid': True, 'has_valid_parameters': True, 'has_accurate_covar': True, 'has_posdef_covar': True, 'has_made_posdef_covar': False, 'hesse_failed': False, 'has_covariance': True, 'is_above_max_edm': False, 'has_reached_call_limit': False},\n",
       " [{'number': 0, 'name': 'x0', 'value': -0.008990774854701301, 'error': 0.06595389618462269, 'is_const': False, 'is_fixed': False, 'has_limits': False, 'has_lower_limit': False, 'has_upper_limit': False, 'lower_limit': 0.0, 'upper_limit': 0.0},\n",
       "  {'number': 1, 'name': 'Gamma', 'value': 0.991722016714531, 'error': 0.026670486505639225, 'is_const': False, 'is_fixed': False, 'has_limits': False, 'has_lower_limit': False, 'has_upper_limit': False, 'lower_limit': 0.0, 'upper_limit': 0.0}])"
      ]
     },
     "execution_count": 28,
     "metadata": {},
     "output_type": "execute_result"
    }
   ],
   "source": [
    "m.migrad()"
   ]
  },
  {
   "cell_type": "code",
   "execution_count": 29,
   "metadata": {},
   "outputs": [
    {
     "data": {
      "text/plain": [
       "{'Gamma': 0.991722016714531, 'x0': -0.008990774854701301}"
      ]
     },
     "execution_count": 29,
     "metadata": {},
     "output_type": "execute_result"
    }
   ],
   "source": [
    "m.values"
   ]
  },
  {
   "cell_type": "code",
   "execution_count": 30,
   "metadata": {},
   "outputs": [
    {
     "data": {
      "text/plain": [
       "35.747379402362355"
      ]
     },
     "execution_count": 30,
     "metadata": {},
     "output_type": "execute_result"
    }
   ],
   "source": [
    "m.fval"
   ]
  },
  {
   "cell_type": "code",
   "execution_count": 31,
   "metadata": {},
   "outputs": [
    {
     "data": {
      "text/plain": [
       "{'Gamma': 0.026670486505639225, 'x0': 0.06595389618462269}"
      ]
     },
     "execution_count": 31,
     "metadata": {},
     "output_type": "execute_result"
    }
   ],
   "source": [
    "m.errors"
   ]
  },
  {
   "cell_type": "code",
   "execution_count": 32,
   "metadata": {},
   "outputs": [
    {
     "data": {
      "text/plain": [
       "((0.004349916421931988, -2.3890408807357486e-05),\n",
       " (-2.3890408807357486e-05, 0.000711314850447484))"
      ]
     },
     "execution_count": 32,
     "metadata": {},
     "output_type": "execute_result"
    }
   ],
   "source": [
    "m.matrix()"
   ]
  },
  {
   "cell_type": "code",
   "execution_count": 33,
   "metadata": {},
   "outputs": [
    {
     "data": {
      "text/plain": [
       "(array([-0.26708525, -0.26191248, -0.25673971, -0.25156695, -0.24639418,\n",
       "        -0.24122141, -0.23604865, -0.23087588, -0.22570312, -0.22053035,\n",
       "        -0.21535758, -0.21018482, -0.20501205, -0.19983928, -0.19466652,\n",
       "        -0.18949375, -0.18432098, -0.17914822, -0.17397545, -0.16880269,\n",
       "        -0.16362992, -0.15845715, -0.15328439, -0.14811162, -0.14293885,\n",
       "        -0.13776609, -0.13259332, -0.12742055, -0.12224779, -0.11707502,\n",
       "        -0.11190226, -0.10672949, -0.10155672, -0.09638396, -0.09121119,\n",
       "        -0.08603842, -0.08086566, -0.07569289, -0.07052012, -0.06534736,\n",
       "        -0.06017459, -0.05500183, -0.04982906, -0.04465629, -0.03948353,\n",
       "        -0.03431076, -0.02913799, -0.02396523, -0.01879246, -0.01361969,\n",
       "        -0.00844693, -0.00327416,  0.0018986 ,  0.00707137,  0.01224414,\n",
       "         0.0174169 ,  0.02258967,  0.02776244,  0.0329352 ,  0.03810797,\n",
       "         0.04328074,  0.0484535 ,  0.05362627,  0.05879903,  0.0639718 ,\n",
       "         0.06914457,  0.07431733,  0.0794901 ,  0.08466287,  0.08983563,\n",
       "         0.0950084 ,  0.10018117,  0.10535393,  0.1105267 ,  0.11569947,\n",
       "         0.12087223,  0.126045  ,  0.13121776,  0.13639053,  0.1415633 ,\n",
       "         0.14673606,  0.15190883,  0.1570816 ,  0.16225436,  0.16742713,\n",
       "         0.1725999 ,  0.17777266,  0.18294543,  0.18811819,  0.19329096,\n",
       "         0.19846373,  0.20363649,  0.20880926,  0.21398203,  0.21915479,\n",
       "         0.22432756,  0.22950033,  0.23467309,  0.23984586,  0.24501862]),\n",
       " array([ 0.89815947,  0.90027003,  0.90238059,  0.90449115,  0.90660171,\n",
       "         0.90871226,  0.91082282,  0.91293338,  0.91504394,  0.9171545 ,\n",
       "         0.91926506,  0.92137561,  0.92348617,  0.92559673,  0.92770729,\n",
       "         0.92981785,  0.93192841,  0.93403896,  0.93614952,  0.93826008,\n",
       "         0.94037064,  0.9424812 ,  0.94459176,  0.94670231,  0.94881287,\n",
       "         0.95092343,  0.95303399,  0.95514455,  0.95725511,  0.95936566,\n",
       "         0.96147622,  0.96358678,  0.96569734,  0.9678079 ,  0.96991846,\n",
       "         0.97202901,  0.97413957,  0.97625013,  0.97836069,  0.98047125,\n",
       "         0.98258181,  0.98469236,  0.98680292,  0.98891348,  0.99102404,\n",
       "         0.9931346 ,  0.99524516,  0.99735572,  0.99946627,  1.00157683,\n",
       "         1.00368739,  1.00579795,  1.00790851,  1.01001907,  1.01212962,\n",
       "         1.01424018,  1.01635074,  1.0184613 ,  1.02057186,  1.02268242,\n",
       "         1.02479297,  1.02690353,  1.02901409,  1.03112465,  1.03323521,\n",
       "         1.03534577,  1.03745632,  1.03956688,  1.04167744,  1.043788  ,\n",
       "         1.04589856,  1.04800912,  1.05011967,  1.05223023,  1.05434079,\n",
       "         1.05645135,  1.05856191,  1.06067247,  1.06278302,  1.06489358,\n",
       "         1.06700414,  1.0691147 ,  1.07122526,  1.07333582,  1.07544637,\n",
       "         1.07755693,  1.07966749,  1.08177805,  1.08388861,  1.08599917,\n",
       "         1.08810972,  1.09022028,  1.09233084,  1.0944414 ,  1.09655196,\n",
       "         1.09866252,  1.10077307,  1.10288363,  1.10499419,  1.10710475]),\n",
       " masked_array(data =\n",
       "  [[-- -- -- ..., -- -- --]\n",
       "  [-- -- -- ..., -- -- --]\n",
       "  [-- -- -- ..., -- -- --]\n",
       "  ..., \n",
       "  [-- -- -- ..., -- -- --]\n",
       "  [-- -- -- ..., -- -- --]\n",
       "  [-- -- -- ..., -- -- --]],\n",
       "              mask =\n",
       "  [[ True  True  True ...,  True  True  True]\n",
       "  [ True  True  True ...,  True  True  True]\n",
       "  [ True  True  True ...,  True  True  True]\n",
       "  ..., \n",
       "  [ True  True  True ...,  True  True  True]\n",
       "  [ True  True  True ...,  True  True  True]\n",
       "  [ True  True  True ...,  True  True  True]],\n",
       "        fill_value = 1e+20),\n",
       " <matplotlib.contour.QuadContourSet at 0x7fb2f85dd4a8>)"
      ]
     },
     "execution_count": 33,
     "metadata": {},
     "output_type": "execute_result"
    },
    {
     "data": {
      "image/png": "[encoded data removed]",
      "text/plain": [
       "<matplotlib.figure.Figure at 0x7fb2f8af9d68>"
      ]
     },
     "metadata": {},
     "output_type": "display_data"
    }
   ],
   "source": [
    "m.draw_mncontour('x0','Gamma',nsigma=3)"
   ]
  },
  {
   "cell_type": "code",
   "execution_count": 34,
   "metadata": {},
   "outputs": [
    {
     "data": {
      "text/plain": [
       "<matplotlib.colorbar.Colorbar at 0x7fb2f85164a8>"
      ]
     },
     "execution_count": 34,
     "metadata": {},
     "output_type": "execute_result"
    },
    {
     "data": {
      "image/png": "[encoded data removed]",
      "text/plain": [
       "<matplotlib.figure.Figure at 0x7fb2f8896470>"
      ]
     },
     "metadata": {},
     "output_type": "display_data"
    }
   ],
   "source": [
    "x0,Gamma,g,r=m.mncontour_grid('x0','Gamma',nsigma=3)\n",
    "pcolormesh(x0,Gamma,g)\n",
    "colorbar()"
   ]
  },
  {
   "cell_type": "markdown",
   "metadata": {},
   "source": [
    "Теперь контуры постоянной высоты $\\chi^2$ - уже не симметричные эллипсы с центром в оптимальной точке, а какие-то сложные кривые. Ошибки положения и ширины резонанса довольно-таки независимы.\n",
    "\n",
    "Нарисуем на одном графике экспериментальные точки, наш фит (сплошная линия) и истинную теоретическую кривую (пунктир)."
   ]
  },
  {
   "cell_type": "code",
   "execution_count": 35,
   "metadata": {},
   "outputs": [
    {
     "data": {
      "text/plain": [
       "[<matplotlib.lines.Line2D at 0x7fb2f8494cf8>]"
      ]
     },
     "execution_count": 35,
     "metadata": {},
     "output_type": "execute_result"
    },
    {
     "data": {
      "image/png": "[encoded data removed]",
      "text/plain": [
       "<matplotlib.figure.Figure at 0x7fb2f8494c50>"
      ]
     },
     "metadata": {},
     "output_type": "display_data"
    }
   ],
   "source": [
    "errorbar(x,y,dy,fmt='ro')\n",
    "xt=linspace(-3.5,3.5,101)\n",
    "plot(xt,fit(m.values['x0'],m.values['Gamma'],xt),'b-')\n",
    "plot(xt,fit(0,1,xt),'g--')"
   ]
  }
 ],
 "metadata": {
  "kernelspec": {
   "display_name": "Python 3",
   "language": "python3.6",
   "name": "python3"
  },
  "language_info": {
   "codemirror_mode": {
    "name": "ipython",
    "version": 3
   },
   "file_extension": ".py",
   "mimetype": "text/x-python",
   "name": "python",
   "nbconvert_exporter": "python",
   "pygments_lexer": "ipython3",
   "version": "3.6.1"
  }
 },
 "nbformat": 4,
 "nbformat_minor": 1
}

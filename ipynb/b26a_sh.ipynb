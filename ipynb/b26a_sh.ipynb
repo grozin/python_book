{
 "cells": [
  {
   "cell_type": "markdown",
   "metadata": {},
   "source": [
    "# sh\n",
    "\n",
    "Очень простой и удобный пакет для запуска внешних программ из питона."
   ]
  },
  {
   "cell_type": "code",
   "execution_count": 1,
   "metadata": {
    "collapsed": true
   },
   "outputs": [],
   "source": [
    "import sh"
   ]
  },
  {
   "cell_type": "markdown",
   "metadata": {},
   "source": [
    "Вызовем команду `ls`. Это не значит, что в модуле `sh` есть 100500 функций, соответствующих всем командам; это было бы невозможно. Модуль `sh` производит тёмную магию, переопределяющую вызов `sh.something` в вызов внешней программы."
   ]
  },
  {
   "cell_type": "code",
   "execution_count": 2,
   "metadata": {
    "collapsed": false
   },
   "outputs": [
    {
     "data": {
      "text/plain": [
       "C1.pyx\t\t foo.c\t\t\t     poster\t    python8.ipynb\n",
       "C2.pyx\t\t foo.o\t\t\t     python.png     root.ipynb\n",
       "C3.pyx\t\t foo.pxd\t\t     python0.png    rpyc.html\n",
       "Untitled.ipynb\t foo.pyx\t\t     python1.html   rpyc.ipynb\n",
       "Untitled1.ipynb  foo.so\t\t\t     python1.ipynb  rpyc_old.ipynb\n",
       "Untitled2.ipynb  google-python-exercises     python2.html   sh.ipynb\n",
       "Untitled3.ipynb  ind.gle\t\t     python2.ipynb  sympy.html\n",
       "Zskim.root\t ind.png\t\t     python3.html   sympy.ipynb\n",
       "__pycache__\t iterators_generators.ipynb  python3.ipynb  tasks\n",
       "cfib.c\t\t minuit.html\t\t     python4.html   text.txt\n",
       "cfib.h\t\t minuit.ipynb\t\t     python4.ipynb  text2.txt\n",
       "cfib.o\t\t mpmath.html\t\t     python5.html   wrap.c\n",
       "cfoo.c\t\t mpmath.ipynb\t\t     python5.ipynb  wrap.o\n",
       "cfoo.h\t\t newtext.txt\t\t     python6.html   wrap.pyx\n",
       "cfoo.o\t\t osc.ipynb\t\t     python6.ipynb  wrap.so\n",
       "d1\t\t p1\t\t\t     python7.html\n",
       "du\t\t pandas.html\t\t     python7.ipynb\n",
       "fac.py\t\t pandas.ipynb\t\t     python8.html"
      ]
     },
     "execution_count": 2,
     "metadata": {},
     "output_type": "execute_result"
    }
   ],
   "source": [
    "sh.ls()"
   ]
  },
  {
   "cell_type": "markdown",
   "metadata": {},
   "source": [
    "Результат можно присвоить строковой переменной."
   ]
  },
  {
   "cell_type": "code",
   "execution_count": 3,
   "metadata": {
    "collapsed": false
   },
   "outputs": [
    {
     "data": {
      "text/plain": [
       "['C1.pyx',\n",
       " 'foo.c',\n",
       " 'poster',\n",
       " 'python8.ipynb',\n",
       " 'C2.pyx',\n",
       " 'foo.o',\n",
       " 'python.png',\n",
       " 'root.ipynb',\n",
       " 'C3.pyx',\n",
       " 'foo.pxd',\n",
       " 'python0.png',\n",
       " 'rpyc.html',\n",
       " 'Untitled.ipynb',\n",
       " 'foo.pyx',\n",
       " 'python1.html',\n",
       " 'rpyc.ipynb',\n",
       " 'Untitled1.ipynb',\n",
       " 'foo.so',\n",
       " 'python1.ipynb',\n",
       " 'rpyc_old.ipynb',\n",
       " 'Untitled2.ipynb',\n",
       " 'google-python-exercises',\n",
       " 'python2.html',\n",
       " 'sh.ipynb',\n",
       " 'Untitled3.ipynb',\n",
       " 'ind.gle',\n",
       " 'python2.ipynb',\n",
       " 'sympy.html',\n",
       " 'Zskim.root',\n",
       " 'ind.png',\n",
       " 'python3.html',\n",
       " 'sympy.ipynb',\n",
       " '__pycache__',\n",
       " 'iterators_generators.ipynb',\n",
       " 'python3.ipynb',\n",
       " 'tasks',\n",
       " 'cfib.c',\n",
       " 'minuit.html',\n",
       " 'python4.html',\n",
       " 'text.txt',\n",
       " 'cfib.h',\n",
       " 'minuit.ipynb',\n",
       " 'python4.ipynb',\n",
       " 'text2.txt',\n",
       " 'cfib.o',\n",
       " 'mpmath.html',\n",
       " 'python5.html',\n",
       " 'wrap.c',\n",
       " 'cfoo.c',\n",
       " 'mpmath.ipynb',\n",
       " 'python5.ipynb',\n",
       " 'wrap.o',\n",
       " 'cfoo.h',\n",
       " 'newtext.txt',\n",
       " 'python6.html',\n",
       " 'wrap.pyx',\n",
       " 'cfoo.o',\n",
       " 'osc.ipynb',\n",
       " 'python6.ipynb',\n",
       " 'wrap.so',\n",
       " 'd1',\n",
       " 'p1',\n",
       " 'python7.html',\n",
       " 'du',\n",
       " 'pandas.html',\n",
       " 'python7.ipynb',\n",
       " 'fac.py',\n",
       " 'pandas.ipynb',\n",
       " 'python8.html']"
      ]
     },
     "execution_count": 3,
     "metadata": {},
     "output_type": "execute_result"
    }
   ],
   "source": [
    "s=sh.ls()\n",
    "s.split()"
   ]
  },
  {
   "cell_type": "markdown",
   "metadata": {},
   "source": [
    "Командам можно передавать параметры."
   ]
  },
  {
   "cell_type": "code",
   "execution_count": 4,
   "metadata": {
    "collapsed": false
   },
   "outputs": [
    {
     "data": {
      "text/plain": [
       "__pycache__  d2  m1.py"
      ]
     },
     "execution_count": 4,
     "metadata": {},
     "output_type": "execute_result"
    }
   ],
   "source": [
    "sh.ls('d1')"
   ]
  },
  {
   "cell_type": "markdown",
   "metadata": {},
   "source": [
    "Допустим, мы хотим вызывать команду `ls` много раз. `sh` также производит тёмную магию, переопределяющую `from sh import something`, так что после этого импорта `ls` становится полноправной питонской функцией (вызывающей внешнюю программу)."
   ]
  },
  {
   "cell_type": "code",
   "execution_count": 5,
   "metadata": {
    "collapsed": true
   },
   "outputs": [],
   "source": [
    "from sh import ls"
   ]
  },
  {
   "cell_type": "code",
   "execution_count": 6,
   "metadata": {
    "collapsed": false
   },
   "outputs": [
    {
     "data": {
      "text/plain": [
       "['__pycache__', 'd2', 'm1.py']"
      ]
     },
     "execution_count": 6,
     "metadata": {},
     "output_type": "execute_result"
    }
   ],
   "source": [
    "s=ls('d1')\n",
    "s.split()"
   ]
  },
  {
   "cell_type": "code",
   "execution_count": 7,
   "metadata": {
    "collapsed": false
   },
   "outputs": [
    {
     "data": {
      "text/plain": [
       "итого 12\n",
       "drwxr-xr-x 2 grozin grozin 4096 ноя  4  2015 __pycache__\n",
       "drwxr-xr-x 3 grozin grozin 4096 ноя  4  2015 d2\n",
       "-rw-r--r-- 1 grozin grozin   23 ноя  4  2015 m1.py"
      ]
     },
     "execution_count": 7,
     "metadata": {},
     "output_type": "execute_result"
    }
   ],
   "source": [
    "ls('-l','d1')"
   ]
  },
  {
   "cell_type": "markdown",
   "metadata": {
    "collapsed": true
   },
   "source": [
    "Разумеется, таким же образом Вы можете вызвать Вашу программу (написанную на любом языке)."
   ]
  }
 ],
 "metadata": {
  "kernelspec": {
   "display_name": "Python 3",
   "language": "python",
   "name": "python3"
  },
  "language_info": {
   "codemirror_mode": {
    "name": "ipython",
    "version": 3
   },
   "file_extension": ".py",
   "mimetype": "text/x-python",
   "name": "python",
   "nbconvert_exporter": "python",
   "pygments_lexer": "ipython3",
   "version": "3.5.2"
  }
 },
 "nbformat": 4,
 "nbformat_minor": 0
}

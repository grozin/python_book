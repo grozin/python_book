{
 "cells": [
  {
   "cell_type": "code",
   "execution_count": 1,
   "metadata": {
    "collapsed": true,
    "deletable": true,
    "editable": true
   },
   "outputs": [],
   "source": [
    "import numpy as np\n",
    "import pandas as pd"
   ]
  },
  {
   "cell_type": "markdown",
   "metadata": {
    "deletable": true,
    "editable": true
   },
   "source": [
    "Роль индекса может играть, скажем, последовательность дат (или времён измерения и т.д.)."
   ]
  },
  {
   "cell_type": "code",
   "execution_count": 2,
   "metadata": {
    "collapsed": false,
    "deletable": true,
    "editable": true
   },
   "outputs": [
    {
     "data": {
      "text/plain": [
       "DatetimeIndex(['2017-01-01', '2017-01-02', '2017-01-03', '2017-01-04',\n",
       "               '2017-01-05', '2017-01-06', '2017-01-07', '2017-01-08',\n",
       "               '2017-01-09', '2017-01-10'],\n",
       "              dtype='datetime64[ns]', freq='D')"
      ]
     },
     "execution_count": 2,
     "metadata": {},
     "output_type": "execute_result"
    }
   ],
   "source": [
    "d=pd.date_range('20170101',periods=10)\n",
    "d"
   ]
  },
  {
   "cell_type": "code",
   "execution_count": 3,
   "metadata": {
    "collapsed": false,
    "deletable": true,
    "editable": true
   },
   "outputs": [
    {
     "data": {
      "text/plain": [
       "2017-01-01    0.356263\n",
       "2017-01-02   -0.149695\n",
       "2017-01-03    0.823284\n",
       "2017-01-04    1.936065\n",
       "2017-01-05    0.309854\n",
       "2017-01-06    0.642161\n",
       "2017-01-07    0.499560\n",
       "2017-01-08    0.004974\n",
       "2017-01-09    0.245381\n",
       "2017-01-10    0.951140\n",
       "Freq: D, dtype: float64"
      ]
     },
     "execution_count": 3,
     "metadata": {},
     "output_type": "execute_result"
    }
   ],
   "source": [
    "s=pd.Series(np.random.normal(size=10),index=d)\n",
    "s"
   ]
  },
  {
   "cell_type": "markdown",
   "metadata": {
    "deletable": true,
    "editable": true
   },
   "source": [
    "Операции сравнения возвращают наборы булевых данных."
   ]
  },
  {
   "cell_type": "code",
   "execution_count": 4,
   "metadata": {
    "collapsed": false,
    "deletable": true,
    "editable": true
   },
   "outputs": [
    {
     "data": {
      "text/plain": [
       "2017-01-01     True\n",
       "2017-01-02    False\n",
       "2017-01-03     True\n",
       "2017-01-04     True\n",
       "2017-01-05     True\n",
       "2017-01-06     True\n",
       "2017-01-07     True\n",
       "2017-01-08     True\n",
       "2017-01-09     True\n",
       "2017-01-10     True\n",
       "Freq: D, dtype: bool"
      ]
     },
     "execution_count": 4,
     "metadata": {},
     "output_type": "execute_result"
    }
   ],
   "source": [
    "s>0"
   ]
  },
  {
   "cell_type": "markdown",
   "metadata": {
    "deletable": true,
    "editable": true
   },
   "source": [
    "Если такой булев набор использовать для индексации, получится поднабор только из тех данных, для которых условие есть `True`."
   ]
  },
  {
   "cell_type": "code",
   "execution_count": 5,
   "metadata": {
    "collapsed": false,
    "deletable": true,
    "editable": true
   },
   "outputs": [
    {
     "data": {
      "text/plain": [
       "2017-01-01    0.356263\n",
       "2017-01-03    0.823284\n",
       "2017-01-04    1.936065\n",
       "2017-01-05    0.309854\n",
       "2017-01-06    0.642161\n",
       "2017-01-07    0.499560\n",
       "2017-01-08    0.004974\n",
       "2017-01-09    0.245381\n",
       "2017-01-10    0.951140\n",
       "dtype: float64"
      ]
     },
     "execution_count": 5,
     "metadata": {},
     "output_type": "execute_result"
    }
   ],
   "source": [
    "s[s>0]"
   ]
  },
  {
   "cell_type": "markdown",
   "metadata": {
    "deletable": true,
    "editable": true
   },
   "source": [
    "Кумулятивные максимумы - от первого элемента до текущего."
   ]
  },
  {
   "cell_type": "code",
   "execution_count": 6,
   "metadata": {
    "collapsed": false,
    "deletable": true,
    "editable": true
   },
   "outputs": [
    {
     "data": {
      "text/plain": [
       "2017-01-01    0.356263\n",
       "2017-01-02    0.356263\n",
       "2017-01-03    0.823284\n",
       "2017-01-04    1.936065\n",
       "2017-01-05    1.936065\n",
       "2017-01-06    1.936065\n",
       "2017-01-07    1.936065\n",
       "2017-01-08    1.936065\n",
       "2017-01-09    1.936065\n",
       "2017-01-10    1.936065\n",
       "Freq: D, dtype: float64"
      ]
     },
     "execution_count": 6,
     "metadata": {},
     "output_type": "execute_result"
    }
   ],
   "source": [
    "s.cummax()"
   ]
  },
  {
   "cell_type": "markdown",
   "metadata": {
    "deletable": true,
    "editable": true
   },
   "source": [
    "Кумулятивные суммы."
   ]
  },
  {
   "cell_type": "code",
   "execution_count": 7,
   "metadata": {
    "collapsed": false,
    "deletable": true,
    "editable": true
   },
   "outputs": [
    {
     "data": {
      "text/plain": [
       "2017-01-01    0.356263\n",
       "2017-01-02    0.206568\n",
       "2017-01-03    1.029852\n",
       "2017-01-04    2.965918\n",
       "2017-01-05    3.275771\n",
       "2017-01-06    3.917933\n",
       "2017-01-07    4.417493\n",
       "2017-01-08    4.422467\n",
       "2017-01-09    4.667848\n",
       "2017-01-10    5.618988\n",
       "Freq: D, dtype: float64"
      ]
     },
     "execution_count": 7,
     "metadata": {},
     "output_type": "execute_result"
    }
   ],
   "source": [
    "s=s.cumsum()\n",
    "s"
   ]
  },
  {
   "cell_type": "markdown",
   "metadata": {
    "deletable": true,
    "editable": true
   },
   "source": [
    "Построим график."
   ]
  },
  {
   "cell_type": "code",
   "execution_count": 8,
   "metadata": {
    "collapsed": true,
    "deletable": true,
    "editable": true
   },
   "outputs": [],
   "source": [
    "import matplotlib\n",
    "matplotlib.use('pdf')\n",
    "import matplotlib.pyplot as plt"
   ]
  },
  {
   "cell_type": "code",
   "execution_count": 9,
   "metadata": {
    "collapsed": false,
    "deletable": true,
    "editable": true
   },
   "outputs": [],
   "source": [
    "plt.plot(s)\n",
    "plt.savefig('b24_pandas_1.pdf')\n",
    "plt.clf()"
   ]
  },
  {
   "cell_type": "markdown",
   "metadata": {
    "deletable": true,
    "editable": true
   },
   "source": [
    "Создадим таблицу из массива случайных чисел."
   ]
  },
  {
   "cell_type": "code",
   "execution_count": 10,
   "metadata": {
    "collapsed": false,
    "deletable": true,
    "editable": true
   },
   "outputs": [
    {
     "data": {
      "text/html": [
       "<div>\n",
       "<style>\n",
       "    .dataframe thead tr:only-child th {\n",
       "        text-align: right;\n",
       "    }\n",
       "\n",
       "    .dataframe thead th {\n",
       "        text-align: left;\n",
       "    }\n",
       "\n",
       "    .dataframe tbody tr th {\n",
       "        vertical-align: top;\n",
       "    }\n",
       "</style>\n",
       "<table border=\"1\" class=\"dataframe\">\n",
       "  <thead>\n",
       "    <tr style=\"text-align: right;\">\n",
       "      <th></th>\n",
       "      <th>A</th>\n",
       "      <th>B</th>\n",
       "      <th>C</th>\n",
       "      <th>D</th>\n",
       "    </tr>\n",
       "  </thead>\n",
       "  <tbody>\n",
       "    <tr>\n",
       "      <th>0</th>\n",
       "      <td>0.706305</td>\n",
       "      <td>-0.789569</td>\n",
       "      <td>-0.692519</td>\n",
       "      <td>0.340655</td>\n",
       "    </tr>\n",
       "    <tr>\n",
       "      <th>1</th>\n",
       "      <td>0.277662</td>\n",
       "      <td>1.168946</td>\n",
       "      <td>-0.456736</td>\n",
       "      <td>-0.824495</td>\n",
       "    </tr>\n",
       "    <tr>\n",
       "      <th>2</th>\n",
       "      <td>-1.742185</td>\n",
       "      <td>-1.623243</td>\n",
       "      <td>-0.188642</td>\n",
       "      <td>-0.164130</td>\n",
       "    </tr>\n",
       "    <tr>\n",
       "      <th>3</th>\n",
       "      <td>-0.486917</td>\n",
       "      <td>-0.404665</td>\n",
       "      <td>0.828688</td>\n",
       "      <td>1.960935</td>\n",
       "    </tr>\n",
       "    <tr>\n",
       "      <th>4</th>\n",
       "      <td>-0.009105</td>\n",
       "      <td>1.221108</td>\n",
       "      <td>0.399887</td>\n",
       "      <td>3.075690</td>\n",
       "    </tr>\n",
       "    <tr>\n",
       "      <th>5</th>\n",
       "      <td>0.440579</td>\n",
       "      <td>1.513206</td>\n",
       "      <td>0.251294</td>\n",
       "      <td>0.838322</td>\n",
       "    </tr>\n",
       "    <tr>\n",
       "      <th>6</th>\n",
       "      <td>1.800180</td>\n",
       "      <td>1.877250</td>\n",
       "      <td>-0.721819</td>\n",
       "      <td>-1.637900</td>\n",
       "    </tr>\n",
       "    <tr>\n",
       "      <th>7</th>\n",
       "      <td>0.518764</td>\n",
       "      <td>1.372829</td>\n",
       "      <td>-0.513600</td>\n",
       "      <td>-0.544454</td>\n",
       "    </tr>\n",
       "    <tr>\n",
       "      <th>8</th>\n",
       "      <td>-0.823112</td>\n",
       "      <td>-1.188590</td>\n",
       "      <td>1.861447</td>\n",
       "      <td>1.272845</td>\n",
       "    </tr>\n",
       "    <tr>\n",
       "      <th>9</th>\n",
       "      <td>1.103270</td>\n",
       "      <td>-1.380487</td>\n",
       "      <td>0.227549</td>\n",
       "      <td>0.769414</td>\n",
       "    </tr>\n",
       "  </tbody>\n",
       "</table>\n",
       "</div>"
      ],
      "text/plain": [
       "          A         B         C         D\n",
       "0  0.706305 -0.789569 -0.692519  0.340655\n",
       "1  0.277662  1.168946 -0.456736 -0.824495\n",
       "2 -1.742185 -1.623243 -0.188642 -0.164130\n",
       "3 -0.486917 -0.404665  0.828688  1.960935\n",
       "4 -0.009105  1.221108  0.399887  3.075690\n",
       "5  0.440579  1.513206  0.251294  0.838322\n",
       "6  1.800180  1.877250 -0.721819 -1.637900\n",
       "7  0.518764  1.372829 -0.513600 -0.544454\n",
       "8 -0.823112 -1.188590  1.861447  1.272845\n",
       "9  1.103270 -1.380487  0.227549  0.769414"
      ]
     },
     "execution_count": 10,
     "metadata": {},
     "output_type": "execute_result"
    }
   ],
   "source": [
    "df=pd.DataFrame(np.random.randn(10,4),\n",
    "                columns=['A','B','C','D'])\n",
    "df"
   ]
  },
  {
   "cell_type": "code",
   "execution_count": 11,
   "metadata": {
    "collapsed": false,
    "deletable": true,
    "editable": true
   },
   "outputs": [
    {
     "data": {
      "text/html": [
       "<div>\n",
       "<style>\n",
       "    .dataframe thead tr:only-child th {\n",
       "        text-align: right;\n",
       "    }\n",
       "\n",
       "    .dataframe thead th {\n",
       "        text-align: left;\n",
       "    }\n",
       "\n",
       "    .dataframe tbody tr th {\n",
       "        vertical-align: top;\n",
       "    }\n",
       "</style>\n",
       "<table border=\"1\" class=\"dataframe\">\n",
       "  <thead>\n",
       "    <tr style=\"text-align: right;\">\n",
       "      <th></th>\n",
       "      <th>A</th>\n",
       "      <th>B</th>\n",
       "      <th>C</th>\n",
       "      <th>D</th>\n",
       "    </tr>\n",
       "  </thead>\n",
       "  <tbody>\n",
       "    <tr>\n",
       "      <th>0</th>\n",
       "      <td>-0.396002</td>\n",
       "      <td>-0.388489</td>\n",
       "      <td>-0.938762</td>\n",
       "      <td>NaN</td>\n",
       "    </tr>\n",
       "    <tr>\n",
       "      <th>1</th>\n",
       "      <td>0.025981</td>\n",
       "      <td>-0.822861</td>\n",
       "      <td>-1.221219</td>\n",
       "      <td>NaN</td>\n",
       "    </tr>\n",
       "    <tr>\n",
       "      <th>2</th>\n",
       "      <td>-1.859502</td>\n",
       "      <td>-0.265075</td>\n",
       "      <td>-1.399910</td>\n",
       "      <td>NaN</td>\n",
       "    </tr>\n",
       "    <tr>\n",
       "      <th>3</th>\n",
       "      <td>-0.937928</td>\n",
       "      <td>-0.118183</td>\n",
       "      <td>-0.413946</td>\n",
       "      <td>NaN</td>\n",
       "    </tr>\n",
       "    <tr>\n",
       "      <th>4</th>\n",
       "      <td>-0.038995</td>\n",
       "      <td>1.159641</td>\n",
       "      <td>2.223911</td>\n",
       "      <td>NaN</td>\n",
       "    </tr>\n",
       "    <tr>\n",
       "      <th>5</th>\n",
       "      <td>0.478176</td>\n",
       "      <td>-0.599153</td>\n",
       "      <td>-1.214517</td>\n",
       "      <td>NaN</td>\n",
       "    </tr>\n",
       "    <tr>\n",
       "      <th>6</th>\n",
       "      <td>1.387845</td>\n",
       "      <td>0.992897</td>\n",
       "      <td>-0.214836</td>\n",
       "      <td>NaN</td>\n",
       "    </tr>\n",
       "    <tr>\n",
       "      <th>7</th>\n",
       "      <td>NaN</td>\n",
       "      <td>NaN</td>\n",
       "      <td>NaN</td>\n",
       "      <td>NaN</td>\n",
       "    </tr>\n",
       "    <tr>\n",
       "      <th>8</th>\n",
       "      <td>NaN</td>\n",
       "      <td>NaN</td>\n",
       "      <td>NaN</td>\n",
       "      <td>NaN</td>\n",
       "    </tr>\n",
       "    <tr>\n",
       "      <th>9</th>\n",
       "      <td>NaN</td>\n",
       "      <td>NaN</td>\n",
       "      <td>NaN</td>\n",
       "      <td>NaN</td>\n",
       "    </tr>\n",
       "  </tbody>\n",
       "</table>\n",
       "</div>"
      ],
      "text/plain": [
       "          A         B         C   D\n",
       "0 -0.396002 -0.388489 -0.938762 NaN\n",
       "1  0.025981 -0.822861 -1.221219 NaN\n",
       "2 -1.859502 -0.265075 -1.399910 NaN\n",
       "3 -0.937928 -0.118183 -0.413946 NaN\n",
       "4 -0.038995  1.159641  2.223911 NaN\n",
       "5  0.478176 -0.599153 -1.214517 NaN\n",
       "6  1.387845  0.992897 -0.214836 NaN\n",
       "7       NaN       NaN       NaN NaN\n",
       "8       NaN       NaN       NaN NaN\n",
       "9       NaN       NaN       NaN NaN"
      ]
     },
     "execution_count": 11,
     "metadata": {},
     "output_type": "execute_result"
    }
   ],
   "source": [
    "df2=pd.DataFrame(np.random.randn(7,3),columns=['A','B','C'])\n",
    "df+df2"
   ]
  },
  {
   "cell_type": "code",
   "execution_count": 12,
   "metadata": {
    "collapsed": false,
    "deletable": true,
    "editable": true
   },
   "outputs": [
    {
     "data": {
      "text/html": [
       "<div>\n",
       "<style>\n",
       "    .dataframe thead tr:only-child th {\n",
       "        text-align: right;\n",
       "    }\n",
       "\n",
       "    .dataframe thead th {\n",
       "        text-align: left;\n",
       "    }\n",
       "\n",
       "    .dataframe tbody tr th {\n",
       "        vertical-align: top;\n",
       "    }\n",
       "</style>\n",
       "<table border=\"1\" class=\"dataframe\">\n",
       "  <thead>\n",
       "    <tr style=\"text-align: right;\">\n",
       "      <th></th>\n",
       "      <th>A</th>\n",
       "      <th>B</th>\n",
       "      <th>C</th>\n",
       "      <th>D</th>\n",
       "    </tr>\n",
       "  </thead>\n",
       "  <tbody>\n",
       "    <tr>\n",
       "      <th>0</th>\n",
       "      <td>4.412610</td>\n",
       "      <td>1.420863</td>\n",
       "      <td>1.614962</td>\n",
       "      <td>3.681311</td>\n",
       "    </tr>\n",
       "    <tr>\n",
       "      <th>1</th>\n",
       "      <td>3.555324</td>\n",
       "      <td>5.337893</td>\n",
       "      <td>2.086527</td>\n",
       "      <td>1.351011</td>\n",
       "    </tr>\n",
       "    <tr>\n",
       "      <th>2</th>\n",
       "      <td>-0.484370</td>\n",
       "      <td>-0.246485</td>\n",
       "      <td>2.622715</td>\n",
       "      <td>2.671739</td>\n",
       "    </tr>\n",
       "    <tr>\n",
       "      <th>3</th>\n",
       "      <td>2.026166</td>\n",
       "      <td>2.190670</td>\n",
       "      <td>4.657376</td>\n",
       "      <td>6.921870</td>\n",
       "    </tr>\n",
       "    <tr>\n",
       "      <th>4</th>\n",
       "      <td>2.981789</td>\n",
       "      <td>5.442216</td>\n",
       "      <td>3.799774</td>\n",
       "      <td>9.151381</td>\n",
       "    </tr>\n",
       "    <tr>\n",
       "      <th>5</th>\n",
       "      <td>3.881158</td>\n",
       "      <td>6.026413</td>\n",
       "      <td>3.502587</td>\n",
       "      <td>4.676644</td>\n",
       "    </tr>\n",
       "    <tr>\n",
       "      <th>6</th>\n",
       "      <td>6.600359</td>\n",
       "      <td>6.754500</td>\n",
       "      <td>1.556363</td>\n",
       "      <td>-0.275800</td>\n",
       "    </tr>\n",
       "    <tr>\n",
       "      <th>7</th>\n",
       "      <td>4.037527</td>\n",
       "      <td>5.745658</td>\n",
       "      <td>1.972800</td>\n",
       "      <td>1.911092</td>\n",
       "    </tr>\n",
       "    <tr>\n",
       "      <th>8</th>\n",
       "      <td>1.353775</td>\n",
       "      <td>0.622821</td>\n",
       "      <td>6.722893</td>\n",
       "      <td>5.545690</td>\n",
       "    </tr>\n",
       "    <tr>\n",
       "      <th>9</th>\n",
       "      <td>5.206539</td>\n",
       "      <td>0.239026</td>\n",
       "      <td>3.455098</td>\n",
       "      <td>4.538828</td>\n",
       "    </tr>\n",
       "  </tbody>\n",
       "</table>\n",
       "</div>"
      ],
      "text/plain": [
       "          A         B         C         D\n",
       "0  4.412610  1.420863  1.614962  3.681311\n",
       "1  3.555324  5.337893  2.086527  1.351011\n",
       "2 -0.484370 -0.246485  2.622715  2.671739\n",
       "3  2.026166  2.190670  4.657376  6.921870\n",
       "4  2.981789  5.442216  3.799774  9.151381\n",
       "5  3.881158  6.026413  3.502587  4.676644\n",
       "6  6.600359  6.754500  1.556363 -0.275800\n",
       "7  4.037527  5.745658  1.972800  1.911092\n",
       "8  1.353775  0.622821  6.722893  5.545690\n",
       "9  5.206539  0.239026  3.455098  4.538828"
      ]
     },
     "execution_count": 12,
     "metadata": {},
     "output_type": "execute_result"
    }
   ],
   "source": [
    "2*df+3"
   ]
  },
  {
   "cell_type": "code",
   "execution_count": 13,
   "metadata": {
    "collapsed": false,
    "deletable": true,
    "editable": true
   },
   "outputs": [
    {
     "data": {
      "text/html": [
       "<div>\n",
       "<style>\n",
       "    .dataframe thead tr:only-child th {\n",
       "        text-align: right;\n",
       "    }\n",
       "\n",
       "    .dataframe thead th {\n",
       "        text-align: left;\n",
       "    }\n",
       "\n",
       "    .dataframe tbody tr th {\n",
       "        vertical-align: top;\n",
       "    }\n",
       "</style>\n",
       "<table border=\"1\" class=\"dataframe\">\n",
       "  <thead>\n",
       "    <tr style=\"text-align: right;\">\n",
       "      <th></th>\n",
       "      <th>A</th>\n",
       "      <th>B</th>\n",
       "      <th>C</th>\n",
       "      <th>D</th>\n",
       "    </tr>\n",
       "  </thead>\n",
       "  <tbody>\n",
       "    <tr>\n",
       "      <th>0</th>\n",
       "      <td>0.649027</td>\n",
       "      <td>-0.710050</td>\n",
       "      <td>-0.638478</td>\n",
       "      <td>0.334105</td>\n",
       "    </tr>\n",
       "    <tr>\n",
       "      <th>1</th>\n",
       "      <td>0.274108</td>\n",
       "      <td>0.920339</td>\n",
       "      <td>-0.441021</td>\n",
       "      <td>-0.734205</td>\n",
       "    </tr>\n",
       "    <tr>\n",
       "      <th>2</th>\n",
       "      <td>-0.985349</td>\n",
       "      <td>-0.998625</td>\n",
       "      <td>-0.187526</td>\n",
       "      <td>-0.163394</td>\n",
       "    </tr>\n",
       "    <tr>\n",
       "      <th>3</th>\n",
       "      <td>-0.467903</td>\n",
       "      <td>-0.393711</td>\n",
       "      <td>0.737045</td>\n",
       "      <td>0.924856</td>\n",
       "    </tr>\n",
       "    <tr>\n",
       "      <th>4</th>\n",
       "      <td>-0.009105</td>\n",
       "      <td>0.939480</td>\n",
       "      <td>0.389314</td>\n",
       "      <td>0.065855</td>\n",
       "    </tr>\n",
       "    <tr>\n",
       "      <th>5</th>\n",
       "      <td>0.426463</td>\n",
       "      <td>0.998342</td>\n",
       "      <td>0.248657</td>\n",
       "      <td>0.743522</td>\n",
       "    </tr>\n",
       "    <tr>\n",
       "      <th>6</th>\n",
       "      <td>0.973807</td>\n",
       "      <td>0.953409</td>\n",
       "      <td>-0.660751</td>\n",
       "      <td>-0.997749</td>\n",
       "    </tr>\n",
       "    <tr>\n",
       "      <th>7</th>\n",
       "      <td>0.495807</td>\n",
       "      <td>0.980468</td>\n",
       "      <td>-0.491316</td>\n",
       "      <td>-0.517951</td>\n",
       "    </tr>\n",
       "    <tr>\n",
       "      <th>8</th>\n",
       "      <td>-0.733266</td>\n",
       "      <td>-0.927844</td>\n",
       "      <td>0.958058</td>\n",
       "      <td>0.955940</td>\n",
       "    </tr>\n",
       "    <tr>\n",
       "      <th>9</th>\n",
       "      <td>0.892686</td>\n",
       "      <td>-0.981946</td>\n",
       "      <td>0.225590</td>\n",
       "      <td>0.695714</td>\n",
       "    </tr>\n",
       "  </tbody>\n",
       "</table>\n",
       "</div>"
      ],
      "text/plain": [
       "          A         B         C         D\n",
       "0  0.649027 -0.710050 -0.638478  0.334105\n",
       "1  0.274108  0.920339 -0.441021 -0.734205\n",
       "2 -0.985349 -0.998625 -0.187526 -0.163394\n",
       "3 -0.467903 -0.393711  0.737045  0.924856\n",
       "4 -0.009105  0.939480  0.389314  0.065855\n",
       "5  0.426463  0.998342  0.248657  0.743522\n",
       "6  0.973807  0.953409 -0.660751 -0.997749\n",
       "7  0.495807  0.980468 -0.491316 -0.517951\n",
       "8 -0.733266 -0.927844  0.958058  0.955940\n",
       "9  0.892686 -0.981946  0.225590  0.695714"
      ]
     },
     "execution_count": 13,
     "metadata": {},
     "output_type": "execute_result"
    }
   ],
   "source": [
    "np.sin(df)"
   ]
  },
  {
   "cell_type": "code",
   "execution_count": 14,
   "metadata": {
    "collapsed": false,
    "deletable": true,
    "editable": true
   },
   "outputs": [
    {
     "data": {
      "text/html": [
       "<div>\n",
       "<style>\n",
       "    .dataframe thead tr:only-child th {\n",
       "        text-align: right;\n",
       "    }\n",
       "\n",
       "    .dataframe thead th {\n",
       "        text-align: left;\n",
       "    }\n",
       "\n",
       "    .dataframe tbody tr th {\n",
       "        vertical-align: top;\n",
       "    }\n",
       "</style>\n",
       "<table border=\"1\" class=\"dataframe\">\n",
       "  <thead>\n",
       "    <tr style=\"text-align: right;\">\n",
       "      <th></th>\n",
       "      <th>A</th>\n",
       "      <th>B</th>\n",
       "      <th>C</th>\n",
       "      <th>D</th>\n",
       "    </tr>\n",
       "  </thead>\n",
       "  <tbody>\n",
       "    <tr>\n",
       "      <th>count</th>\n",
       "      <td>10.000000</td>\n",
       "      <td>10.000000</td>\n",
       "      <td>10.000000</td>\n",
       "      <td>10.000000</td>\n",
       "    </tr>\n",
       "    <tr>\n",
       "      <th>mean</th>\n",
       "      <td>0.178544</td>\n",
       "      <td>0.176679</td>\n",
       "      <td>0.099555</td>\n",
       "      <td>0.508688</td>\n",
       "    </tr>\n",
       "    <tr>\n",
       "      <th>std</th>\n",
       "      <td>1.007094</td>\n",
       "      <td>1.373741</td>\n",
       "      <td>0.805262</td>\n",
       "      <td>1.391815</td>\n",
       "    </tr>\n",
       "    <tr>\n",
       "      <th>min</th>\n",
       "      <td>-1.742185</td>\n",
       "      <td>-1.623243</td>\n",
       "      <td>-0.721819</td>\n",
       "      <td>-1.637900</td>\n",
       "    </tr>\n",
       "    <tr>\n",
       "      <th>25%</th>\n",
       "      <td>-0.367464</td>\n",
       "      <td>-1.088834</td>\n",
       "      <td>-0.499384</td>\n",
       "      <td>-0.449373</td>\n",
       "    </tr>\n",
       "    <tr>\n",
       "      <th>50%</th>\n",
       "      <td>0.359121</td>\n",
       "      <td>0.382141</td>\n",
       "      <td>0.019453</td>\n",
       "      <td>0.555035</td>\n",
       "    </tr>\n",
       "    <tr>\n",
       "      <th>75%</th>\n",
       "      <td>0.659420</td>\n",
       "      <td>1.334899</td>\n",
       "      <td>0.362739</td>\n",
       "      <td>1.164214</td>\n",
       "    </tr>\n",
       "    <tr>\n",
       "      <th>max</th>\n",
       "      <td>1.800180</td>\n",
       "      <td>1.877250</td>\n",
       "      <td>1.861447</td>\n",
       "      <td>3.075690</td>\n",
       "    </tr>\n",
       "  </tbody>\n",
       "</table>\n",
       "</div>"
      ],
      "text/plain": [
       "               A          B          C          D\n",
       "count  10.000000  10.000000  10.000000  10.000000\n",
       "mean    0.178544   0.176679   0.099555   0.508688\n",
       "std     1.007094   1.373741   0.805262   1.391815\n",
       "min    -1.742185  -1.623243  -0.721819  -1.637900\n",
       "25%    -0.367464  -1.088834  -0.499384  -0.449373\n",
       "50%     0.359121   0.382141   0.019453   0.555035\n",
       "75%     0.659420   1.334899   0.362739   1.164214\n",
       "max     1.800180   1.877250   1.861447   3.075690"
      ]
     },
     "execution_count": 14,
     "metadata": {},
     "output_type": "execute_result"
    }
   ],
   "source": [
    "df.describe()"
   ]
  },
  {
   "cell_type": "code",
   "execution_count": 15,
   "metadata": {
    "collapsed": false,
    "deletable": true,
    "editable": true
   },
   "outputs": [
    {
     "data": {
      "text/html": [
       "<div>\n",
       "<style>\n",
       "    .dataframe thead tr:only-child th {\n",
       "        text-align: right;\n",
       "    }\n",
       "\n",
       "    .dataframe thead th {\n",
       "        text-align: left;\n",
       "    }\n",
       "\n",
       "    .dataframe tbody tr th {\n",
       "        vertical-align: top;\n",
       "    }\n",
       "</style>\n",
       "<table border=\"1\" class=\"dataframe\">\n",
       "  <thead>\n",
       "    <tr style=\"text-align: right;\">\n",
       "      <th></th>\n",
       "      <th>A</th>\n",
       "      <th>B</th>\n",
       "      <th>C</th>\n",
       "      <th>D</th>\n",
       "    </tr>\n",
       "  </thead>\n",
       "  <tbody>\n",
       "    <tr>\n",
       "      <th>2</th>\n",
       "      <td>-1.742185</td>\n",
       "      <td>-1.623243</td>\n",
       "      <td>-0.188642</td>\n",
       "      <td>-0.164130</td>\n",
       "    </tr>\n",
       "    <tr>\n",
       "      <th>9</th>\n",
       "      <td>1.103270</td>\n",
       "      <td>-1.380487</td>\n",
       "      <td>0.227549</td>\n",
       "      <td>0.769414</td>\n",
       "    </tr>\n",
       "    <tr>\n",
       "      <th>8</th>\n",
       "      <td>-0.823112</td>\n",
       "      <td>-1.188590</td>\n",
       "      <td>1.861447</td>\n",
       "      <td>1.272845</td>\n",
       "    </tr>\n",
       "    <tr>\n",
       "      <th>0</th>\n",
       "      <td>0.706305</td>\n",
       "      <td>-0.789569</td>\n",
       "      <td>-0.692519</td>\n",
       "      <td>0.340655</td>\n",
       "    </tr>\n",
       "    <tr>\n",
       "      <th>3</th>\n",
       "      <td>-0.486917</td>\n",
       "      <td>-0.404665</td>\n",
       "      <td>0.828688</td>\n",
       "      <td>1.960935</td>\n",
       "    </tr>\n",
       "    <tr>\n",
       "      <th>1</th>\n",
       "      <td>0.277662</td>\n",
       "      <td>1.168946</td>\n",
       "      <td>-0.456736</td>\n",
       "      <td>-0.824495</td>\n",
       "    </tr>\n",
       "    <tr>\n",
       "      <th>4</th>\n",
       "      <td>-0.009105</td>\n",
       "      <td>1.221108</td>\n",
       "      <td>0.399887</td>\n",
       "      <td>3.075690</td>\n",
       "    </tr>\n",
       "    <tr>\n",
       "      <th>7</th>\n",
       "      <td>0.518764</td>\n",
       "      <td>1.372829</td>\n",
       "      <td>-0.513600</td>\n",
       "      <td>-0.544454</td>\n",
       "    </tr>\n",
       "    <tr>\n",
       "      <th>5</th>\n",
       "      <td>0.440579</td>\n",
       "      <td>1.513206</td>\n",
       "      <td>0.251294</td>\n",
       "      <td>0.838322</td>\n",
       "    </tr>\n",
       "    <tr>\n",
       "      <th>6</th>\n",
       "      <td>1.800180</td>\n",
       "      <td>1.877250</td>\n",
       "      <td>-0.721819</td>\n",
       "      <td>-1.637900</td>\n",
       "    </tr>\n",
       "  </tbody>\n",
       "</table>\n",
       "</div>"
      ],
      "text/plain": [
       "          A         B         C         D\n",
       "2 -1.742185 -1.623243 -0.188642 -0.164130\n",
       "9  1.103270 -1.380487  0.227549  0.769414\n",
       "8 -0.823112 -1.188590  1.861447  1.272845\n",
       "0  0.706305 -0.789569 -0.692519  0.340655\n",
       "3 -0.486917 -0.404665  0.828688  1.960935\n",
       "1  0.277662  1.168946 -0.456736 -0.824495\n",
       "4 -0.009105  1.221108  0.399887  3.075690\n",
       "7  0.518764  1.372829 -0.513600 -0.544454\n",
       "5  0.440579  1.513206  0.251294  0.838322\n",
       "6  1.800180  1.877250 -0.721819 -1.637900"
      ]
     },
     "execution_count": 15,
     "metadata": {},
     "output_type": "execute_result"
    }
   ],
   "source": [
    "df.sort_values(by='B')"
   ]
  },
  {
   "cell_type": "markdown",
   "metadata": {
    "deletable": true,
    "editable": true
   },
   "source": [
    "Атрибут `iloc` подобен `loc`: первый индекс - номер строки, второй - номер столбца. Это целые числа, конец диапазона на включается (как обычно в питоне)."
   ]
  },
  {
   "cell_type": "code",
   "execution_count": 16,
   "metadata": {
    "collapsed": false,
    "deletable": true,
    "editable": true
   },
   "outputs": [
    {
     "data": {
      "text/plain": [
       "A   -1.742185\n",
       "B   -1.623243\n",
       "C   -0.188642\n",
       "D   -0.164130\n",
       "Name: 2, dtype: float64"
      ]
     },
     "execution_count": 16,
     "metadata": {},
     "output_type": "execute_result"
    }
   ],
   "source": [
    "df.iloc[2]"
   ]
  },
  {
   "cell_type": "code",
   "execution_count": 17,
   "metadata": {
    "collapsed": false,
    "deletable": true,
    "editable": true
   },
   "outputs": [
    {
     "data": {
      "text/html": [
       "<div>\n",
       "<style>\n",
       "    .dataframe thead tr:only-child th {\n",
       "        text-align: right;\n",
       "    }\n",
       "\n",
       "    .dataframe thead th {\n",
       "        text-align: left;\n",
       "    }\n",
       "\n",
       "    .dataframe tbody tr th {\n",
       "        vertical-align: top;\n",
       "    }\n",
       "</style>\n",
       "<table border=\"1\" class=\"dataframe\">\n",
       "  <thead>\n",
       "    <tr style=\"text-align: right;\">\n",
       "      <th></th>\n",
       "      <th>A</th>\n",
       "      <th>B</th>\n",
       "      <th>C</th>\n",
       "      <th>D</th>\n",
       "    </tr>\n",
       "  </thead>\n",
       "  <tbody>\n",
       "    <tr>\n",
       "      <th>1</th>\n",
       "      <td>0.277662</td>\n",
       "      <td>1.168946</td>\n",
       "      <td>-0.456736</td>\n",
       "      <td>-0.824495</td>\n",
       "    </tr>\n",
       "    <tr>\n",
       "      <th>2</th>\n",
       "      <td>-1.742185</td>\n",
       "      <td>-1.623243</td>\n",
       "      <td>-0.188642</td>\n",
       "      <td>-0.164130</td>\n",
       "    </tr>\n",
       "  </tbody>\n",
       "</table>\n",
       "</div>"
      ],
      "text/plain": [
       "          A         B         C         D\n",
       "1  0.277662  1.168946 -0.456736 -0.824495\n",
       "2 -1.742185 -1.623243 -0.188642 -0.164130"
      ]
     },
     "execution_count": 17,
     "metadata": {},
     "output_type": "execute_result"
    }
   ],
   "source": [
    "df.iloc[1:3]"
   ]
  },
  {
   "cell_type": "code",
   "execution_count": 18,
   "metadata": {
    "collapsed": false,
    "deletable": true,
    "editable": true
   },
   "outputs": [
    {
     "data": {
      "text/html": [
       "<div>\n",
       "<style>\n",
       "    .dataframe thead tr:only-child th {\n",
       "        text-align: right;\n",
       "    }\n",
       "\n",
       "    .dataframe thead th {\n",
       "        text-align: left;\n",
       "    }\n",
       "\n",
       "    .dataframe tbody tr th {\n",
       "        vertical-align: top;\n",
       "    }\n",
       "</style>\n",
       "<table border=\"1\" class=\"dataframe\">\n",
       "  <thead>\n",
       "    <tr style=\"text-align: right;\">\n",
       "      <th></th>\n",
       "      <th>A</th>\n",
       "      <th>B</th>\n",
       "    </tr>\n",
       "  </thead>\n",
       "  <tbody>\n",
       "    <tr>\n",
       "      <th>1</th>\n",
       "      <td>0.277662</td>\n",
       "      <td>1.168946</td>\n",
       "    </tr>\n",
       "    <tr>\n",
       "      <th>2</th>\n",
       "      <td>-1.742185</td>\n",
       "      <td>-1.623243</td>\n",
       "    </tr>\n",
       "  </tbody>\n",
       "</table>\n",
       "</div>"
      ],
      "text/plain": [
       "          A         B\n",
       "1  0.277662  1.168946\n",
       "2 -1.742185 -1.623243"
      ]
     },
     "execution_count": 18,
     "metadata": {},
     "output_type": "execute_result"
    }
   ],
   "source": [
    "df.iloc[1:3,0:2]"
   ]
  },
  {
   "cell_type": "markdown",
   "metadata": {
    "deletable": true,
    "editable": true
   },
   "source": [
    "Построим графики кумулятивных сумм - мировые линии четырёх пьяных, у которых величина каждого шага - гауссова случайная величина."
   ]
  },
  {
   "cell_type": "code",
   "execution_count": 19,
   "metadata": {
    "collapsed": false,
    "deletable": true,
    "editable": true
   },
   "outputs": [
    {
     "data": {
      "text/html": [
       "<div>\n",
       "<style>\n",
       "    .dataframe thead tr:only-child th {\n",
       "        text-align: right;\n",
       "    }\n",
       "\n",
       "    .dataframe thead th {\n",
       "        text-align: left;\n",
       "    }\n",
       "\n",
       "    .dataframe tbody tr th {\n",
       "        vertical-align: top;\n",
       "    }\n",
       "</style>\n",
       "<table border=\"1\" class=\"dataframe\">\n",
       "  <thead>\n",
       "    <tr style=\"text-align: right;\">\n",
       "      <th></th>\n",
       "      <th>A</th>\n",
       "      <th>B</th>\n",
       "      <th>C</th>\n",
       "      <th>D</th>\n",
       "    </tr>\n",
       "  </thead>\n",
       "  <tbody>\n",
       "    <tr>\n",
       "      <th>0</th>\n",
       "      <td>0.706305</td>\n",
       "      <td>-0.789569</td>\n",
       "      <td>-0.692519</td>\n",
       "      <td>0.340655</td>\n",
       "    </tr>\n",
       "    <tr>\n",
       "      <th>1</th>\n",
       "      <td>0.983967</td>\n",
       "      <td>0.379378</td>\n",
       "      <td>-1.149255</td>\n",
       "      <td>-0.483839</td>\n",
       "    </tr>\n",
       "    <tr>\n",
       "      <th>2</th>\n",
       "      <td>-0.758218</td>\n",
       "      <td>-1.243865</td>\n",
       "      <td>-1.337898</td>\n",
       "      <td>-0.647969</td>\n",
       "    </tr>\n",
       "    <tr>\n",
       "      <th>3</th>\n",
       "      <td>-1.245135</td>\n",
       "      <td>-1.648530</td>\n",
       "      <td>-0.509210</td>\n",
       "      <td>1.312965</td>\n",
       "    </tr>\n",
       "    <tr>\n",
       "      <th>4</th>\n",
       "      <td>-1.254240</td>\n",
       "      <td>-0.427422</td>\n",
       "      <td>-0.109322</td>\n",
       "      <td>4.388656</td>\n",
       "    </tr>\n",
       "    <tr>\n",
       "      <th>5</th>\n",
       "      <td>-0.813661</td>\n",
       "      <td>1.085784</td>\n",
       "      <td>0.141971</td>\n",
       "      <td>5.226978</td>\n",
       "    </tr>\n",
       "    <tr>\n",
       "      <th>6</th>\n",
       "      <td>0.986519</td>\n",
       "      <td>2.963035</td>\n",
       "      <td>-0.579848</td>\n",
       "      <td>3.589078</td>\n",
       "    </tr>\n",
       "    <tr>\n",
       "      <th>7</th>\n",
       "      <td>1.505282</td>\n",
       "      <td>4.335864</td>\n",
       "      <td>-1.093447</td>\n",
       "      <td>3.044624</td>\n",
       "    </tr>\n",
       "    <tr>\n",
       "      <th>8</th>\n",
       "      <td>0.682170</td>\n",
       "      <td>3.147274</td>\n",
       "      <td>0.767999</td>\n",
       "      <td>4.317469</td>\n",
       "    </tr>\n",
       "    <tr>\n",
       "      <th>9</th>\n",
       "      <td>1.785440</td>\n",
       "      <td>1.766788</td>\n",
       "      <td>0.995548</td>\n",
       "      <td>5.086883</td>\n",
       "    </tr>\n",
       "  </tbody>\n",
       "</table>\n",
       "</div>"
      ],
      "text/plain": [
       "          A         B         C         D\n",
       "0  0.706305 -0.789569 -0.692519  0.340655\n",
       "1  0.983967  0.379378 -1.149255 -0.483839\n",
       "2 -0.758218 -1.243865 -1.337898 -0.647969\n",
       "3 -1.245135 -1.648530 -0.509210  1.312965\n",
       "4 -1.254240 -0.427422 -0.109322  4.388656\n",
       "5 -0.813661  1.085784  0.141971  5.226978\n",
       "6  0.986519  2.963035 -0.579848  3.589078\n",
       "7  1.505282  4.335864 -1.093447  3.044624\n",
       "8  0.682170  3.147274  0.767999  4.317469\n",
       "9  1.785440  1.766788  0.995548  5.086883"
      ]
     },
     "execution_count": 19,
     "metadata": {},
     "output_type": "execute_result"
    }
   ],
   "source": [
    "cs=df.cumsum()\n",
    "cs"
   ]
  },
  {
   "cell_type": "code",
   "execution_count": 20,
   "metadata": {
    "collapsed": false,
    "deletable": true,
    "editable": true
   },
   "outputs": [],
   "source": [
    "plt.plot(cs)\n",
    "plt.savefig('b24_pandas_2.pdf')\n",
    "plt.clf()"
   ]
  }
 ],
 "metadata": {
  "kernelspec": {
   "display_name": "Python 3",
   "language": "python",
   "name": "python3"
  },
  "language_info": {
   "codemirror_mode": {
    "name": "ipython",
    "version": 3
   },
   "file_extension": ".py",
   "mimetype": "text/x-python",
   "name": "python",
   "nbconvert_exporter": "python",
   "pygments_lexer": "ipython3",
   "version": "3.6.1"
  }
 },
 "nbformat": 4,
 "nbformat_minor": 0
}

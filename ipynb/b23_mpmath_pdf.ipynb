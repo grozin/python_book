{
 "cells": [
  {
   "cell_type": "code",
   "execution_count": 1,
   "metadata": {
    "collapsed": true
   },
   "outputs": [],
   "source": [
    "from matplotlib import use\n",
    "use('pdf')\n",
    "from matplotlib.pyplot import savefig,clf"
   ]
  },
  {
   "cell_type": "code",
   "execution_count": 2,
   "metadata": {
    "collapsed": true
   },
   "outputs": [],
   "source": [
    "from mpmath import *"
   ]
  },
  {
   "cell_type": "code",
   "execution_count": 4,
   "metadata": {},
   "outputs": [],
   "source": [
    "plot([lambda x:besselj(0,x),\n",
    "      lambda x:besselj(1,x),\n",
    "      lambda x:besselj(2,x)],[0,10])\n",
    "savefig('b23_mpmath_1.pdf')\n",
    "clf()"
   ]
  },
  {
   "cell_type": "code",
   "execution_count": 5,
   "metadata": {},
   "outputs": [],
   "source": [
    "plot([lambda x:legendre(0,x),\n",
    "      lambda x:legendre(1,x),\n",
    "      lambda x:legendre(2,x),\n",
    "      lambda x:legendre(3,x)],[-1,1])\n",
    "savefig('b23_mpmath_2.pdf')\n",
    "clf()"
   ]
  },
  {
   "cell_type": "code",
   "execution_count": 6,
   "metadata": {},
   "outputs": [],
   "source": [
    "plot([lambda x:polylog(2,x),\n",
    "      lambda x:polylog(3,x),\n",
    "      lambda x:polylog(4,x)],[-4,1])\n",
    "savefig('b23_mpmath_3.pdf')\n",
    "clf()"
   ]
  },
  {
   "cell_type": "code",
   "execution_count": 7,
   "metadata": {},
   "outputs": [],
   "source": [
    "splot(lambda x,y:abs(gamma(x+j*y)),[-4,4],[-4,4])\n",
    "savefig('b23_mpmath_4.pdf')\n",
    "clf()"
   ]
  },
  {
   "cell_type": "code",
   "execution_count": 8,
   "metadata": {
    "collapsed": true
   },
   "outputs": [],
   "source": [
    "def f(x):\n",
    "    return exp(-x)-sin(x)"
   ]
  },
  {
   "cell_type": "code",
   "execution_count": 9,
   "metadata": {},
   "outputs": [],
   "source": [
    "plot(f,[0,pi])\n",
    "savefig('b23_mpmath_5.pdf')\n",
    "clf()"
   ]
  },
  {
   "cell_type": "code",
   "execution_count": 10,
   "metadata": {
    "collapsed": true
   },
   "outputs": [],
   "source": [
    "a=mpf('0.2')\n",
    "def f(t,x):\n",
    "    global a\n",
    "    return [x[1],-x[0]-2*a*x[1]]"
   ]
  },
  {
   "cell_type": "code",
   "execution_count": 11,
   "metadata": {
    "collapsed": true
   },
   "outputs": [],
   "source": [
    "x=odefun(f,0,[1,0])"
   ]
  },
  {
   "cell_type": "code",
   "execution_count": 12,
   "metadata": {},
   "outputs": [],
   "source": [
    "plot([lambda t:x(t)[0],lambda t:x(t)[1]],[0,10])\n",
    "savefig('b23_mpmath_6.pdf')\n",
    "clf()"
   ]
  }
 ],
 "metadata": {
  "kernelspec": {
   "display_name": "Python 3",
   "language": "python3.6",
   "name": "python3"
  },
  "language_info": {
   "codemirror_mode": {
    "name": "ipython",
    "version": 3
   },
   "file_extension": ".py",
   "mimetype": "text/x-python",
   "name": "python",
   "nbconvert_exporter": "python",
   "pygments_lexer": "ipython3",
   "version": "3.6.1"
  }
 },
 "nbformat": 4,
 "nbformat_minor": 1
}

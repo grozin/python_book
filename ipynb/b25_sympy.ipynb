{
 "cells": [
  {
   "cell_type": "markdown",
   "metadata": {
    "deletable": true,
    "editable": true
   },
   "source": [
    "# SymPy\n",
    "\n",
    "`SymPy` - это пакет для символьных вычислений на питоне, подобный системе *Mathematica*. Он работает с выражениями, содержащими символы."
   ]
  },
  {
   "cell_type": "code",
   "execution_count": 1,
   "metadata": {
    "collapsed": true,
    "deletable": true,
    "editable": true
   },
   "outputs": [],
   "source": [
    "from sympy import *\n",
    "init_printing()"
   ]
  },
  {
   "cell_type": "markdown",
   "metadata": {
    "deletable": true,
    "editable": true
   },
   "source": [
    "Основными кирпичиками, из которых строятся выражения, являются символы. Символ имеет имя, которое используется при печати выражений. Объекты класса `Symbol` нужно создавать и присваивать переменным питона, чтобы их можно было использовать. В принципе, имя символа и имя переменной, которой мы присваиваем этот символ - две независимые вещи, и можно написать `abc=Symbol('xyz')`. Но тогда при вводе программы Вы будете использовать `abc`, а при печати результатов `SymPy` будет использовать `xyz`, что приведёт к ненужной путанице. Поэтому лучше, чтобы имя символа совпадало с именем переменной питона, которой он присваивается.\n",
    "\n",
    "В языках, специально предназначенных для символьных вычислений, таких, как *Mathematica*, если Вы используете переменную, которой ничего не было присвоено, то она автоматически воспринимается как символ с тем же именем. Питон не был изначально предназначен для символьных вычислений. Если Вы используете переменную, которой ничего не было присвоено, Вы получите сообщение об ошибке. Объекты типа `Symbol` нужно создавать явно."
   ]
  },
  {
   "cell_type": "code",
   "execution_count": 2,
   "metadata": {
    "collapsed": false,
    "deletable": true,
    "editable": true
   },
   "outputs": [],
   "source": [
    "x=Symbol('x')"
   ]
  },
  {
   "cell_type": "code",
   "execution_count": 3,
   "metadata": {
    "collapsed": false,
    "deletable": true,
    "editable": true
   },
   "outputs": [
    {
     "data": {
      "image/png": "[encoded data removed]",
      "text/latex": [
       "$$x^{2} - 1$$"
      ],
      "text/plain": [
       " 2    \n",
       "x  - 1"
      ]
     },
     "execution_count": 3,
     "metadata": {},
     "output_type": "execute_result"
    }
   ],
   "source": [
    "a=x**2-1\n",
    "a"
   ]
  },
  {
   "cell_type": "code",
   "execution_count": 4,
   "metadata": {
    "collapsed": false,
    "deletable": true,
    "editable": true
   },
   "outputs": [
    {
     "data": {
      "text/plain": [
       "sympy.core.add.Add"
      ]
     },
     "execution_count": 4,
     "metadata": {},
     "output_type": "execute_result"
    }
   ],
   "source": [
    "type(a)"
   ]
  },
  {
   "cell_type": "markdown",
   "metadata": {
    "deletable": true,
    "editable": true
   },
   "source": [
    "Можно определить несколько символов одновременно. Строка разбивается на имена по пробелам."
   ]
  },
  {
   "cell_type": "code",
   "execution_count": 5,
   "metadata": {
    "collapsed": true,
    "deletable": true,
    "editable": true
   },
   "outputs": [],
   "source": [
    "y,z=symbols('y z')"
   ]
  },
  {
   "cell_type": "markdown",
   "metadata": {
    "deletable": true,
    "editable": true
   },
   "source": [
    "Подставим вместо $x$ выражение $y+1$."
   ]
  },
  {
   "cell_type": "code",
   "execution_count": 6,
   "metadata": {
    "collapsed": false,
    "deletable": true,
    "editable": true
   },
   "outputs": [
    {
     "data": {
      "image/png": "[encoded data removed]",
      "text/latex": [
       "$$\\left(y + 1\\right)^{2} - 1$$"
      ],
      "text/plain": [
       "       2    \n",
       "(y + 1)  - 1"
      ]
     },
     "execution_count": 6,
     "metadata": {},
     "output_type": "execute_result"
    }
   ],
   "source": [
    "a.subs(x,y+1)"
   ]
  },
  {
   "cell_type": "markdown",
   "metadata": {
    "deletable": true,
    "editable": true
   },
   "source": [
    "## Многочлены и рациональные функции\n",
    "\n",
    "`SymPy` не раскрывает скобки автоматически. Для этого используется функция `expand`."
   ]
  },
  {
   "cell_type": "code",
   "execution_count": 7,
   "metadata": {
    "collapsed": false,
    "deletable": true,
    "editable": true
   },
   "outputs": [
    {
     "data": {
      "image/png": "[encoded data removed]",
      "text/latex": [
       "$$\\left(x + y - z\\right)^{6}$$"
      ],
      "text/plain": [
       "           6\n",
       "(x + y - z) "
      ]
     },
     "execution_count": 7,
     "metadata": {},
     "output_type": "execute_result"
    }
   ],
   "source": [
    "a=(x+y-z)**6\n",
    "a"
   ]
  },
  {
   "cell_type": "code",
   "execution_count": 8,
   "metadata": {
    "collapsed": false,
    "deletable": true,
    "editable": true
   },
   "outputs": [
    {
     "data": {
      "image/png": "[encoded data removed]",
      "text/latex": [
       "$$x^{6} + 6 x^{5} y - 6 x^{5} z + 15 x^{4} y^{2} - 30 x^{4} y z + 15 x^{4} z^{2} + 20 x^{3} y^{3} - 60 x^{3} y^{2} z + 60 x^{3} y z^{2} - 20 x^{3} z^{3} + 15 x^{2} y^{4} - 60 x^{2} y^{3} z + 90 x^{2} y^{2} z^{2} - 60 x^{2} y z^{3} + 15 x^{2} z^{4} + 6 x y^{5} - 30 x y^{4} z + 60 x y^{3} z^{2} - 60 x y^{2} z^{3} + 30 x y z^{4} - 6 x z^{5} + y^{6} - 6 y^{5} z + 15 y^{4} z^{2} - 20 y^{3} z^{3} + 15 y^{2} z^{4} - 6 y z^{5} + z^{6}$$"
      ],
      "text/plain": [
       " 6      5        5         4  2       4           4  2       3  3       3  2  \n",
       "x  + 6⋅x ⋅y - 6⋅x ⋅z + 15⋅x ⋅y  - 30⋅x ⋅y⋅z + 15⋅x ⋅z  + 20⋅x ⋅y  - 60⋅x ⋅y ⋅z\n",
       "\n",
       "       3    2       3  3       2  4       2  3         2  2  2       2    3   \n",
       " + 60⋅x ⋅y⋅z  - 20⋅x ⋅z  + 15⋅x ⋅y  - 60⋅x ⋅y ⋅z + 90⋅x ⋅y ⋅z  - 60⋅x ⋅y⋅z  + \n",
       "\n",
       "    2  4        5         4           3  2         2  3           4        5  \n",
       "15⋅x ⋅z  + 6⋅x⋅y  - 30⋅x⋅y ⋅z + 60⋅x⋅y ⋅z  - 60⋅x⋅y ⋅z  + 30⋅x⋅y⋅z  - 6⋅x⋅z  +\n",
       "\n",
       "  6      5         4  2       3  3       2  4        5    6\n",
       " y  - 6⋅y ⋅z + 15⋅y ⋅z  - 20⋅y ⋅z  + 15⋅y ⋅z  - 6⋅y⋅z  + z "
      ]
     },
     "execution_count": 8,
     "metadata": {},
     "output_type": "execute_result"
    }
   ],
   "source": [
    "a=expand(a)\n",
    "a"
   ]
  },
  {
   "cell_type": "markdown",
   "metadata": {
    "deletable": true,
    "editable": true
   },
   "source": [
    "Степень многочлена $a$ по $x$."
   ]
  },
  {
   "cell_type": "code",
   "execution_count": 9,
   "metadata": {
    "collapsed": false,
    "deletable": true,
    "editable": true
   },
   "outputs": [
    {
     "data": {
      "image/png": "[encoded data removed]",
      "text/latex": [
       "$$6$$"
      ],
      "text/plain": [
       "6"
      ]
     },
     "execution_count": 9,
     "metadata": {},
     "output_type": "execute_result"
    }
   ],
   "source": [
    "degree(a,x)"
   ]
  },
  {
   "cell_type": "markdown",
   "metadata": {
    "deletable": true,
    "editable": true
   },
   "source": [
    "Соберём вместе члены с определёнными степенями $x$."
   ]
  },
  {
   "cell_type": "code",
   "execution_count": 10,
   "metadata": {
    "collapsed": false,
    "deletable": true,
    "editable": true
   },
   "outputs": [
    {
     "data": {
      "image/png": "[encoded data removed]",
      "text/latex": [
       "$$x^{6} + x^{5} \\left(6 y - 6 z\\right) + x^{4} \\left(15 y^{2} - 30 y z + 15 z^{2}\\right) + x^{3} \\left(20 y^{3} - 60 y^{2} z + 60 y z^{2} - 20 z^{3}\\right) + x^{2} \\left(15 y^{4} - 60 y^{3} z + 90 y^{2} z^{2} - 60 y z^{3} + 15 z^{4}\\right) + x \\left(6 y^{5} - 30 y^{4} z + 60 y^{3} z^{2} - 60 y^{2} z^{3} + 30 y z^{4} - 6 z^{5}\\right) + y^{6} - 6 y^{5} z + 15 y^{4} z^{2} - 20 y^{3} z^{3} + 15 y^{2} z^{4} - 6 y z^{5} + z^{6}$$"
      ],
      "text/plain": [
       " 6    5                4 ⎛    2                2⎞    3 ⎛    3       2         \n",
       "x  + x ⋅(6⋅y - 6⋅z) + x ⋅⎝15⋅y  - 30⋅y⋅z + 15⋅z ⎠ + x ⋅⎝20⋅y  - 60⋅y ⋅z + 60⋅y\n",
       "\n",
       "  2       3⎞    2 ⎛    4       3         2  2         3       4⎞     ⎛   5    \n",
       "⋅z  - 20⋅z ⎠ + x ⋅⎝15⋅y  - 60⋅y ⋅z + 90⋅y ⋅z  - 60⋅y⋅z  + 15⋅z ⎠ + x⋅⎝6⋅y  - 3\n",
       "\n",
       "   4         3  2       2  3         4      5⎞    6      5         4  2       \n",
       "0⋅y ⋅z + 60⋅y ⋅z  - 60⋅y ⋅z  + 30⋅y⋅z  - 6⋅z ⎠ + y  - 6⋅y ⋅z + 15⋅y ⋅z  - 20⋅y\n",
       "\n",
       "3  3       2  4        5    6\n",
       " ⋅z  + 15⋅y ⋅z  - 6⋅y⋅z  + z "
      ]
     },
     "execution_count": 10,
     "metadata": {},
     "output_type": "execute_result"
    }
   ],
   "source": [
    "collect(a,x)"
   ]
  },
  {
   "cell_type": "markdown",
   "metadata": {
    "deletable": true,
    "editable": true
   },
   "source": [
    "Многочлен с целыми коэффициентами можно записать в виде произведения таких многочленов (причём каждый сомножитель уже невозможно расфакторизовать дальше, оставаясь в рамках многочленов с целыми коэффициентами). Существуют эффективные алгоритмы для решения этой задачи."
   ]
  },
  {
   "cell_type": "code",
   "execution_count": 11,
   "metadata": {
    "collapsed": false,
    "deletable": true,
    "editable": true
   },
   "outputs": [
    {
     "data": {
      "image/png": "[encoded data removed]",
      "text/latex": [
       "$$\\left(x + y - z\\right)^{6}$$"
      ],
      "text/plain": [
       "           6\n",
       "(x + y - z) "
      ]
     },
     "execution_count": 11,
     "metadata": {},
     "output_type": "execute_result"
    }
   ],
   "source": [
    "a=factor(a)\n",
    "a"
   ]
  },
  {
   "cell_type": "markdown",
   "metadata": {
    "deletable": true,
    "editable": true
   },
   "source": [
    "`SymPy` не сокращает отношения многочленов на их наибольший общий делитель автоматически. Для этого используется функция `cancel`."
   ]
  },
  {
   "cell_type": "code",
   "execution_count": 12,
   "metadata": {
    "collapsed": false,
    "deletable": true,
    "editable": true
   },
   "outputs": [
    {
     "data": {
      "image/png": "[encoded data removed]",
      "text/latex": [
       "$$\\frac{x^{3} - y^{3}}{x^{2} - y^{2}}$$"
      ],
      "text/plain": [
       " 3    3\n",
       "x  - y \n",
       "───────\n",
       " 2    2\n",
       "x  - y "
      ]
     },
     "execution_count": 12,
     "metadata": {},
     "output_type": "execute_result"
    }
   ],
   "source": [
    "a=(x**3-y**3)/(x**2-y**2)\n",
    "a"
   ]
  },
  {
   "cell_type": "code",
   "execution_count": 13,
   "metadata": {
    "collapsed": false,
    "deletable": true,
    "editable": true
   },
   "outputs": [
    {
     "data": {
      "image/png": "[encoded data removed]",
      "text/latex": [
       "$$\\frac{x^{2} + x y + y^{2}}{x + y}$$"
      ],
      "text/plain": [
       " 2          2\n",
       "x  + x⋅y + y \n",
       "─────────────\n",
       "    x + y    "
      ]
     },
     "execution_count": 13,
     "metadata": {},
     "output_type": "execute_result"
    }
   ],
   "source": [
    "cancel(a)"
   ]
  },
  {
   "cell_type": "markdown",
   "metadata": {
    "deletable": true,
    "editable": true
   },
   "source": [
    "`SymPy` не приводит суммы рациональных выражений к общему знаменателю автоматически. Для этого используется функция `together`."
   ]
  },
  {
   "cell_type": "code",
   "execution_count": 14,
   "metadata": {
    "collapsed": false,
    "deletable": true,
    "editable": true
   },
   "outputs": [
    {
     "data": {
      "image/png": "[encoded data removed]",
      "text/latex": [
       "$$\\frac{x}{x + y} + \\frac{y}{x - y}$$"
      ],
      "text/plain": [
       "  x       y  \n",
       "───── + ─────\n",
       "x + y   x - y"
      ]
     },
     "execution_count": 14,
     "metadata": {},
     "output_type": "execute_result"
    }
   ],
   "source": [
    "a=y/(x-y)+x/(x+y)\n",
    "a"
   ]
  },
  {
   "cell_type": "code",
   "execution_count": 15,
   "metadata": {
    "collapsed": false,
    "deletable": true,
    "editable": true
   },
   "outputs": [
    {
     "data": {
      "image/png": "[encoded data removed]",
      "text/latex": [
       "$$\\frac{x \\left(x - y\\right) + y \\left(x + y\\right)}{\\left(x - y\\right) \\left(x + y\\right)}$$"
      ],
      "text/plain": [
       "x⋅(x - y) + y⋅(x + y)\n",
       "─────────────────────\n",
       "   (x - y)⋅(x + y)   "
      ]
     },
     "execution_count": 15,
     "metadata": {},
     "output_type": "execute_result"
    }
   ],
   "source": [
    "together(a)"
   ]
  },
  {
   "cell_type": "markdown",
   "metadata": {
    "deletable": true,
    "editable": true
   },
   "source": [
    "Функция `simplify` пытается переписать выражение *в наиболее простом виде*. Это понятие не имеет чёткого определения (в разных ситуациях *наиболее простыми* могут считаться разные формы выражения), и не существует алгоритма такого упрощения. Функция `symplify` работает эвристически, и невозможно заранее предугадать, какие упрощения она попытается сделать. Поэтому её удобно использовать в интерактивных сессиях, чтобы посмотреть, удастся ли ей записать выражение в каком-нибудь разумном виде, но нежелательно использовать в программах. В них лучше применять более специализированные функции, которые выполняют одно определённое преобразование выражения."
   ]
  },
  {
   "cell_type": "code",
   "execution_count": 16,
   "metadata": {
    "collapsed": false,
    "deletable": true,
    "editable": true
   },
   "outputs": [
    {
     "data": {
      "image/png": "[encoded data removed]",
      "text/latex": [
       "$$\\frac{x^{2} + y^{2}}{x^{2} - y^{2}}$$"
      ],
      "text/plain": [
       " 2    2\n",
       "x  + y \n",
       "───────\n",
       " 2    2\n",
       "x  - y "
      ]
     },
     "execution_count": 16,
     "metadata": {},
     "output_type": "execute_result"
    }
   ],
   "source": [
    "simplify(a)"
   ]
  },
  {
   "cell_type": "markdown",
   "metadata": {
    "deletable": true,
    "editable": true
   },
   "source": [
    "Разложение на элементарные дроби по отношению к $x$ и $y$."
   ]
  },
  {
   "cell_type": "code",
   "execution_count": 17,
   "metadata": {
    "collapsed": false,
    "deletable": true,
    "editable": true
   },
   "outputs": [
    {
     "data": {
      "image/png": "[encoded data removed]",
      "text/latex": [
       "$$- \\frac{y}{x + y} + \\frac{y}{x - y} + 1$$"
      ],
      "text/plain": [
       "    y       y      \n",
       "- ───── + ───── + 1\n",
       "  x + y   x - y    "
      ]
     },
     "execution_count": 17,
     "metadata": {},
     "output_type": "execute_result"
    }
   ],
   "source": [
    "apart(a,x)"
   ]
  },
  {
   "cell_type": "code",
   "execution_count": 18,
   "metadata": {
    "collapsed": false,
    "deletable": true,
    "editable": true
   },
   "outputs": [
    {
     "data": {
      "image/png": "[encoded data removed]",
      "text/latex": [
       "$$\\frac{x}{x + y} + \\frac{x}{x - y} - 1$$"
      ],
      "text/plain": [
       "  x       x      \n",
       "───── + ───── - 1\n",
       "x + y   x - y    "
      ]
     },
     "execution_count": 18,
     "metadata": {},
     "output_type": "execute_result"
    }
   ],
   "source": [
    "apart(a,y)"
   ]
  },
  {
   "cell_type": "markdown",
   "metadata": {
    "deletable": true,
    "editable": true
   },
   "source": [
    "Подставим конкретные численные значения вместо переменных $x$ и $y$."
   ]
  },
  {
   "cell_type": "code",
   "execution_count": 19,
   "metadata": {
    "collapsed": false,
    "deletable": true,
    "editable": true
   },
   "outputs": [
    {
     "data": {
      "image/png": "[encoded data removed]",
      "text/latex": [
       "$$- \\frac{5}{3}$$"
      ],
      "text/plain": [
       "-5/3"
      ]
     },
     "execution_count": 19,
     "metadata": {},
     "output_type": "execute_result"
    }
   ],
   "source": [
    "a=a.subs({x:1,y:2})\n",
    "a"
   ]
  },
  {
   "cell_type": "markdown",
   "metadata": {
    "deletable": true,
    "editable": true
   },
   "source": [
    "А сколько это будет численно?"
   ]
  },
  {
   "cell_type": "code",
   "execution_count": 20,
   "metadata": {
    "collapsed": false,
    "deletable": true,
    "editable": true
   },
   "outputs": [
    {
     "data": {
      "image/png": "[encoded data removed]",
      "text/latex": [
       "$$-1.66666666666667$$"
      ],
      "text/plain": [
       "-1.66666666666667"
      ]
     },
     "execution_count": 20,
     "metadata": {},
     "output_type": "execute_result"
    }
   ],
   "source": [
    "a.n()"
   ]
  },
  {
   "cell_type": "markdown",
   "metadata": {
    "deletable": true,
    "editable": true
   },
   "source": [
    "## Элементарные функции\n",
    "\n",
    "`SymPy` автоматически применяет упрощения элементарных функция (которые справедливы во всех случаях)."
   ]
  },
  {
   "cell_type": "code",
   "execution_count": 21,
   "metadata": {
    "collapsed": false,
    "deletable": true,
    "editable": true
   },
   "outputs": [
    {
     "data": {
      "image/png": "[encoded data removed]",
      "text/latex": [
       "$$- \\sin{\\left (x \\right )}$$"
      ],
      "text/plain": [
       "-sin(x)"
      ]
     },
     "execution_count": 21,
     "metadata": {},
     "output_type": "execute_result"
    }
   ],
   "source": [
    "sin(-x)"
   ]
  },
  {
   "cell_type": "code",
   "execution_count": 22,
   "metadata": {
    "collapsed": false,
    "deletable": true,
    "editable": true
   },
   "outputs": [
    {
     "data": {
      "image/png": "[encoded data removed]",
      "text/latex": [
       "$$\\left ( \\frac{\\sqrt{2}}{2}, \\quad - \\frac{\\sqrt{3}}{3}\\right )$$"
      ],
      "text/plain": [
       "⎛√2  -√3 ⎞\n",
       "⎜──, ────⎟\n",
       "⎝2    3  ⎠"
      ]
     },
     "execution_count": 22,
     "metadata": {},
     "output_type": "execute_result"
    }
   ],
   "source": [
    "cos(pi/4),tan(5*pi/6)"
   ]
  },
  {
   "cell_type": "markdown",
   "metadata": {
    "deletable": true,
    "editable": true
   },
   "source": [
    "`SymPy` может работать с числами с плавающей точкой, имеющими сколь угодно большую точность. Вот $\\pi$ с 100 значащими цифрами."
   ]
  },
  {
   "cell_type": "code",
   "execution_count": 23,
   "metadata": {
    "collapsed": false,
    "deletable": true,
    "editable": true
   },
   "outputs": [
    {
     "data": {
      "image/png": "[encoded data removed]",
      "text/latex": [
       "$$3.141592653589793238462643383279502884197169399375105820974944592307816406286208998628034825342117068$$"
      ],
      "text/plain": [
       "3.1415926535897932384626433832795028841971693993751058209749445923078164062862\n",
       "08998628034825342117068"
      ]
     },
     "execution_count": 23,
     "metadata": {},
     "output_type": "execute_result"
    }
   ],
   "source": [
    "pi.n(100)"
   ]
  },
  {
   "cell_type": "markdown",
   "metadata": {
    "collapsed": false,
    "deletable": true,
    "editable": true
   },
   "source": [
    "`E` - это основание натуральных логарифмов."
   ]
  },
  {
   "cell_type": "code",
   "execution_count": 24,
   "metadata": {
    "collapsed": false,
    "deletable": true,
    "editable": true
   },
   "outputs": [
    {
     "data": {
      "image/png": "[encoded data removed]",
      "text/latex": [
       "$$\\left ( 0, \\quad 1\\right )$$"
      ],
      "text/plain": [
       "(0, 1)"
      ]
     },
     "execution_count": 24,
     "metadata": {},
     "output_type": "execute_result"
    }
   ],
   "source": [
    "log(1),log(E)"
   ]
  },
  {
   "cell_type": "code",
   "execution_count": 25,
   "metadata": {
    "collapsed": false,
    "deletable": true,
    "editable": true
   },
   "outputs": [
    {
     "data": {
      "image/png": "[encoded data removed]",
      "text/latex": [
       "$$\\left ( x, \\quad \\log{\\left (e^{x} \\right )}\\right )$$"
      ],
      "text/plain": [
       "⎛      ⎛ x⎞⎞\n",
       "⎝x, log⎝ℯ ⎠⎠"
      ]
     },
     "execution_count": 25,
     "metadata": {},
     "output_type": "execute_result"
    }
   ],
   "source": [
    "exp(log(x)),log(exp(x))"
   ]
  },
  {
   "cell_type": "markdown",
   "metadata": {
    "deletable": true,
    "editable": true
   },
   "source": [
    "А почему не $x$? Попробуйте подставить $x=2\\pi i$."
   ]
  },
  {
   "cell_type": "code",
   "execution_count": 26,
   "metadata": {
    "collapsed": false,
    "deletable": true,
    "editable": true
   },
   "outputs": [
    {
     "data": {
      "image/png": "[encoded data removed]",
      "text/latex": [
       "$$0$$"
      ],
      "text/plain": [
       "0"
      ]
     },
     "execution_count": 26,
     "metadata": {},
     "output_type": "execute_result"
    }
   ],
   "source": [
    "sqrt(0)"
   ]
  },
  {
   "cell_type": "code",
   "execution_count": 27,
   "metadata": {
    "collapsed": false,
    "deletable": true,
    "editable": true
   },
   "outputs": [
    {
     "data": {
      "image/png": "[encoded data removed]",
      "text/latex": [
       "$$\\left ( x^{2}, \\quad \\sqrt{x^{4}}\\right )$$"
      ],
      "text/plain": [
       "⎛       ____⎞\n",
       "⎜ 2    ╱  4 ⎟\n",
       "⎝x , ╲╱  x  ⎠"
      ]
     },
     "execution_count": 27,
     "metadata": {},
     "output_type": "execute_result"
    }
   ],
   "source": [
    "sqrt(x)**4,sqrt(x**4)"
   ]
  },
  {
   "cell_type": "markdown",
   "metadata": {
    "deletable": true,
    "editable": true
   },
   "source": [
    "А почему не $x^2$? Попробуйте подставить $x=i$.\n",
    "\n",
    "Символы могут иметь некоторые свойства. Например, они могут быть положительными. Тогда `SymPy` может сильнее упростить квадратные корни."
   ]
  },
  {
   "cell_type": "code",
   "execution_count": 28,
   "metadata": {
    "collapsed": false,
    "deletable": true,
    "editable": true
   },
   "outputs": [
    {
     "data": {
      "image/png": "[encoded data removed]",
      "text/latex": [
       "$$p$$"
      ],
      "text/plain": [
       "p"
      ]
     },
     "execution_count": 28,
     "metadata": {},
     "output_type": "execute_result"
    }
   ],
   "source": [
    "p,q=symbols('p q',positive=True)\n",
    "sqrt(p**2)"
   ]
  },
  {
   "cell_type": "code",
   "execution_count": 29,
   "metadata": {
    "collapsed": false,
    "deletable": true,
    "editable": true
   },
   "outputs": [
    {
     "data": {
      "image/png": "[encoded data removed]",
      "text/latex": [
       "$$\\left ( 2 \\sqrt{3} \\sqrt{x^{2} y}, \\quad 2 \\sqrt{3} p \\sqrt{y}\\right )$$"
      ],
      "text/plain": [
       "⎛        ______           ⎞\n",
       "⎜       ╱  2              ⎟\n",
       "⎝2⋅√3⋅╲╱  x ⋅y , 2⋅√3⋅p⋅√y⎠"
      ]
     },
     "execution_count": 29,
     "metadata": {},
     "output_type": "execute_result"
    }
   ],
   "source": [
    "sqrt(12*x**2*y),sqrt(12*p**2*y)"
   ]
  },
  {
   "cell_type": "markdown",
   "metadata": {
    "deletable": true,
    "editable": true
   },
   "source": [
    "Пусть символ $n$ будет целым (`I` - это мнимая единица)."
   ]
  },
  {
   "cell_type": "code",
   "execution_count": 30,
   "metadata": {
    "collapsed": false,
    "deletable": true,
    "editable": true
   },
   "outputs": [
    {
     "data": {
      "image/png": "[encoded data removed]",
      "text/latex": [
       "$$1$$"
      ],
      "text/plain": [
       "1"
      ]
     },
     "execution_count": 30,
     "metadata": {},
     "output_type": "execute_result"
    }
   ],
   "source": [
    "n=Symbol('n',integer=True)\n",
    "simplify(exp(2*pi*I*n))"
   ]
  },
  {
   "cell_type": "code",
   "execution_count": 31,
   "metadata": {
    "collapsed": false,
    "deletable": true,
    "editable": true
   },
   "outputs": [
    {
     "data": {
      "image/png": "[encoded data removed]",
      "text/latex": [
       "$$0$$"
      ],
      "text/plain": [
       "0"
      ]
     },
     "execution_count": 31,
     "metadata": {},
     "output_type": "execute_result"
    }
   ],
   "source": [
    "sin(pi*n)"
   ]
  },
  {
   "cell_type": "markdown",
   "metadata": {
    "deletable": true,
    "editable": true
   },
   "source": [
    "Метод `rewrite` пытается переписать выражение в терминах заданной функции."
   ]
  },
  {
   "cell_type": "code",
   "execution_count": 32,
   "metadata": {
    "collapsed": false,
    "deletable": true,
    "editable": true
   },
   "outputs": [
    {
     "data": {
      "image/png": "[encoded data removed]",
      "text/latex": [
       "$$\\left ( \\frac{e^{i x}}{2} + \\frac{1}{2} e^{- i x}, \\quad i \\sin{\\left (x \\right )} + \\cos{\\left (x \\right )}\\right )$$"
      ],
      "text/plain": [
       "⎛ ⅈ⋅x    -ⅈ⋅x                   ⎞\n",
       "⎜ℯ      ℯ                       ⎟\n",
       "⎜──── + ─────, ⅈ⋅sin(x) + cos(x)⎟\n",
       "⎝ 2       2                     ⎠"
      ]
     },
     "execution_count": 32,
     "metadata": {},
     "output_type": "execute_result"
    }
   ],
   "source": [
    "cos(x).rewrite(exp),exp(I*x).rewrite(cos)"
   ]
  },
  {
   "cell_type": "code",
   "execution_count": 33,
   "metadata": {
    "collapsed": false,
    "deletable": true,
    "editable": true
   },
   "outputs": [
    {
     "data": {
      "image/png": "[encoded data removed]",
      "text/latex": [
       "$$- i \\log{\\left (i x + \\sqrt{- x^{2} + 1} \\right )}$$"
      ],
      "text/plain": [
       "      ⎛         __________⎞\n",
       "      ⎜        ╱    2     ⎟\n",
       "-ⅈ⋅log⎝ⅈ⋅x + ╲╱  - x  + 1 ⎠"
      ]
     },
     "execution_count": 33,
     "metadata": {},
     "output_type": "execute_result"
    }
   ],
   "source": [
    "asin(x).rewrite(log)"
   ]
  },
  {
   "cell_type": "markdown",
   "metadata": {
    "deletable": true,
    "editable": true
   },
   "source": [
    "Функция `trigsimp` пытается переписать тригонометрическое выражение в *наиболее простом виде*. В программах лучше использовать более специализированные функции."
   ]
  },
  {
   "cell_type": "code",
   "execution_count": 34,
   "metadata": {
    "collapsed": false,
    "deletable": true,
    "editable": true
   },
   "outputs": [
    {
     "data": {
      "image/png": "[encoded data removed]",
      "text/latex": [
       "$$\\cos^{2}{\\left (x \\right )} + 2$$"
      ],
      "text/plain": [
       "   2       \n",
       "cos (x) + 2"
      ]
     },
     "execution_count": 34,
     "metadata": {},
     "output_type": "execute_result"
    }
   ],
   "source": [
    "trigsimp(2*sin(x)**2+3*cos(x)**2)"
   ]
  },
  {
   "cell_type": "markdown",
   "metadata": {
    "deletable": true,
    "editable": true
   },
   "source": [
    "Функция `expand_trig` разлагает синусы и косинусы сумм и кратных углов."
   ]
  },
  {
   "cell_type": "code",
   "execution_count": 35,
   "metadata": {
    "collapsed": false,
    "deletable": true,
    "editable": true
   },
   "outputs": [
    {
     "data": {
      "image/png": "[encoded data removed]",
      "text/latex": [
       "$$\\left ( \\sin{\\left (x \\right )} \\cos{\\left (y \\right )} - \\sin{\\left (y \\right )} \\cos{\\left (x \\right )}, \\quad 2 \\sin{\\left (x \\right )} \\cos{\\left (x \\right )}\\right )$$"
      ],
      "text/plain": [
       "(sin(x)⋅cos(y) - sin(y)⋅cos(x), 2⋅sin(x)⋅cos(x))"
      ]
     },
     "execution_count": 35,
     "metadata": {},
     "output_type": "execute_result"
    }
   ],
   "source": [
    "expand_trig(sin(x-y)),expand_trig(sin(2*x))"
   ]
  },
  {
   "cell_type": "markdown",
   "metadata": {
    "deletable": true,
    "editable": true
   },
   "source": [
    "Чаще нужно обратное преобразование - произведений и степеней синусов и косинусов в выражения, линейные по этим функциям. Например, пусть мы работаем с отрезком ряда Фурье."
   ]
  },
  {
   "cell_type": "code",
   "execution_count": 36,
   "metadata": {
    "collapsed": false,
    "deletable": true,
    "editable": true
   },
   "outputs": [
    {
     "data": {
      "image/png": "[encoded data removed]",
      "text/latex": [
       "$$a_{1} \\cos{\\left (x \\right )} + a_{2} \\cos{\\left (2 x \\right )} + b_{1} \\sin{\\left (x \\right )} + b_{2} \\sin{\\left (2 x \\right )}$$"
      ],
      "text/plain": [
       "a₁⋅cos(x) + a₂⋅cos(2⋅x) + b₁⋅sin(x) + b₂⋅sin(2⋅x)"
      ]
     },
     "execution_count": 36,
     "metadata": {},
     "output_type": "execute_result"
    }
   ],
   "source": [
    "a1,a2,b1,b2=symbols('a1 a2 b1 b2')\n",
    "a=a1*cos(x)+a2*cos(2*x)+b1*sin(x)+b2*sin(2*x)\n",
    "a"
   ]
  },
  {
   "cell_type": "markdown",
   "metadata": {
    "deletable": true,
    "editable": true
   },
   "source": [
    "Мы хотим возвести его в квадрат и опять получить отрезок ряда Фурье."
   ]
  },
  {
   "cell_type": "code",
   "execution_count": 37,
   "metadata": {
    "collapsed": false,
    "deletable": true,
    "editable": true
   },
   "outputs": [
    {
     "data": {
      "image/png": "[encoded data removed]",
      "text/latex": [
       "$$\\frac{a_{1}^{2}}{2} \\cos{\\left (2 x \\right )} + \\frac{a_{1}^{2}}{2} + a_{1} a_{2} \\cos{\\left (x \\right )} + a_{1} a_{2} \\cos{\\left (3 x \\right )} + a_{1} b_{1} \\sin{\\left (2 x \\right )} + a_{1} b_{2} \\sin{\\left (x \\right )} + a_{1} b_{2} \\sin{\\left (3 x \\right )} + \\frac{a_{2}^{2}}{2} \\cos{\\left (4 x \\right )} + \\frac{a_{2}^{2}}{2} - a_{2} b_{1} \\sin{\\left (x \\right )} + a_{2} b_{1} \\sin{\\left (3 x \\right )} + a_{2} b_{2} \\sin{\\left (4 x \\right )} - \\frac{b_{1}^{2}}{2} \\cos{\\left (2 x \\right )} + \\frac{b_{1}^{2}}{2} + b_{1} b_{2} \\cos{\\left (x \\right )} - b_{1} b_{2} \\cos{\\left (3 x \\right )} - \\frac{b_{2}^{2}}{2} \\cos{\\left (4 x \\right )} + \\frac{b_{2}^{2}}{2}$$"
      ],
      "text/plain": [
       "  2              2                                                            \n",
       "a₁ ⋅cos(2⋅x)   a₁                                                             \n",
       "──────────── + ─── + a₁⋅a₂⋅cos(x) + a₁⋅a₂⋅cos(3⋅x) + a₁⋅b₁⋅sin(2⋅x) + a₁⋅b₂⋅si\n",
       "     2          2                                                             \n",
       "\n",
       "                          2              2                                    \n",
       "                        a₂ ⋅cos(4⋅x)   a₂                                     \n",
       "n(x) + a₁⋅b₂⋅sin(3⋅x) + ──────────── + ─── - a₂⋅b₁⋅sin(x) + a₂⋅b₁⋅sin(3⋅x) + a\n",
       "                             2          2                                     \n",
       "\n",
       "                  2              2                                     2      \n",
       "                b₁ ⋅cos(2⋅x)   b₁                                    b₂ ⋅cos(4\n",
       "₂⋅b₂⋅sin(4⋅x) - ──────────── + ─── + b₁⋅b₂⋅cos(x) - b₁⋅b₂⋅cos(3⋅x) - ─────────\n",
       "                     2          2                                         2   \n",
       "\n",
       "        2\n",
       "⋅x)   b₂ \n",
       "─── + ───\n",
       "       2 "
      ]
     },
     "execution_count": 37,
     "metadata": {},
     "output_type": "execute_result"
    }
   ],
   "source": [
    "a=(a**2).rewrite(exp).expand().rewrite(cos).expand()\n",
    "a"
   ]
  },
  {
   "cell_type": "code",
   "execution_count": 38,
   "metadata": {
    "collapsed": false,
    "deletable": true,
    "editable": true
   },
   "outputs": [
    {
     "data": {
      "image/png": "[encoded data removed]",
      "text/latex": [
       "$$\\frac{a_{1}^{2}}{2} + a_{1} b_{1} \\sin{\\left (2 x \\right )} + \\frac{a_{2}^{2}}{2} \\cos{\\left (4 x \\right )} + \\frac{a_{2}^{2}}{2} + a_{2} b_{2} \\sin{\\left (4 x \\right )} + \\frac{b_{1}^{2}}{2} - \\frac{b_{2}^{2}}{2} \\cos{\\left (4 x \\right )} + \\frac{b_{2}^{2}}{2} + \\left(\\frac{a_{1}^{2}}{2} - \\frac{b_{1}^{2}}{2}\\right) \\cos{\\left (2 x \\right )} + \\left(a_{1} a_{2} - b_{1} b_{2}\\right) \\cos{\\left (3 x \\right )} + \\left(a_{1} a_{2} + b_{1} b_{2}\\right) \\cos{\\left (x \\right )} + \\left(a_{1} b_{2} - a_{2} b_{1}\\right) \\sin{\\left (x \\right )} + \\left(a_{1} b_{2} + a_{2} b_{1}\\right) \\sin{\\left (3 x \\right )}$$"
      ],
      "text/plain": [
       "  2                      2              2                      2     2        \n",
       "a₁                     a₂ ⋅cos(4⋅x)   a₂                     b₁    b₂ ⋅cos(4⋅x\n",
       "─── + a₁⋅b₁⋅sin(2⋅x) + ──────────── + ─── + a₂⋅b₂⋅sin(4⋅x) + ─── - ───────────\n",
       " 2                          2          2                      2         2     \n",
       "\n",
       "      2   ⎛  2     2⎞                                                         \n",
       ")   b₂    ⎜a₁    b₁ ⎟                                                         \n",
       "─ + ─── + ⎜─── - ───⎟⋅cos(2⋅x) + (a₁⋅a₂ - b₁⋅b₂)⋅cos(3⋅x) + (a₁⋅a₂ + b₁⋅b₂)⋅co\n",
       "     2    ⎝ 2     2 ⎠                                                         \n",
       "\n",
       "                                                        \n",
       "                                                        \n",
       "s(x) + (a₁⋅b₂ - a₂⋅b₁)⋅sin(x) + (a₁⋅b₂ + a₂⋅b₁)⋅sin(3⋅x)\n",
       "                                                        "
      ]
     },
     "execution_count": 38,
     "metadata": {},
     "output_type": "execute_result"
    }
   ],
   "source": [
    "a.collect([cos(x),cos(2*x),cos(3*x),sin(x),sin(2*x),sin(3*x)])"
   ]
  },
  {
   "cell_type": "markdown",
   "metadata": {
    "deletable": true,
    "editable": true
   },
   "source": [
    "Функция `expand_log` преобразует логарифмы произведений и степеней в суммы логарифмов (только для положительных величин); `logcombine` производит обратное преобразование."
   ]
  },
  {
   "cell_type": "code",
   "execution_count": 39,
   "metadata": {
    "collapsed": false,
    "deletable": true,
    "editable": true
   },
   "outputs": [
    {
     "data": {
      "image/png": "[encoded data removed]",
      "text/latex": [
       "$$\\log{\\left (p \\right )} + 2 \\log{\\left (q \\right )}$$"
      ],
      "text/plain": [
       "log(p) + 2⋅log(q)"
      ]
     },
     "execution_count": 39,
     "metadata": {},
     "output_type": "execute_result"
    }
   ],
   "source": [
    "a=expand_log(log(p*q**2))\n",
    "a"
   ]
  },
  {
   "cell_type": "code",
   "execution_count": 40,
   "metadata": {
    "collapsed": false,
    "deletable": true,
    "editable": true
   },
   "outputs": [
    {
     "data": {
      "image/png": "[encoded data removed]",
      "text/latex": [
       "$$\\log{\\left (p q^{2} \\right )}$$"
      ],
      "text/plain": [
       "   ⎛   2⎞\n",
       "log⎝p⋅q ⎠"
      ]
     },
     "execution_count": 40,
     "metadata": {},
     "output_type": "execute_result"
    }
   ],
   "source": [
    "logcombine(a)"
   ]
  },
  {
   "cell_type": "markdown",
   "metadata": {
    "collapsed": false,
    "deletable": true,
    "editable": true
   },
   "source": [
    "Функция `expand_power_exp` переписывает степени, показатели которых - суммы, через произведения степеней."
   ]
  },
  {
   "cell_type": "code",
   "execution_count": 41,
   "metadata": {
    "collapsed": false,
    "deletable": true,
    "editable": true
   },
   "outputs": [
    {
     "data": {
      "image/png": "[encoded data removed]",
      "text/latex": [
       "$$x^{p} x^{q}$$"
      ],
      "text/plain": [
       " p  q\n",
       "x ⋅x "
      ]
     },
     "execution_count": 41,
     "metadata": {},
     "output_type": "execute_result"
    }
   ],
   "source": [
    "expand_power_exp(x**(p+q))"
   ]
  },
  {
   "cell_type": "markdown",
   "metadata": {
    "deletable": true,
    "editable": true
   },
   "source": [
    "Функция `expand_power_base` переписывает степени, основания которых - произведения, через произведения степеней."
   ]
  },
  {
   "cell_type": "code",
   "execution_count": 42,
   "metadata": {
    "collapsed": false,
    "deletable": true,
    "editable": true
   },
   "outputs": [
    {
     "data": {
      "image/png": "[encoded data removed]",
      "text/latex": [
       "$$x^{n} y^{n}$$"
      ],
      "text/plain": [
       " n  n\n",
       "x ⋅y "
      ]
     },
     "execution_count": 42,
     "metadata": {},
     "output_type": "execute_result"
    }
   ],
   "source": [
    "expand_power_base((x*y)**n)"
   ]
  },
  {
   "cell_type": "markdown",
   "metadata": {
    "deletable": true,
    "editable": true
   },
   "source": [
    "Функция `powsimp` выполняет обратные преобразования."
   ]
  },
  {
   "cell_type": "code",
   "execution_count": 43,
   "metadata": {
    "collapsed": false,
    "deletable": true,
    "editable": true
   },
   "outputs": [
    {
     "data": {
      "image/png": "[encoded data removed]",
      "text/latex": [
       "$$\\left ( e^{x + 2 y}, \\quad \\left(x y\\right)^{n}\\right )$$"
      ],
      "text/plain": [
       "⎛ x + 2⋅y       n⎞\n",
       "⎝ℯ       , (x⋅y) ⎠"
      ]
     },
     "execution_count": 43,
     "metadata": {},
     "output_type": "execute_result"
    }
   ],
   "source": [
    "powsimp(exp(x)*exp(2*y)),powsimp(x**n*y**n)"
   ]
  },
  {
   "cell_type": "markdown",
   "metadata": {
    "deletable": true,
    "editable": true
   },
   "source": [
    "Можно вводить функции пользователя. Они могут иметь произвольное число аргументов."
   ]
  },
  {
   "cell_type": "code",
   "execution_count": 44,
   "metadata": {
    "collapsed": false,
    "deletable": true,
    "editable": true
   },
   "outputs": [
    {
     "data": {
      "image/png": "[encoded data removed]",
      "text/latex": [
       "$$f{\\left (x \\right )} + f{\\left (x,y \\right )}$$"
      ],
      "text/plain": [
       "f(x) + f(x, y)"
      ]
     },
     "execution_count": 44,
     "metadata": {},
     "output_type": "execute_result"
    }
   ],
   "source": [
    "f=Function('f')\n",
    "f(x)+f(x,y)"
   ]
  },
  {
   "cell_type": "markdown",
   "metadata": {
    "deletable": true,
    "editable": true
   },
   "source": [
    "## Структура выражений\n",
    "\n",
    "Внутреннее представление выражения - это дерево. Функция `srepr` возвращает строку, представляющую его."
   ]
  },
  {
   "cell_type": "code",
   "execution_count": 45,
   "metadata": {
    "collapsed": false,
    "deletable": true,
    "editable": true
   },
   "outputs": [
    {
     "data": {
      "text/plain": [
       "\"Add(Symbol('x'), Integer(1))\""
      ]
     },
     "execution_count": 45,
     "metadata": {},
     "output_type": "execute_result"
    }
   ],
   "source": [
    "srepr(x+1)"
   ]
  },
  {
   "cell_type": "code",
   "execution_count": 46,
   "metadata": {
    "collapsed": false,
    "deletable": true,
    "editable": true
   },
   "outputs": [
    {
     "data": {
      "text/plain": [
       "\"Add(Symbol('x'), Integer(-1))\""
      ]
     },
     "execution_count": 46,
     "metadata": {},
     "output_type": "execute_result"
    }
   ],
   "source": [
    "srepr(x-1)"
   ]
  },
  {
   "cell_type": "code",
   "execution_count": 47,
   "metadata": {
    "collapsed": false,
    "deletable": true,
    "editable": true
   },
   "outputs": [
    {
     "data": {
      "text/plain": [
       "\"Add(Symbol('x'), Mul(Integer(-1), Symbol('y')))\""
      ]
     },
     "execution_count": 47,
     "metadata": {},
     "output_type": "execute_result"
    }
   ],
   "source": [
    "srepr(x-y)"
   ]
  },
  {
   "cell_type": "code",
   "execution_count": 48,
   "metadata": {
    "collapsed": false,
    "deletable": true,
    "editable": true
   },
   "outputs": [
    {
     "data": {
      "text/plain": [
       "\"Mul(Rational(2, 3), Symbol('x'), Symbol('y'))\""
      ]
     },
     "execution_count": 48,
     "metadata": {},
     "output_type": "execute_result"
    }
   ],
   "source": [
    "srepr(2*x*y/3)"
   ]
  },
  {
   "cell_type": "code",
   "execution_count": 49,
   "metadata": {
    "collapsed": false,
    "deletable": true,
    "editable": true
   },
   "outputs": [
    {
     "data": {
      "text/plain": [
       "\"Mul(Symbol('x'), Pow(Symbol('y'), Integer(-1)))\""
      ]
     },
     "execution_count": 49,
     "metadata": {},
     "output_type": "execute_result"
    }
   ],
   "source": [
    "srepr(x/y)"
   ]
  },
  {
   "cell_type": "markdown",
   "metadata": {
    "deletable": true,
    "editable": true
   },
   "source": [
    "Вместо бинарных операций `+`, `*`, `**` и т.д. можно использовать функции `Add`, `Mul`, `Pow` и т.д."
   ]
  },
  {
   "cell_type": "code",
   "execution_count": 50,
   "metadata": {
    "collapsed": false,
    "deletable": true,
    "editable": true
   },
   "outputs": [
    {
     "data": {
      "text/plain": [
       "True"
      ]
     },
     "execution_count": 50,
     "metadata": {},
     "output_type": "execute_result"
    }
   ],
   "source": [
    "Mul(x,Pow(y,-1))==x/y"
   ]
  },
  {
   "cell_type": "code",
   "execution_count": 51,
   "metadata": {
    "collapsed": false,
    "deletable": true,
    "editable": true
   },
   "outputs": [
    {
     "data": {
      "text/plain": [
       "\"Function('f')(Symbol('x'), Symbol('y'))\""
      ]
     },
     "execution_count": 51,
     "metadata": {},
     "output_type": "execute_result"
    }
   ],
   "source": [
    "srepr(f(x,y))"
   ]
  },
  {
   "cell_type": "markdown",
   "metadata": {
    "deletable": true,
    "editable": true
   },
   "source": [
    "Атрибут `func` - это функция верхнего уровня в выражении, а `args` - список её аргументов."
   ]
  },
  {
   "cell_type": "code",
   "execution_count": 52,
   "metadata": {
    "collapsed": false,
    "deletable": true,
    "editable": true
   },
   "outputs": [
    {
     "data": {
      "text/plain": [
       "sympy.core.mul.Mul"
      ]
     },
     "execution_count": 52,
     "metadata": {},
     "output_type": "execute_result"
    }
   ],
   "source": [
    "a=2*x*y**2\n",
    "a.func"
   ]
  },
  {
   "cell_type": "code",
   "execution_count": 53,
   "metadata": {
    "collapsed": false,
    "deletable": true,
    "editable": true
   },
   "outputs": [
    {
     "data": {
      "image/png": "[encoded data removed]",
      "text/latex": [
       "$$\\left ( 2, \\quad x, \\quad y^{2}\\right )$$"
      ],
      "text/plain": [
       "⎛       2⎞\n",
       "⎝2, x, y ⎠"
      ]
     },
     "execution_count": 53,
     "metadata": {},
     "output_type": "execute_result"
    }
   ],
   "source": [
    "a.args"
   ]
  },
  {
   "cell_type": "code",
   "execution_count": 54,
   "metadata": {
    "collapsed": false,
    "deletable": true,
    "editable": true
   },
   "outputs": [
    {
     "data": {
      "image/png": "[encoded data removed]",
      "text/latex": [
       "$$2$$"
      ],
      "text/plain": [
       "2"
      ]
     },
     "execution_count": 54,
     "metadata": {},
     "output_type": "execute_result"
    }
   ],
   "source": [
    "a.args[0]"
   ]
  },
  {
   "cell_type": "code",
   "execution_count": 55,
   "metadata": {
    "collapsed": false,
    "deletable": true,
    "editable": true
   },
   "outputs": [
    {
     "name": "stdout",
     "output_type": "stream",
     "text": [
      "2\n",
      "x\n",
      "y**2\n"
     ]
    }
   ],
   "source": [
    "for i in a.args:\n",
    "    print(i)"
   ]
  },
  {
   "cell_type": "markdown",
   "metadata": {
    "deletable": true,
    "editable": true
   },
   "source": [
    "Функция `subs` заменяет переменную на выражение."
   ]
  },
  {
   "cell_type": "code",
   "execution_count": 56,
   "metadata": {
    "collapsed": false,
    "deletable": true,
    "editable": true
   },
   "outputs": [
    {
     "data": {
      "image/png": "[encoded data removed]",
      "text/latex": [
       "$$8 x$$"
      ],
      "text/plain": [
       "8⋅x"
      ]
     },
     "execution_count": 56,
     "metadata": {},
     "output_type": "execute_result"
    }
   ],
   "source": [
    "a.subs(y,2)"
   ]
  },
  {
   "cell_type": "markdown",
   "metadata": {
    "deletable": true,
    "editable": true
   },
   "source": [
    "Она можнет заменить несколько переменных. Для этого ей передаётся список кортежей или словарь."
   ]
  },
  {
   "cell_type": "code",
   "execution_count": 57,
   "metadata": {
    "collapsed": false,
    "deletable": true,
    "editable": true
   },
   "outputs": [
    {
     "data": {
      "image/png": "[encoded data removed]",
      "text/latex": [
       "$$8 \\pi$$"
      ],
      "text/plain": [
       "8⋅π"
      ]
     },
     "execution_count": 57,
     "metadata": {},
     "output_type": "execute_result"
    }
   ],
   "source": [
    "a.subs([(x,pi),(y,2)])"
   ]
  },
  {
   "cell_type": "code",
   "execution_count": 58,
   "metadata": {
    "collapsed": false,
    "deletable": true,
    "editable": true
   },
   "outputs": [
    {
     "data": {
      "image/png": "[encoded data removed]",
      "text/latex": [
       "$$8 \\pi$$"
      ],
      "text/plain": [
       "8⋅π"
      ]
     },
     "execution_count": 58,
     "metadata": {},
     "output_type": "execute_result"
    }
   ],
   "source": [
    "a.subs({x:pi,y:2})"
   ]
  },
  {
   "cell_type": "markdown",
   "metadata": {
    "deletable": true,
    "editable": true
   },
   "source": [
    "Она может заменить не переменную, а подвыражение - функцию с аргументами."
   ]
  },
  {
   "cell_type": "code",
   "execution_count": 59,
   "metadata": {
    "collapsed": false,
    "deletable": true,
    "editable": true
   },
   "outputs": [
    {
     "data": {
      "image/png": "[encoded data removed]",
      "text/latex": [
       "$$f{\\left (x \\right )} + 1$$"
      ],
      "text/plain": [
       "f(x) + 1"
      ]
     },
     "execution_count": 59,
     "metadata": {},
     "output_type": "execute_result"
    }
   ],
   "source": [
    "a=f(x)+f(y)\n",
    "a.subs(f(y),1)"
   ]
  },
  {
   "cell_type": "code",
   "execution_count": 60,
   "metadata": {
    "collapsed": false,
    "deletable": true,
    "editable": true
   },
   "outputs": [
    {
     "data": {
      "image/png": "[encoded data removed]",
      "text/latex": [
       "$$2 z^{2}$$"
      ],
      "text/plain": [
       "   2\n",
       "2⋅z "
      ]
     },
     "execution_count": 60,
     "metadata": {},
     "output_type": "execute_result"
    }
   ],
   "source": [
    "(2*x*y*z).subs(x*y,z)"
   ]
  },
  {
   "cell_type": "code",
   "execution_count": 61,
   "metadata": {
    "collapsed": false,
    "deletable": true,
    "editable": true
   },
   "outputs": [
    {
     "data": {
      "image/png": "[encoded data removed]",
      "text/latex": [
       "$$x^{3} + x + y^{2} + y$$"
      ],
      "text/plain": [
       " 3        2    \n",
       "x  + x + y  + y"
      ]
     },
     "execution_count": 61,
     "metadata": {},
     "output_type": "execute_result"
    }
   ],
   "source": [
    "(x+x**2+x**3+x**4).subs(x**2,y)"
   ]
  },
  {
   "cell_type": "markdown",
   "metadata": {
    "deletable": true,
    "editable": true
   },
   "source": [
    "Подстановки производятся последовательно. В данном случае сначала $x$ заменился на $y$, получилось $y^3+y^2$; потом в этом результате $y$ заменилось на $x$."
   ]
  },
  {
   "cell_type": "code",
   "execution_count": 62,
   "metadata": {
    "collapsed": false,
    "deletable": true,
    "editable": true
   },
   "outputs": [
    {
     "data": {
      "image/png": "[encoded data removed]",
      "text/latex": [
       "$$x^{3} + x^{2}$$"
      ],
      "text/plain": [
       " 3    2\n",
       "x  + x "
      ]
     },
     "execution_count": 62,
     "metadata": {},
     "output_type": "execute_result"
    }
   ],
   "source": [
    "a=x**2+y**3\n",
    "a.subs([(x,y),(y,x)])"
   ]
  },
  {
   "cell_type": "markdown",
   "metadata": {
    "deletable": true,
    "editable": true
   },
   "source": [
    "Если написать эти подстановки в другом порядке, результат будет другим."
   ]
  },
  {
   "cell_type": "code",
   "execution_count": 63,
   "metadata": {
    "collapsed": false,
    "deletable": true,
    "editable": true
   },
   "outputs": [
    {
     "data": {
      "image/png": "[encoded data removed]",
      "text/latex": [
       "$$y^{3} + y^{2}$$"
      ],
      "text/plain": [
       " 3    2\n",
       "y  + y "
      ]
     },
     "execution_count": 63,
     "metadata": {},
     "output_type": "execute_result"
    }
   ],
   "source": [
    "a.subs([(y,x),(x,y)])"
   ]
  },
  {
   "cell_type": "markdown",
   "metadata": {
    "deletable": true,
    "editable": true
   },
   "source": [
    "Но можно передать функции `subs` ключевой параметр `simultaneous=True`, тогда подстановки будут производиться одновременно. Таким образом можно, например, поменять местами $x$ и $y$."
   ]
  },
  {
   "cell_type": "code",
   "execution_count": 64,
   "metadata": {
    "collapsed": false,
    "deletable": true,
    "editable": true
   },
   "outputs": [
    {
     "data": {
      "image/png": "[encoded data removed]",
      "text/latex": [
       "$$x^{3} + y^{2}$$"
      ],
      "text/plain": [
       " 3    2\n",
       "x  + y "
      ]
     },
     "execution_count": 64,
     "metadata": {},
     "output_type": "execute_result"
    }
   ],
   "source": [
    "a.subs([(x,y),(y,x)],simultaneous=True)"
   ]
  },
  {
   "cell_type": "markdown",
   "metadata": {
    "deletable": true,
    "editable": true
   },
   "source": [
    "Можно заменить функцию на другую функцию."
   ]
  },
  {
   "cell_type": "code",
   "execution_count": 65,
   "metadata": {
    "collapsed": false,
    "deletable": true,
    "editable": true
   },
   "outputs": [
    {
     "data": {
      "image/png": "[encoded data removed]",
      "text/latex": [
       "$$g{\\left (x \\right )} + g{\\left (y \\right )}$$"
      ],
      "text/plain": [
       "g(x) + g(y)"
      ]
     },
     "execution_count": 65,
     "metadata": {},
     "output_type": "execute_result"
    }
   ],
   "source": [
    "g=Function('g')\n",
    "a=f(x)+f(y)\n",
    "a.subs(f,g)"
   ]
  },
  {
   "cell_type": "markdown",
   "metadata": {
    "deletable": true,
    "editable": true
   },
   "source": [
    "Метод `replace` ищет подвыражения, соответствующие образцу (содержащему произвольные переменные), и заменяет их на заданное выражение (оно может содержать те же произвольные переменные)."
   ]
  },
  {
   "cell_type": "code",
   "execution_count": 66,
   "metadata": {
    "collapsed": false,
    "deletable": true,
    "editable": true
   },
   "outputs": [
    {
     "data": {
      "image/png": "[encoded data removed]",
      "text/latex": [
       "$$x^{2} + \\left(x + y\\right)^{2}$$"
      ],
      "text/plain": [
       " 2          2\n",
       "x  + (x + y) "
      ]
     },
     "execution_count": 66,
     "metadata": {},
     "output_type": "execute_result"
    }
   ],
   "source": [
    "a=Wild('a')\n",
    "(f(x)+f(x+y)).replace(f(a),a**2)"
   ]
  },
  {
   "cell_type": "code",
   "execution_count": 67,
   "metadata": {
    "collapsed": false,
    "deletable": true,
    "editable": true
   },
   "outputs": [
    {
     "data": {
      "image/png": "[encoded data removed]",
      "text/latex": [
       "$$x^{2} + f{\\left (x,y \\right )}$$"
      ],
      "text/plain": [
       " 2          \n",
       "x  + f(x, y)"
      ]
     },
     "execution_count": 67,
     "metadata": {},
     "output_type": "execute_result"
    }
   ],
   "source": [
    "(f(x,x)+f(x,y)).replace(f(a,a),a**2)"
   ]
  },
  {
   "cell_type": "code",
   "execution_count": 68,
   "metadata": {
    "collapsed": false,
    "deletable": true,
    "editable": true
   },
   "outputs": [
    {
     "data": {
      "image/png": "[encoded data removed]",
      "text/latex": [
       "$$y^{2} + \\left(x + 1\\right)^{2}$$"
      ],
      "text/plain": [
       " 2          2\n",
       "y  + (x + 1) "
      ]
     },
     "execution_count": 68,
     "metadata": {},
     "output_type": "execute_result"
    }
   ],
   "source": [
    "a=x**2+y**2\n",
    "a.replace(x,x+1)"
   ]
  },
  {
   "cell_type": "markdown",
   "metadata": {
    "deletable": true,
    "editable": true
   },
   "source": [
    "Соответствовать образцу должно целое подвыражение, это не может быть часть сомножителей в произведении или меньшая степеть в большей."
   ]
  },
  {
   "cell_type": "code",
   "execution_count": 69,
   "metadata": {
    "collapsed": false,
    "deletable": true,
    "editable": true
   },
   "outputs": [
    {
     "data": {
      "image/png": "[encoded data removed]",
      "text/latex": [
       "$$2 x y z$$"
      ],
      "text/plain": [
       "2⋅x⋅y⋅z"
      ]
     },
     "execution_count": 69,
     "metadata": {},
     "output_type": "execute_result"
    }
   ],
   "source": [
    "a=2*x*y*z\n",
    "a.replace(x*y,z)"
   ]
  },
  {
   "cell_type": "code",
   "execution_count": 70,
   "metadata": {
    "collapsed": false,
    "deletable": true,
    "editable": true
   },
   "outputs": [
    {
     "data": {
      "image/png": "[encoded data removed]",
      "text/latex": [
       "$$x^{4} + x^{3} + x + y$$"
      ],
      "text/plain": [
       " 4    3        \n",
       "x  + x  + x + y"
      ]
     },
     "execution_count": 70,
     "metadata": {},
     "output_type": "execute_result"
    }
   ],
   "source": [
    "(x+x**2+x**3+x**4).replace(x**2,y)"
   ]
  },
  {
   "cell_type": "markdown",
   "metadata": {
    "deletable": true,
    "editable": true
   },
   "source": [
    "## Решение уравнений"
   ]
  },
  {
   "cell_type": "code",
   "execution_count": 71,
   "metadata": {
    "collapsed": true,
    "deletable": true,
    "editable": true
   },
   "outputs": [],
   "source": [
    "a,b,c,d,e,f=symbols('a b c d e f')"
   ]
  },
  {
   "cell_type": "markdown",
   "metadata": {
    "deletable": true,
    "editable": true
   },
   "source": [
    "Уравнение записывается как функция `Eq` с двумя параметрами. Функция `solve` возврящает список решений."
   ]
  },
  {
   "cell_type": "code",
   "execution_count": 72,
   "metadata": {
    "collapsed": false,
    "deletable": true,
    "editable": true
   },
   "outputs": [
    {
     "data": {
      "image/png": "[encoded data removed]",
      "text/latex": [
       "$$\\left [ \\frac{b}{a}\\right ]$$"
      ],
      "text/plain": [
       "⎡b⎤\n",
       "⎢─⎥\n",
       "⎣a⎦"
      ]
     },
     "execution_count": 72,
     "metadata": {},
     "output_type": "execute_result"
    }
   ],
   "source": [
    "solve(Eq(a*x,b),x)"
   ]
  },
  {
   "cell_type": "markdown",
   "metadata": {
    "deletable": true,
    "editable": true
   },
   "source": [
    "Впрочем, можно передать функции `solve` просто выражение. Подразумевается уравнение, что это выражение равно 0."
   ]
  },
  {
   "cell_type": "code",
   "execution_count": 73,
   "metadata": {
    "collapsed": false,
    "deletable": true,
    "editable": true
   },
   "outputs": [
    {
     "data": {
      "image/png": "[encoded data removed]",
      "text/latex": [
       "$$\\left [ - \\frac{b}{a}\\right ]$$"
      ],
      "text/plain": [
       "⎡-b ⎤\n",
       "⎢───⎥\n",
       "⎣ a ⎦"
      ]
     },
     "execution_count": 73,
     "metadata": {},
     "output_type": "execute_result"
    }
   ],
   "source": [
    "solve(a*x+b,x)"
   ]
  },
  {
   "cell_type": "markdown",
   "metadata": {
    "deletable": true,
    "editable": true
   },
   "source": [
    "Квадратное уравнение имеет 2 решения."
   ]
  },
  {
   "cell_type": "code",
   "execution_count": 74,
   "metadata": {
    "collapsed": false,
    "deletable": true,
    "editable": true
   },
   "outputs": [
    {
     "data": {
      "image/png": "[encoded data removed]",
      "text/latex": [
       "$$\\left [ \\frac{1}{2 a} \\left(- b + \\sqrt{- 4 a c + b^{2}}\\right), \\quad - \\frac{1}{2 a} \\left(b + \\sqrt{- 4 a c + b^{2}}\\right)\\right ]$$"
      ],
      "text/plain": [
       "⎡        _____________   ⎛       _____________⎞ ⎤\n",
       "⎢       ╱           2    ⎜      ╱           2 ⎟ ⎥\n",
       "⎢-b + ╲╱  -4⋅a⋅c + b    -⎝b + ╲╱  -4⋅a⋅c + b  ⎠ ⎥\n",
       "⎢─────────────────────, ────────────────────────⎥\n",
       "⎣         2⋅a                     2⋅a           ⎦"
      ]
     },
     "execution_count": 74,
     "metadata": {},
     "output_type": "execute_result"
    }
   ],
   "source": [
    "solve(a*x**2+b*x+c,x)"
   ]
  },
  {
   "cell_type": "markdown",
   "metadata": {
    "deletable": true,
    "editable": true
   },
   "source": [
    "Система линейных уравнений."
   ]
  },
  {
   "cell_type": "code",
   "execution_count": 75,
   "metadata": {
    "collapsed": false,
    "deletable": true,
    "editable": true
   },
   "outputs": [
    {
     "data": {
      "image/png": "[encoded data removed]",
      "text/latex": [
       "$$\\left \\{ x : \\frac{- b f + d e}{a d - b c}, \\quad y : \\frac{a f - c e}{a d - b c}\\right \\}$$"
      ],
      "text/plain": [
       "⎧   -b⋅f + d⋅e     a⋅f - c⋅e⎫\n",
       "⎨x: ──────────, y: ─────────⎬\n",
       "⎩   a⋅d - b⋅c      a⋅d - b⋅c⎭"
      ]
     },
     "execution_count": 75,
     "metadata": {},
     "output_type": "execute_result"
    }
   ],
   "source": [
    "solve([a*x+b*y-e,c*x+d*y-f],[x,y])"
   ]
  },
  {
   "cell_type": "markdown",
   "metadata": {
    "deletable": true,
    "editable": true
   },
   "source": [
    "Функция `roots` возвращает корни многочлена с их множественностями."
   ]
  },
  {
   "cell_type": "code",
   "execution_count": 76,
   "metadata": {
    "collapsed": false,
    "deletable": true,
    "editable": true
   },
   "outputs": [
    {
     "data": {
      "image/png": "[encoded data removed]",
      "text/latex": [
       "$$\\left \\{ -2 : 1, \\quad 1 : 2\\right \\}$$"
      ],
      "text/plain": [
       "{-2: 1, 1: 2}"
      ]
     },
     "execution_count": 76,
     "metadata": {},
     "output_type": "execute_result"
    }
   ],
   "source": [
    "roots(x**3-3*x+2,x)"
   ]
  },
  {
   "cell_type": "markdown",
   "metadata": {
    "collapsed": false,
    "deletable": true,
    "editable": true
   },
   "source": [
    "Функция `solve_poly_system` решает систему полиномиальных уравнений, строя их базис Грёбнера."
   ]
  },
  {
   "cell_type": "code",
   "execution_count": 77,
   "metadata": {
    "collapsed": false,
    "deletable": true,
    "editable": true
   },
   "outputs": [
    {
     "data": {
      "image/png": "[encoded data removed]",
      "text/latex": [
       "$$\\left [ \\left ( 4 \\left(-1 - \\sqrt{- \\frac{\\sqrt{3}}{4} + \\frac{1}{2}}\\right) \\sqrt{- \\frac{\\sqrt{3}}{4} + \\frac{1}{2}} \\left(- \\sqrt{- \\frac{\\sqrt{3}}{4} + \\frac{1}{2}} + 1\\right), \\quad - \\sqrt{- \\frac{\\sqrt{3}}{4} + \\frac{1}{2}}\\right ), \\quad \\left ( - 4 \\left(-1 + \\sqrt{- \\frac{\\sqrt{3}}{4} + \\frac{1}{2}}\\right) \\sqrt{- \\frac{\\sqrt{3}}{4} + \\frac{1}{2}} \\left(\\sqrt{- \\frac{\\sqrt{3}}{4} + \\frac{1}{2}} + 1\\right), \\quad \\sqrt{- \\frac{\\sqrt{3}}{4} + \\frac{1}{2}}\\right ), \\quad \\left ( 4 \\left(-1 - \\sqrt{\\frac{\\sqrt{3}}{4} + \\frac{1}{2}}\\right) \\sqrt{\\frac{\\sqrt{3}}{4} + \\frac{1}{2}} \\left(- \\sqrt{\\frac{\\sqrt{3}}{4} + \\frac{1}{2}} + 1\\right), \\quad - \\sqrt{\\frac{\\sqrt{3}}{4} + \\frac{1}{2}}\\right ), \\quad \\left ( - 4 \\left(-1 + \\sqrt{\\frac{\\sqrt{3}}{4} + \\frac{1}{2}}\\right) \\sqrt{\\frac{\\sqrt{3}}{4} + \\frac{1}{2}} \\left(\\sqrt{\\frac{\\sqrt{3}}{4} + \\frac{1}{2}} + 1\\right), \\quad \\sqrt{\\frac{\\sqrt{3}}{4} + \\frac{1}{2}}\\right )\\right ]$$"
      ],
      "text/plain": [
       "⎡⎛  ⎛         __________⎞     __________ ⎛      __________    ⎞       ________\n",
       "⎢⎜  ⎜        ╱   √3   1 ⎟    ╱   √3   1  ⎜     ╱   √3   1     ⎟      ╱   √3   \n",
       "⎢⎜4⋅⎜-1 -   ╱  - ── + ─ ⎟⋅  ╱  - ── + ─ ⋅⎜-   ╱  - ── + ─  + 1⎟, -  ╱  - ── + \n",
       "⎣⎝  ⎝     ╲╱     4    2 ⎠ ╲╱     4    2  ⎝  ╲╱     4    2     ⎠   ╲╱     4    \n",
       "\n",
       "__⎞  ⎛   ⎛         __________⎞     __________ ⎛    __________    ⎞      ______\n",
       "1 ⎟  ⎜   ⎜        ╱   √3   1 ⎟    ╱   √3   1  ⎜   ╱   √3   1     ⎟     ╱   √3 \n",
       "─ ⎟, ⎜-4⋅⎜-1 +   ╱  - ── + ─ ⎟⋅  ╱  - ── + ─ ⋅⎜  ╱  - ── + ─  + 1⎟,   ╱  - ── \n",
       "2 ⎠  ⎝   ⎝     ╲╱     4    2 ⎠ ╲╱     4    2  ⎝╲╱     4    2     ⎠  ╲╱     4  \n",
       "\n",
       "____⎞  ⎛  ⎛         ________⎞     ________ ⎛      ________    ⎞       ________\n",
       "  1 ⎟  ⎜  ⎜        ╱ √3   1 ⎟    ╱ √3   1  ⎜     ╱ √3   1     ⎟      ╱ √3   1 \n",
       "+ ─ ⎟, ⎜4⋅⎜-1 -   ╱  ── + ─ ⎟⋅  ╱  ── + ─ ⋅⎜-   ╱  ── + ─  + 1⎟, -  ╱  ── + ─ \n",
       "  2 ⎠  ⎝  ⎝     ╲╱   4    2 ⎠ ╲╱   4    2  ⎝  ╲╱   4    2     ⎠   ╲╱   4    2 \n",
       "\n",
       "⎞  ⎛   ⎛         ________⎞     ________ ⎛    ________    ⎞      ________⎞⎤\n",
       "⎟  ⎜   ⎜        ╱ √3   1 ⎟    ╱ √3   1  ⎜   ╱ √3   1     ⎟     ╱ √3   1 ⎟⎥\n",
       "⎟, ⎜-4⋅⎜-1 +   ╱  ── + ─ ⎟⋅  ╱  ── + ─ ⋅⎜  ╱  ── + ─  + 1⎟,   ╱  ── + ─ ⎟⎥\n",
       "⎠  ⎝   ⎝     ╲╱   4    2 ⎠ ╲╱   4    2  ⎝╲╱   4    2     ⎠  ╲╱   4    2 ⎠⎦"
      ]
     },
     "execution_count": 77,
     "metadata": {},
     "output_type": "execute_result"
    }
   ],
   "source": [
    "p1=x**2+y**2-1\n",
    "p2=4*x*y-1\n",
    "solve_poly_system([p1,p2],x,y)"
   ]
  },
  {
   "cell_type": "markdown",
   "metadata": {
    "deletable": true,
    "editable": true
   },
   "source": [
    "## Ряды"
   ]
  },
  {
   "cell_type": "code",
   "execution_count": 78,
   "metadata": {
    "collapsed": false,
    "deletable": true,
    "editable": true
   },
   "outputs": [
    {
     "data": {
      "image/png": "[encoded data removed]",
      "text/latex": [
       "$$1 + x + \\frac{x^{2}}{2} + \\frac{x^{3}}{6} + \\frac{x^{4}}{24} + \\mathcal{O}\\left(x^{5}\\right)$$"
      ],
      "text/plain": [
       "         2    3    4        \n",
       "        x    x    x     ⎛ 5⎞\n",
       "1 + x + ── + ── + ── + O⎝x ⎠\n",
       "        2    6    24        "
      ]
     },
     "execution_count": 78,
     "metadata": {},
     "output_type": "execute_result"
    }
   ],
   "source": [
    "exp(x).series(x,0,5)"
   ]
  },
  {
   "cell_type": "markdown",
   "metadata": {
    "deletable": true,
    "editable": true
   },
   "source": [
    "Ряд может начинаться с отрицательной степени."
   ]
  },
  {
   "cell_type": "code",
   "execution_count": 79,
   "metadata": {
    "collapsed": false,
    "deletable": true,
    "editable": true
   },
   "outputs": [
    {
     "data": {
      "image/png": "[encoded data removed]",
      "text/latex": [
       "$$\\frac{1}{x} - \\frac{x}{3} - \\frac{x^{3}}{45} + \\mathcal{O}\\left(x^{5}\\right)$$"
      ],
      "text/plain": [
       "         3        \n",
       "1   x   x     ⎛ 5⎞\n",
       "─ - ─ - ── + O⎝x ⎠\n",
       "x   3   45        "
      ]
     },
     "execution_count": 79,
     "metadata": {},
     "output_type": "execute_result"
    }
   ],
   "source": [
    "cot(x).series(x,n=5)"
   ]
  },
  {
   "cell_type": "markdown",
   "metadata": {
    "deletable": true,
    "editable": true
   },
   "source": [
    "И даже идти по полуцелым степеням."
   ]
  },
  {
   "cell_type": "code",
   "execution_count": 80,
   "metadata": {
    "collapsed": false,
    "deletable": true,
    "editable": true
   },
   "outputs": [
    {
     "data": {
      "image/png": "[encoded data removed]",
      "text/latex": [
       "$$\\sqrt{x} - \\frac{x^{\\frac{3}{2}}}{2} - \\frac{x^{\\frac{5}{2}}}{8} - \\frac{x^{\\frac{7}{2}}}{16} - \\frac{5 x^{\\frac{9}{2}}}{128} + \\mathcal{O}\\left(x^{5}\\right)$$"
      ],
      "text/plain": [
       "      3/2    5/2    7/2      9/2        \n",
       "     x      x      x      5⋅x       ⎛ 5⎞\n",
       "√x - ──── - ──── - ──── - ────── + O⎝x ⎠\n",
       "      2      8      16     128          "
      ]
     },
     "execution_count": 80,
     "metadata": {},
     "output_type": "execute_result"
    }
   ],
   "source": [
    "sqrt(x*(1-x)).series(x,n=5)"
   ]
  },
  {
   "cell_type": "code",
   "execution_count": 81,
   "metadata": {
    "collapsed": false,
    "deletable": true,
    "editable": true
   },
   "outputs": [
    {
     "data": {
      "image/png": "[encoded data removed]",
      "text/latex": [
       "$$- \\gamma x + \\frac{\\pi^{2} x^{2}}{12} - \\frac{x^{3} \\zeta\\left(3\\right)}{3} + \\frac{\\pi^{4} x^{4}}{360} - \\frac{x^{5} \\zeta\\left(5\\right)}{5} + \\mathcal{O}\\left(x^{6}\\right)$$"
      ],
      "text/plain": [
       "                 2  2    3         4  4    5             \n",
       "                π ⋅x    x ⋅ζ(3)   π ⋅x    x ⋅ζ(5)    ⎛ 6⎞\n",
       "-EulerGamma⋅x + ───── - ─────── + ───── - ─────── + O⎝x ⎠\n",
       "                  12       3       360       5           "
      ]
     },
     "execution_count": 81,
     "metadata": {},
     "output_type": "execute_result"
    }
   ],
   "source": [
    "log(gamma(1+x)).series(x,n=6).rewrite(zeta)"
   ]
  },
  {
   "cell_type": "markdown",
   "metadata": {
    "deletable": true,
    "editable": true
   },
   "source": [
    "Подготовим 3 ряда."
   ]
  },
  {
   "cell_type": "code",
   "execution_count": 82,
   "metadata": {
    "collapsed": false,
    "deletable": true,
    "editable": true
   },
   "outputs": [
    {
     "data": {
      "image/png": "[encoded data removed]",
      "text/latex": [
       "$$x - \\frac{x^{3}}{6} + \\frac{x^{5}}{120} - \\frac{x^{7}}{5040} + \\mathcal{O}\\left(x^{8}\\right)$$"
      ],
      "text/plain": [
       "     3     5     7         \n",
       "    x     x     x      ⎛ 8⎞\n",
       "x - ── + ─── - ──── + O⎝x ⎠\n",
       "    6    120   5040        "
      ]
     },
     "execution_count": 82,
     "metadata": {},
     "output_type": "execute_result"
    }
   ],
   "source": [
    "sinx=series(sin(x),x,0,8)\n",
    "sinx"
   ]
  },
  {
   "cell_type": "code",
   "execution_count": 83,
   "metadata": {
    "collapsed": false,
    "deletable": true,
    "editable": true
   },
   "outputs": [
    {
     "data": {
      "image/png": "[encoded data removed]",
      "text/latex": [
       "$$1 - \\frac{x^{2}}{2} + \\frac{x^{4}}{24} - \\frac{x^{6}}{720} + \\mathcal{O}\\left(x^{8}\\right)$$"
      ],
      "text/plain": [
       "     2    4     6        \n",
       "    x    x     x     ⎛ 8⎞\n",
       "1 - ── + ── - ─── + O⎝x ⎠\n",
       "    2    24   720        "
      ]
     },
     "execution_count": 83,
     "metadata": {},
     "output_type": "execute_result"
    }
   ],
   "source": [
    "cosx=series(cos(x),x,n=8)\n",
    "cosx"
   ]
  },
  {
   "cell_type": "code",
   "execution_count": 84,
   "metadata": {
    "collapsed": false,
    "deletable": true,
    "editable": true
   },
   "outputs": [
    {
     "data": {
      "image/png": "[encoded data removed]",
      "text/latex": [
       "$$x + \\frac{x^{3}}{3} + \\frac{2 x^{5}}{15} + \\frac{17 x^{7}}{315} + \\mathcal{O}\\left(x^{8}\\right)$$"
      ],
      "text/plain": [
       "     3      5       7        \n",
       "    x    2⋅x    17⋅x     ⎛ 8⎞\n",
       "x + ── + ──── + ───── + O⎝x ⎠\n",
       "    3     15     315         "
      ]
     },
     "execution_count": 84,
     "metadata": {},
     "output_type": "execute_result"
    }
   ],
   "source": [
    "tanx=series(tan(x),x,n=8)\n",
    "tanx"
   ]
  },
  {
   "cell_type": "markdown",
   "metadata": {
    "deletable": true,
    "editable": true
   },
   "source": [
    "Произведения и частные рядов не вычисляются автоматически, к ним надо применить функцию `series`."
   ]
  },
  {
   "cell_type": "code",
   "execution_count": 85,
   "metadata": {
    "collapsed": false,
    "deletable": true,
    "editable": true
   },
   "outputs": [
    {
     "data": {
      "image/png": "[encoded data removed]",
      "text/latex": [
       "$$x - \\frac{x^{3}}{6} + \\frac{x^{5}}{120} - \\frac{x^{7}}{5040} + \\mathcal{O}\\left(x^{8}\\right)$$"
      ],
      "text/plain": [
       "     3     5     7         \n",
       "    x     x     x      ⎛ 8⎞\n",
       "x - ── + ─── - ──── + O⎝x ⎠\n",
       "    6    120   5040        "
      ]
     },
     "execution_count": 85,
     "metadata": {},
     "output_type": "execute_result"
    }
   ],
   "source": [
    "series(tanx*cosx,n=8)"
   ]
  },
  {
   "cell_type": "code",
   "execution_count": 86,
   "metadata": {
    "collapsed": false,
    "deletable": true,
    "editable": true
   },
   "outputs": [
    {
     "data": {
      "image/png": "[encoded data removed]",
      "text/latex": [
       "$$x + \\frac{x^{3}}{3} + \\frac{2 x^{5}}{15} + \\frac{17 x^{7}}{315} + \\mathcal{O}\\left(x^{8}\\right)$$"
      ],
      "text/plain": [
       "     3      5       7        \n",
       "    x    2⋅x    17⋅x     ⎛ 8⎞\n",
       "x + ── + ──── + ───── + O⎝x ⎠\n",
       "    3     15     315         "
      ]
     },
     "execution_count": 86,
     "metadata": {},
     "output_type": "execute_result"
    }
   ],
   "source": [
    "series(sinx/cosx,n=8)"
   ]
  },
  {
   "cell_type": "markdown",
   "metadata": {
    "deletable": true,
    "editable": true
   },
   "source": [
    "А этот ряд должен быть равен 1. Но поскольку `sinx` и `cosx` известны лишь с ограниченной точностью, мы получаем 1 с той же точностью."
   ]
  },
  {
   "cell_type": "code",
   "execution_count": 87,
   "metadata": {
    "collapsed": false,
    "deletable": true,
    "editable": true
   },
   "outputs": [
    {
     "data": {
      "image/png": "[encoded data removed]",
      "text/latex": [
       "$$1 + \\mathcal{O}\\left(x^{8}\\right)$$"
      ],
      "text/plain": [
       "     ⎛ 8⎞\n",
       "1 + O⎝x ⎠"
      ]
     },
     "execution_count": 87,
     "metadata": {},
     "output_type": "execute_result"
    }
   ],
   "source": [
    "series(sinx**2+cosx**2,n=8)"
   ]
  },
  {
   "cell_type": "markdown",
   "metadata": {
    "deletable": true,
    "editable": true
   },
   "source": [
    "Здесь первые члены сократились, и ответ можно получить лишь с меньшей точностью."
   ]
  },
  {
   "cell_type": "code",
   "execution_count": 88,
   "metadata": {
    "collapsed": false,
    "deletable": true,
    "editable": true
   },
   "outputs": [
    {
     "data": {
      "image/png": "[encoded data removed]",
      "text/latex": [
       "$$\\frac{1}{2} - \\frac{x^{2}}{24} + \\frac{x^{4}}{720} + \\mathcal{O}\\left(x^{6}\\right)$$"
      ],
      "text/plain": [
       "     2     4        \n",
       "1   x     x     ⎛ 6⎞\n",
       "─ - ── + ─── + O⎝x ⎠\n",
       "2   24   720        "
      ]
     },
     "execution_count": 88,
     "metadata": {},
     "output_type": "execute_result"
    }
   ],
   "source": [
    "series((1-cosx)/x**2,n=6)"
   ]
  },
  {
   "cell_type": "markdown",
   "metadata": {
    "deletable": true,
    "editable": true
   },
   "source": [
    "Ряды можно дифференцировать и интегрировать."
   ]
  },
  {
   "cell_type": "code",
   "execution_count": 89,
   "metadata": {
    "collapsed": false,
    "deletable": true,
    "editable": true
   },
   "outputs": [
    {
     "data": {
      "image/png": "[encoded data removed]",
      "text/latex": [
       "$$1 - \\frac{x^{2}}{2} + \\frac{x^{4}}{24} - \\frac{x^{6}}{720} + \\mathcal{O}\\left(x^{7}\\right)$$"
      ],
      "text/plain": [
       "     2    4     6        \n",
       "    x    x     x     ⎛ 7⎞\n",
       "1 - ── + ── - ─── + O⎝x ⎠\n",
       "    2    24   720        "
      ]
     },
     "execution_count": 89,
     "metadata": {},
     "output_type": "execute_result"
    }
   ],
   "source": [
    "diff(sinx,x)"
   ]
  },
  {
   "cell_type": "code",
   "execution_count": 90,
   "metadata": {
    "collapsed": false,
    "deletable": true,
    "editable": true
   },
   "outputs": [
    {
     "data": {
      "image/png": "[encoded data removed]",
      "text/latex": [
       "$$x - \\frac{x^{3}}{6} + \\frac{x^{5}}{120} - \\frac{x^{7}}{5040} + \\mathcal{O}\\left(x^{9}\\right)$$"
      ],
      "text/plain": [
       "     3     5     7         \n",
       "    x     x     x      ⎛ 9⎞\n",
       "x - ── + ─── - ──── + O⎝x ⎠\n",
       "    6    120   5040        "
      ]
     },
     "execution_count": 90,
     "metadata": {},
     "output_type": "execute_result"
    }
   ],
   "source": [
    "integrate(cosx,x)"
   ]
  },
  {
   "cell_type": "markdown",
   "metadata": {
    "deletable": true,
    "editable": true
   },
   "source": [
    "Можно подставить ряд (если он начинается с малого члена) вместо переменной разложения в другой ряд. Вот ряды для $\\sin(\\tan(x))$ и $\\tan(\\sin(x))$."
   ]
  },
  {
   "cell_type": "code",
   "execution_count": 91,
   "metadata": {
    "collapsed": false,
    "deletable": true,
    "editable": true
   },
   "outputs": [
    {
     "data": {
      "image/png": "[encoded data removed]",
      "text/latex": [
       "$$x + \\frac{x^{3}}{6} - \\frac{x^{5}}{40} - \\frac{55 x^{7}}{1008} + \\mathcal{O}\\left(x^{8}\\right)$$"
      ],
      "text/plain": [
       "     3    5       7        \n",
       "    x    x    55⋅x     ⎛ 8⎞\n",
       "x + ── - ── - ───── + O⎝x ⎠\n",
       "    6    40    1008        "
      ]
     },
     "execution_count": 91,
     "metadata": {},
     "output_type": "execute_result"
    }
   ],
   "source": [
    "st=series(sinx.subs(x,tanx),n=8)\n",
    "st"
   ]
  },
  {
   "cell_type": "code",
   "execution_count": 92,
   "metadata": {
    "collapsed": false,
    "deletable": true,
    "editable": true
   },
   "outputs": [
    {
     "data": {
      "image/png": "[encoded data removed]",
      "text/latex": [
       "$$x + \\frac{x^{3}}{6} - \\frac{x^{5}}{40} - \\frac{107 x^{7}}{5040} + \\mathcal{O}\\left(x^{8}\\right)$$"
      ],
      "text/plain": [
       "     3    5        7        \n",
       "    x    x    107⋅x     ⎛ 8⎞\n",
       "x + ── - ── - ────── + O⎝x ⎠\n",
       "    6    40    5040         "
      ]
     },
     "execution_count": 92,
     "metadata": {},
     "output_type": "execute_result"
    }
   ],
   "source": [
    "ts=series(tanx.subs(x,sinx),n=8)\n",
    "ts"
   ]
  },
  {
   "cell_type": "code",
   "execution_count": 93,
   "metadata": {
    "collapsed": false,
    "deletable": true,
    "editable": true
   },
   "outputs": [
    {
     "data": {
      "image/png": "[encoded data removed]",
      "text/latex": [
       "$$\\frac{x^{7}}{30} + \\mathcal{O}\\left(x^{8}\\right)$$"
      ],
      "text/plain": [
       " 7        \n",
       "x     ⎛ 8⎞\n",
       "── + O⎝x ⎠\n",
       "30        "
      ]
     },
     "execution_count": 93,
     "metadata": {},
     "output_type": "execute_result"
    }
   ],
   "source": [
    "series(ts-st,n=8)"
   ]
  },
  {
   "cell_type": "markdown",
   "metadata": {
    "deletable": true,
    "editable": true
   },
   "source": [
    "В ряд нельзя подставлять численное значение переменной разложения (а значит, нельзя и строить график). Для этого нужно сначала убрать $\\mathcal{O}$ член, превратив отрезок ряда в многочлен."
   ]
  },
  {
   "cell_type": "code",
   "execution_count": 94,
   "metadata": {
    "collapsed": false,
    "deletable": true,
    "editable": true
   },
   "outputs": [],
   "source": [
    "a=sinx.removeO()"
   ]
  },
  {
   "cell_type": "code",
   "execution_count": 95,
   "metadata": {
    "collapsed": false,
    "deletable": true,
    "editable": true
   },
   "outputs": [
    {
     "data": {
      "image/png": "[encoded data removed]",
      "text/latex": [
       "$$0.0998334166468254$$"
      ],
      "text/plain": [
       "0.0998334166468254"
      ]
     },
     "execution_count": 95,
     "metadata": {},
     "output_type": "execute_result"
    }
   ],
   "source": [
    "a.subs(x,0.1)"
   ]
  },
  {
   "cell_type": "markdown",
   "metadata": {
    "deletable": true,
    "editable": true
   },
   "source": [
    "## Производные"
   ]
  },
  {
   "cell_type": "code",
   "execution_count": 96,
   "metadata": {
    "collapsed": false,
    "deletable": true,
    "editable": true
   },
   "outputs": [
    {
     "data": {
      "image/png": "[encoded data removed]",
      "text/latex": [
       "$$x \\cos{\\left (x + y \\right )} + \\sin{\\left (x + y \\right )}$$"
      ],
      "text/plain": [
       "x⋅cos(x + y) + sin(x + y)"
      ]
     },
     "execution_count": 96,
     "metadata": {},
     "output_type": "execute_result"
    }
   ],
   "source": [
    "a=x*sin(x+y)\n",
    "diff(a,x)"
   ]
  },
  {
   "cell_type": "code",
   "execution_count": 97,
   "metadata": {
    "collapsed": false,
    "deletable": true,
    "editable": true
   },
   "outputs": [
    {
     "data": {
      "image/png": "[encoded data removed]",
      "text/latex": [
       "$$x \\cos{\\left (x + y \\right )}$$"
      ],
      "text/plain": [
       "x⋅cos(x + y)"
      ]
     },
     "execution_count": 97,
     "metadata": {},
     "output_type": "execute_result"
    }
   ],
   "source": [
    "diff(a,y)"
   ]
  },
  {
   "cell_type": "markdown",
   "metadata": {
    "deletable": true,
    "editable": true
   },
   "source": [
    "Вторая производная по $x$ и первая по $y$."
   ]
  },
  {
   "cell_type": "code",
   "execution_count": 98,
   "metadata": {
    "collapsed": false,
    "deletable": true,
    "editable": true
   },
   "outputs": [
    {
     "data": {
      "image/png": "[encoded data removed]",
      "text/latex": [
       "$$- x \\cos{\\left (x + y \\right )} + 2 \\sin{\\left (x + y \\right )}$$"
      ],
      "text/plain": [
       "-(x⋅cos(x + y) + 2⋅sin(x + y))"
      ]
     },
     "execution_count": 98,
     "metadata": {},
     "output_type": "execute_result"
    }
   ],
   "source": [
    "diff(a,x,2,y)"
   ]
  },
  {
   "cell_type": "markdown",
   "metadata": {
    "deletable": true,
    "editable": true
   },
   "source": [
    "Можно дифференцировать выражения, содержащие неопределённые функции."
   ]
  },
  {
   "cell_type": "code",
   "execution_count": 99,
   "metadata": {
    "collapsed": false,
    "deletable": true,
    "editable": true
   },
   "outputs": [
    {
     "data": {
      "image/png": "[encoded data removed]",
      "text/latex": [
       "$$2 x^{2} \\left. \\frac{d}{d \\xi_{1}} f{\\left (\\xi_{1} \\right )} \\right|_{\\substack{ \\xi_{1}=x^{2} }} + f{\\left (x^{2} \\right )}$$"
      ],
      "text/plain": [
       "   2 ⎛ d        ⎞│         ⎛ 2⎞\n",
       "2⋅x ⋅⎜───(f(ξ₁))⎟│    2 + f⎝x ⎠\n",
       "     ⎝dξ₁       ⎠│ξ₁=x         "
      ]
     },
     "execution_count": 99,
     "metadata": {},
     "output_type": "execute_result"
    }
   ],
   "source": [
    "a=x*f(x**2)\n",
    "b=diff(a,x)\n",
    "b"
   ]
  },
  {
   "cell_type": "markdown",
   "metadata": {
    "deletable": true,
    "editable": true
   },
   "source": [
    "Что это за зверь такой получился?"
   ]
  },
  {
   "cell_type": "code",
   "execution_count": 100,
   "metadata": {
    "collapsed": false,
    "deletable": true,
    "editable": true
   },
   "outputs": [
    {
     "name": "stdout",
     "output_type": "stream",
     "text": [
      "2*x**2*Subs(Derivative(f(_xi_1), _xi_1), (_xi_1,), (x**2,)) + f(x**2)\n"
     ]
    }
   ],
   "source": [
    "print(b)"
   ]
  },
  {
   "cell_type": "markdown",
   "metadata": {
    "deletable": true,
    "editable": true
   },
   "source": [
    "Функция `Derivative` представляет невычисленную производную. Её можно вычислить методом `doit`."
   ]
  },
  {
   "cell_type": "code",
   "execution_count": 101,
   "metadata": {
    "collapsed": false,
    "deletable": true,
    "editable": true
   },
   "outputs": [
    {
     "data": {
      "image/png": "[encoded data removed]",
      "text/latex": [
       "$$\\frac{d}{d x} \\sin{\\left (x \\right )} = \\cos{\\left (x \\right )}$$"
      ],
      "text/plain": [
       "d                  \n",
       "──(sin(x)) = cos(x)\n",
       "dx                 "
      ]
     },
     "execution_count": 101,
     "metadata": {},
     "output_type": "execute_result"
    }
   ],
   "source": [
    "a=Derivative(sin(x),x)\n",
    "Eq(a,a.doit())"
   ]
  },
  {
   "cell_type": "markdown",
   "metadata": {
    "deletable": true,
    "editable": true
   },
   "source": [
    "## Интегралы"
   ]
  },
  {
   "cell_type": "code",
   "execution_count": 102,
   "metadata": {
    "collapsed": false,
    "deletable": true,
    "editable": true
   },
   "outputs": [
    {
     "data": {
      "image/png": "[encoded data removed]",
      "text/latex": [
       "$$\\frac{1}{4} \\log{\\left (x \\right )} - \\frac{1}{8} \\log{\\left (x^{2} - 2 \\right )} - \\frac{1}{4 x^{2} - 8}$$"
      ],
      "text/plain": [
       "            ⎛ 2    ⎞           \n",
       "log(x)   log⎝x  - 2⎠      1    \n",
       "────── - ─────────── - ────────\n",
       "  4           8           2    \n",
       "                       4⋅x  - 8"
      ]
     },
     "execution_count": 102,
     "metadata": {},
     "output_type": "execute_result"
    }
   ],
   "source": [
    "integrate(1/(x*(x**2-2)**2),x)"
   ]
  },
  {
   "cell_type": "code",
   "execution_count": 103,
   "metadata": {
    "collapsed": false,
    "deletable": true,
    "editable": true
   },
   "outputs": [
    {
     "data": {
      "image/png": "[encoded data removed]",
      "text/latex": [
       "$$x - \\log{\\left (e^{x} + 1 \\right )}$$"
      ],
      "text/plain": [
       "       ⎛ x    ⎞\n",
       "x - log⎝ℯ  + 1⎠"
      ]
     },
     "execution_count": 103,
     "metadata": {},
     "output_type": "execute_result"
    }
   ],
   "source": [
    "integrate(1/(exp(x)+1),x)"
   ]
  },
  {
   "cell_type": "code",
   "execution_count": 104,
   "metadata": {
    "collapsed": false,
    "deletable": true,
    "editable": true
   },
   "outputs": [
    {
     "data": {
      "image/png": "[encoded data removed]",
      "text/latex": [
       "$$x \\log{\\left (x \\right )} - x$$"
      ],
      "text/plain": [
       "x⋅log(x) - x"
      ]
     },
     "execution_count": 104,
     "metadata": {},
     "output_type": "execute_result"
    }
   ],
   "source": [
    "integrate(log(x),x)"
   ]
  },
  {
   "cell_type": "code",
   "execution_count": 105,
   "metadata": {
    "collapsed": false,
    "deletable": true,
    "editable": true
   },
   "outputs": [
    {
     "data": {
      "image/png": "[encoded data removed]",
      "text/latex": [
       "$$- x \\cos{\\left (x \\right )} + \\sin{\\left (x \\right )}$$"
      ],
      "text/plain": [
       "-x⋅cos(x) + sin(x)"
      ]
     },
     "execution_count": 105,
     "metadata": {},
     "output_type": "execute_result"
    }
   ],
   "source": [
    "integrate(x*sin(x),x)"
   ]
  },
  {
   "cell_type": "code",
   "execution_count": 106,
   "metadata": {
    "collapsed": false,
    "deletable": true,
    "editable": true
   },
   "outputs": [
    {
     "data": {
      "image/png": "[encoded data removed]",
      "text/latex": [
       "$$- \\frac{e^{- x^{2}}}{2}$$"
      ],
      "text/plain": [
       "    2 \n",
       "  -x  \n",
       "-ℯ    \n",
       "──────\n",
       "  2   "
      ]
     },
     "execution_count": 106,
     "metadata": {},
     "output_type": "execute_result"
    }
   ],
   "source": [
    "integrate(x*exp(-x**2),x)"
   ]
  },
  {
   "cell_type": "code",
   "execution_count": 107,
   "metadata": {
    "collapsed": false,
    "deletable": true,
    "editable": true
   },
   "outputs": [
    {
     "data": {
      "image/png": "[encoded data removed]",
      "text/latex": [
       "$$\\int x^{x}\\, dx$$"
      ],
      "text/plain": [
       "⌠      \n",
       "⎮  x   \n",
       "⎮ x  dx\n",
       "⌡      "
      ]
     },
     "execution_count": 107,
     "metadata": {},
     "output_type": "execute_result"
    }
   ],
   "source": [
    "a=integrate(x**x,x)\n",
    "a"
   ]
  },
  {
   "cell_type": "markdown",
   "metadata": {
    "deletable": true,
    "editable": true
   },
   "source": [
    "Получился невычисленный интеграл."
   ]
  },
  {
   "cell_type": "code",
   "execution_count": 108,
   "metadata": {
    "collapsed": false,
    "deletable": true,
    "editable": true
   },
   "outputs": [
    {
     "name": "stdout",
     "output_type": "stream",
     "text": [
      "Integral(x**x, x)\n"
     ]
    }
   ],
   "source": [
    "print(a)"
   ]
  },
  {
   "cell_type": "code",
   "execution_count": 109,
   "metadata": {
    "collapsed": false,
    "deletable": true,
    "editable": true
   },
   "outputs": [
    {
     "data": {
      "image/png": "[encoded data removed]",
      "text/latex": [
       "$$\\int \\sin{\\left (x \\right )}\\, dx = - \\cos{\\left (x \\right )}$$"
      ],
      "text/plain": [
       "⌠                    \n",
       "⎮ sin(x) dx = -cos(x)\n",
       "⌡                    "
      ]
     },
     "execution_count": 109,
     "metadata": {},
     "output_type": "execute_result"
    }
   ],
   "source": [
    "a=Integral(sin(x),x)\n",
    "Eq(a,a.doit())"
   ]
  },
  {
   "cell_type": "markdown",
   "metadata": {
    "deletable": true,
    "editable": true
   },
   "source": [
    "Определённые интегралы."
   ]
  },
  {
   "cell_type": "code",
   "execution_count": 110,
   "metadata": {
    "collapsed": false,
    "deletable": true,
    "editable": true
   },
   "outputs": [
    {
     "data": {
      "image/png": "[encoded data removed]",
      "text/latex": [
       "$$2$$"
      ],
      "text/plain": [
       "2"
      ]
     },
     "execution_count": 110,
     "metadata": {},
     "output_type": "execute_result"
    }
   ],
   "source": [
    "integrate(sin(x),(x,0,pi))"
   ]
  },
  {
   "cell_type": "markdown",
   "metadata": {
    "deletable": true,
    "editable": true
   },
   "source": [
    "`oo` - это $\\infty$."
   ]
  },
  {
   "cell_type": "code",
   "execution_count": 111,
   "metadata": {
    "collapsed": false,
    "deletable": true,
    "editable": true
   },
   "outputs": [
    {
     "data": {
      "image/png": "[encoded data removed]",
      "text/latex": [
       "$$\\frac{\\sqrt{\\pi}}{2}$$"
      ],
      "text/plain": [
       "√π\n",
       "──\n",
       "2 "
      ]
     },
     "execution_count": 111,
     "metadata": {},
     "output_type": "execute_result"
    }
   ],
   "source": [
    "integrate(exp(-x**2),(x,0,oo))"
   ]
  },
  {
   "cell_type": "code",
   "execution_count": 112,
   "metadata": {
    "collapsed": false,
    "deletable": true,
    "editable": true
   },
   "outputs": [
    {
     "data": {
      "image/png": "[encoded data removed]",
      "text/latex": [
       "$$- \\frac{\\pi^{2}}{6}$$"
      ],
      "text/plain": [
       "  2 \n",
       "-π  \n",
       "────\n",
       " 6  "
      ]
     },
     "execution_count": 112,
     "metadata": {},
     "output_type": "execute_result"
    }
   ],
   "source": [
    "integrate(log(x)/(1-x),(x,0,1))"
   ]
  },
  {
   "cell_type": "markdown",
   "metadata": {
    "deletable": true,
    "editable": true
   },
   "source": [
    "## Суммирование рядов"
   ]
  },
  {
   "cell_type": "code",
   "execution_count": 113,
   "metadata": {
    "collapsed": false,
    "deletable": true,
    "editable": true
   },
   "outputs": [
    {
     "data": {
      "image/png": "[encoded data removed]",
      "text/latex": [
       "$$\\frac{\\pi^{2}}{6}$$"
      ],
      "text/plain": [
       " 2\n",
       "π \n",
       "──\n",
       "6 "
      ]
     },
     "execution_count": 113,
     "metadata": {},
     "output_type": "execute_result"
    }
   ],
   "source": [
    "summation(1/n**2,(n,1,oo))"
   ]
  },
  {
   "cell_type": "code",
   "execution_count": 114,
   "metadata": {
    "collapsed": false,
    "deletable": true,
    "editable": true
   },
   "outputs": [
    {
     "data": {
      "image/png": "[encoded data removed]",
      "text/latex": [
       "$$- \\frac{\\pi^{2}}{12}$$"
      ],
      "text/plain": [
       "  2 \n",
       "-π  \n",
       "────\n",
       " 12 "
      ]
     },
     "execution_count": 114,
     "metadata": {},
     "output_type": "execute_result"
    }
   ],
   "source": [
    "summation((-1)**n/n**2,(n,1,oo))"
   ]
  },
  {
   "cell_type": "code",
   "execution_count": 115,
   "metadata": {
    "collapsed": false,
    "deletable": true,
    "editable": true
   },
   "outputs": [
    {
     "data": {
      "image/png": "[encoded data removed]",
      "text/latex": [
       "$$\\frac{\\pi^{4}}{90}$$"
      ],
      "text/plain": [
       " 4\n",
       "π \n",
       "──\n",
       "90"
      ]
     },
     "execution_count": 115,
     "metadata": {},
     "output_type": "execute_result"
    }
   ],
   "source": [
    "summation(1/n**4,(n,1,oo))"
   ]
  },
  {
   "cell_type": "markdown",
   "metadata": {
    "deletable": true,
    "editable": true
   },
   "source": [
    "Невычисленная сумма обозначается `Sum`."
   ]
  },
  {
   "cell_type": "code",
   "execution_count": 116,
   "metadata": {
    "collapsed": false,
    "deletable": true,
    "editable": true
   },
   "outputs": [
    {
     "data": {
      "image/png": "[encoded data removed]",
      "text/latex": [
       "$$\\sum_{n=0}^{\\infty} \\frac{x^{n}}{n!} = e^{x}$$"
      ],
      "text/plain": [
       "  ∞          \n",
       " ____        \n",
       " ╲           \n",
       "  ╲    n     \n",
       "   ╲  x     x\n",
       "   ╱  ── = ℯ \n",
       "  ╱   n!     \n",
       " ╱           \n",
       " ‾‾‾‾        \n",
       "n = 0        "
      ]
     },
     "execution_count": 116,
     "metadata": {},
     "output_type": "execute_result"
    }
   ],
   "source": [
    "a=Sum(x**n/factorial(n),(n,0,oo))\n",
    "Eq(a,a.doit())"
   ]
  },
  {
   "cell_type": "markdown",
   "metadata": {
    "deletable": true,
    "editable": true
   },
   "source": [
    "## Пределы"
   ]
  },
  {
   "cell_type": "code",
   "execution_count": 117,
   "metadata": {
    "collapsed": false,
    "deletable": true,
    "editable": true
   },
   "outputs": [
    {
     "data": {
      "image/png": "[encoded data removed]",
      "text/latex": [
       "$$\\frac{1}{30}$$"
      ],
      "text/plain": [
       "1/30"
      ]
     },
     "execution_count": 117,
     "metadata": {},
     "output_type": "execute_result"
    }
   ],
   "source": [
    "limit((tan(sin(x))-sin(tan(x)))/x**7,x,0)"
   ]
  },
  {
   "cell_type": "markdown",
   "metadata": {
    "deletable": true,
    "editable": true
   },
   "source": [
    "Ну это простой предел, считается разложением числителя и знаменателя в ряды. А вот если в $x=0$ существенно особая точка, дело сложнее. Посчитаем односторонние пределы."
   ]
  },
  {
   "cell_type": "code",
   "execution_count": 118,
   "metadata": {
    "collapsed": false,
    "deletable": true,
    "editable": true
   },
   "outputs": [
    {
     "data": {
      "image/png": "[encoded data removed]",
      "text/latex": [
       "$$\\frac{1}{30}$$"
      ],
      "text/plain": [
       "1/30"
      ]
     },
     "execution_count": 118,
     "metadata": {},
     "output_type": "execute_result"
    }
   ],
   "source": [
    "limit((tan(sin(x))-sin(tan(x)))/(x**7+exp(-1/x)),x,0,'+')"
   ]
  },
  {
   "cell_type": "code",
   "execution_count": 119,
   "metadata": {
    "collapsed": false,
    "deletable": true,
    "editable": true
   },
   "outputs": [
    {
     "data": {
      "image/png": "[encoded data removed]",
      "text/latex": [
       "$$0$$"
      ],
      "text/plain": [
       "0"
      ]
     },
     "execution_count": 119,
     "metadata": {},
     "output_type": "execute_result"
    }
   ],
   "source": [
    "limit((tan(sin(x))-sin(tan(x)))/(x**7+exp(-1/x)),x,0,'-')"
   ]
  },
  {
   "cell_type": "markdown",
   "metadata": {
    "deletable": true,
    "editable": true
   },
   "source": [
    "## Дифференциальные уравнения"
   ]
  },
  {
   "cell_type": "code",
   "execution_count": 120,
   "metadata": {
    "collapsed": false,
    "deletable": true,
    "editable": true
   },
   "outputs": [],
   "source": [
    "t=Symbol('t')\n",
    "x=Function('x')\n",
    "p=Function('p')"
   ]
  },
  {
   "cell_type": "markdown",
   "metadata": {
    "deletable": true,
    "editable": true
   },
   "source": [
    "Первого порядка."
   ]
  },
  {
   "cell_type": "code",
   "execution_count": 121,
   "metadata": {
    "collapsed": false,
    "deletable": true,
    "editable": true
   },
   "outputs": [
    {
     "data": {
      "image/png": "[encoded data removed]",
      "text/latex": [
       "$$x{\\left (t \\right )} = C_{1} e^{- t}$$"
      ],
      "text/plain": [
       "           -t\n",
       "x(t) = C₁⋅ℯ  "
      ]
     },
     "execution_count": 121,
     "metadata": {},
     "output_type": "execute_result"
    }
   ],
   "source": [
    "dsolve(diff(x(t),t)+x(t),x(t))"
   ]
  },
  {
   "cell_type": "markdown",
   "metadata": {
    "deletable": true,
    "editable": true
   },
   "source": [
    "Второго порядка."
   ]
  },
  {
   "cell_type": "code",
   "execution_count": 122,
   "metadata": {
    "collapsed": false,
    "deletable": true,
    "editable": true
   },
   "outputs": [
    {
     "data": {
      "image/png": "[encoded data removed]",
      "text/latex": [
       "$$x{\\left (t \\right )} = C_{1} \\sin{\\left (t \\right )} + C_{2} \\cos{\\left (t \\right )}$$"
      ],
      "text/plain": [
       "x(t) = C₁⋅sin(t) + C₂⋅cos(t)"
      ]
     },
     "execution_count": 122,
     "metadata": {},
     "output_type": "execute_result"
    }
   ],
   "source": [
    "dsolve(diff(x(t),t,2)+x(t),x(t))"
   ]
  },
  {
   "cell_type": "markdown",
   "metadata": {
    "deletable": true,
    "editable": true
   },
   "source": [
    "Система уравнений первого порядка."
   ]
  },
  {
   "cell_type": "code",
   "execution_count": 123,
   "metadata": {
    "collapsed": false,
    "deletable": true,
    "editable": true
   },
   "outputs": [
    {
     "data": {
      "image/png": "[encoded data removed]",
      "text/latex": [
       "$$\\left [ x{\\left (t \\right )} = C_{1} \\sin{\\left (t \\right )} + C_{2} \\cos{\\left (t \\right )}, \\quad p{\\left (t \\right )} = C_{1} \\cos{\\left (t \\right )} - C_{2} \\sin{\\left (t \\right )}\\right ]$$"
      ],
      "text/plain": [
       "[x(t) = C₁⋅sin(t) + C₂⋅cos(t), p(t) = C₁⋅cos(t) - C₂⋅sin(t)]"
      ]
     },
     "execution_count": 123,
     "metadata": {},
     "output_type": "execute_result"
    }
   ],
   "source": [
    "dsolve((diff(x(t),t)-p(t),diff(p(t),t)+x(t)))"
   ]
  },
  {
   "cell_type": "markdown",
   "metadata": {
    "deletable": true,
    "editable": true
   },
   "source": [
    "## Линейная алгебра"
   ]
  },
  {
   "cell_type": "code",
   "execution_count": 124,
   "metadata": {
    "collapsed": true,
    "deletable": true,
    "editable": true
   },
   "outputs": [],
   "source": [
    "a,b,c,d,e,f=symbols('a b c d e f')"
   ]
  },
  {
   "cell_type": "markdown",
   "metadata": {
    "deletable": true,
    "editable": true
   },
   "source": [
    "Матрицу можно построить из списка списков."
   ]
  },
  {
   "cell_type": "code",
   "execution_count": 125,
   "metadata": {
    "collapsed": false,
    "deletable": true,
    "editable": true
   },
   "outputs": [
    {
     "data": {
      "image/png": "[encoded data removed]",
      "text/latex": [
       "$$\\left[\\begin{matrix}a & b & c\\\\d & e & f\\end{matrix}\\right]$$"
      ],
      "text/plain": [
       "⎡a  b  c⎤\n",
       "⎢       ⎥\n",
       "⎣d  e  f⎦"
      ]
     },
     "execution_count": 125,
     "metadata": {},
     "output_type": "execute_result"
    }
   ],
   "source": [
    "M=Matrix([[a,b,c],[d,e,f]])\n",
    "M"
   ]
  },
  {
   "cell_type": "code",
   "execution_count": 126,
   "metadata": {
    "collapsed": false,
    "deletable": true,
    "editable": true
   },
   "outputs": [
    {
     "data": {
      "image/png": "[encoded data removed]",
      "text/latex": [
       "$$\\left ( 2, \\quad 3\\right )$$"
      ],
      "text/plain": [
       "(2, 3)"
      ]
     },
     "execution_count": 126,
     "metadata": {},
     "output_type": "execute_result"
    }
   ],
   "source": [
    "M.shape"
   ]
  },
  {
   "cell_type": "markdown",
   "metadata": {
    "deletable": true,
    "editable": true
   },
   "source": [
    "Матрица-строка."
   ]
  },
  {
   "cell_type": "code",
   "execution_count": 127,
   "metadata": {
    "collapsed": false,
    "deletable": true,
    "editable": true
   },
   "outputs": [
    {
     "data": {
      "image/png": "[encoded data removed]",
      "text/latex": [
       "$$\\left[\\begin{matrix}1 & 2 & 3\\end{matrix}\\right]$$"
      ],
      "text/plain": [
       "[1  2  3]"
      ]
     },
     "execution_count": 127,
     "metadata": {},
     "output_type": "execute_result"
    }
   ],
   "source": [
    "Matrix([[1,2,3]])"
   ]
  },
  {
   "cell_type": "markdown",
   "metadata": {
    "deletable": true,
    "editable": true
   },
   "source": [
    "Матрица-столбец."
   ]
  },
  {
   "cell_type": "code",
   "execution_count": 128,
   "metadata": {
    "collapsed": false,
    "deletable": true,
    "editable": true
   },
   "outputs": [
    {
     "data": {
      "image/png": "[encoded data removed]",
      "text/latex": [
       "$$\\left[\\begin{matrix}1\\\\2\\\\3\\end{matrix}\\right]$$"
      ],
      "text/plain": [
       "⎡1⎤\n",
       "⎢ ⎥\n",
       "⎢2⎥\n",
       "⎢ ⎥\n",
       "⎣3⎦"
      ]
     },
     "execution_count": 128,
     "metadata": {},
     "output_type": "execute_result"
    }
   ],
   "source": [
    "Matrix([1,2,3])"
   ]
  },
  {
   "cell_type": "markdown",
   "metadata": {
    "deletable": true,
    "editable": true
   },
   "source": [
    "Можно построить матрицу из функции."
   ]
  },
  {
   "cell_type": "code",
   "execution_count": 129,
   "metadata": {
    "collapsed": false,
    "deletable": true,
    "editable": true
   },
   "outputs": [
    {
     "data": {
      "image/png": "[encoded data removed]",
      "text/latex": [
       "$$\\left[\\begin{matrix}1 & \\frac{1}{2} & \\frac{1}{3}\\\\\\frac{1}{2} & \\frac{1}{3} & \\frac{1}{4}\\\\\\frac{1}{3} & \\frac{1}{4} & \\frac{1}{5}\\end{matrix}\\right]$$"
      ],
      "text/plain": [
       "⎡ 1   1/2  1/3⎤\n",
       "⎢             ⎥\n",
       "⎢1/2  1/3  1/4⎥\n",
       "⎢             ⎥\n",
       "⎣1/3  1/4  1/5⎦"
      ]
     },
     "execution_count": 129,
     "metadata": {},
     "output_type": "execute_result"
    }
   ],
   "source": [
    "def g(i,j):\n",
    "    return Rational(1,i+j+1)\n",
    "Matrix(3,3,g)"
   ]
  },
  {
   "cell_type": "markdown",
   "metadata": {
    "collapsed": false,
    "deletable": true,
    "editable": true
   },
   "source": [
    "Или из неопределённой функции."
   ]
  },
  {
   "cell_type": "code",
   "execution_count": 130,
   "metadata": {
    "collapsed": false,
    "deletable": true,
    "editable": true
   },
   "outputs": [
    {
     "data": {
      "image/png": "[encoded data removed]",
      "text/latex": [
       "$$\\left[\\begin{matrix}g{\\left (0,0 \\right )} & g{\\left (0,1 \\right )} & g{\\left (0,2 \\right )}\\\\g{\\left (1,0 \\right )} & g{\\left (1,1 \\right )} & g{\\left (1,2 \\right )}\\\\g{\\left (2,0 \\right )} & g{\\left (2,1 \\right )} & g{\\left (2,2 \\right )}\\end{matrix}\\right]$$"
      ],
      "text/plain": [
       "⎡g(0, 0)  g(0, 1)  g(0, 2)⎤\n",
       "⎢                         ⎥\n",
       "⎢g(1, 0)  g(1, 1)  g(1, 2)⎥\n",
       "⎢                         ⎥\n",
       "⎣g(2, 0)  g(2, 1)  g(2, 2)⎦"
      ]
     },
     "execution_count": 130,
     "metadata": {},
     "output_type": "execute_result"
    }
   ],
   "source": [
    "g=Function('g')\n",
    "M=Matrix(3,3,g)\n",
    "M"
   ]
  },
  {
   "cell_type": "code",
   "execution_count": 131,
   "metadata": {
    "collapsed": false,
    "deletable": true,
    "editable": true
   },
   "outputs": [
    {
     "data": {
      "image/png": "[encoded data removed]",
      "text/latex": [
       "$$g{\\left (1,2 \\right )}$$"
      ],
      "text/plain": [
       "g(1, 2)"
      ]
     },
     "execution_count": 131,
     "metadata": {},
     "output_type": "execute_result"
    }
   ],
   "source": [
    "M[1,2]"
   ]
  },
  {
   "cell_type": "code",
   "execution_count": 132,
   "metadata": {
    "collapsed": false,
    "deletable": true,
    "editable": true
   },
   "outputs": [
    {
     "data": {
      "image/png": "[encoded data removed]",
      "text/latex": [
       "$$\\left[\\begin{matrix}g{\\left (0,0 \\right )} & g{\\left (0,1 \\right )} & g{\\left (0,2 \\right )}\\\\g{\\left (1,0 \\right )} & g{\\left (1,1 \\right )} & 0\\\\g{\\left (2,0 \\right )} & g{\\left (2,1 \\right )} & g{\\left (2,2 \\right )}\\end{matrix}\\right]$$"
      ],
      "text/plain": [
       "⎡g(0, 0)  g(0, 1)  g(0, 2)⎤\n",
       "⎢                         ⎥\n",
       "⎢g(1, 0)  g(1, 1)     0   ⎥\n",
       "⎢                         ⎥\n",
       "⎣g(2, 0)  g(2, 1)  g(2, 2)⎦"
      ]
     },
     "execution_count": 132,
     "metadata": {},
     "output_type": "execute_result"
    }
   ],
   "source": [
    "M[1,2]=0\n",
    "M"
   ]
  },
  {
   "cell_type": "code",
   "execution_count": 133,
   "metadata": {
    "collapsed": false,
    "deletable": true,
    "editable": true
   },
   "outputs": [
    {
     "data": {
      "image/png": "[encoded data removed]",
      "text/latex": [
       "$$\\left[\\begin{matrix}g{\\left (2,0 \\right )} & g{\\left (2,1 \\right )} & g{\\left (2,2 \\right )}\\end{matrix}\\right]$$"
      ],
      "text/plain": [
       "[g(2, 0)  g(2, 1)  g(2, 2)]"
      ]
     },
     "execution_count": 133,
     "metadata": {},
     "output_type": "execute_result"
    }
   ],
   "source": [
    "M[2,:]"
   ]
  },
  {
   "cell_type": "code",
   "execution_count": 134,
   "metadata": {
    "collapsed": false,
    "deletable": true,
    "editable": true
   },
   "outputs": [
    {
     "data": {
      "image/png": "[encoded data removed]",
      "text/latex": [
       "$$\\left[\\begin{matrix}g{\\left (0,1 \\right )}\\\\g{\\left (1,1 \\right )}\\\\g{\\left (2,1 \\right )}\\end{matrix}\\right]$$"
      ],
      "text/plain": [
       "⎡g(0, 1)⎤\n",
       "⎢       ⎥\n",
       "⎢g(1, 1)⎥\n",
       "⎢       ⎥\n",
       "⎣g(2, 1)⎦"
      ]
     },
     "execution_count": 134,
     "metadata": {},
     "output_type": "execute_result"
    }
   ],
   "source": [
    "M[:,1]"
   ]
  },
  {
   "cell_type": "code",
   "execution_count": 135,
   "metadata": {
    "collapsed": false,
    "deletable": true,
    "editable": true
   },
   "outputs": [
    {
     "data": {
      "image/png": "[encoded data removed]",
      "text/latex": [
       "$$\\left[\\begin{matrix}g{\\left (0,1 \\right )} & g{\\left (0,2 \\right )}\\\\g{\\left (1,1 \\right )} & 0\\end{matrix}\\right]$$"
      ],
      "text/plain": [
       "⎡g(0, 1)  g(0, 2)⎤\n",
       "⎢                ⎥\n",
       "⎣g(1, 1)     0   ⎦"
      ]
     },
     "execution_count": 135,
     "metadata": {},
     "output_type": "execute_result"
    }
   ],
   "source": [
    "M[0:2,1:3]"
   ]
  },
  {
   "cell_type": "markdown",
   "metadata": {
    "collapsed": false,
    "deletable": true,
    "editable": true
   },
   "source": [
    "Единичная матрица."
   ]
  },
  {
   "cell_type": "code",
   "execution_count": 136,
   "metadata": {
    "collapsed": false,
    "deletable": true,
    "editable": true
   },
   "outputs": [
    {
     "data": {
      "image/png": "[encoded data removed]",
      "text/latex": [
       "$$\\left[\\begin{matrix}1 & 0 & 0\\\\0 & 1 & 0\\\\0 & 0 & 1\\end{matrix}\\right]$$"
      ],
      "text/plain": [
       "⎡1  0  0⎤\n",
       "⎢       ⎥\n",
       "⎢0  1  0⎥\n",
       "⎢       ⎥\n",
       "⎣0  0  1⎦"
      ]
     },
     "execution_count": 136,
     "metadata": {},
     "output_type": "execute_result"
    }
   ],
   "source": [
    "eye(3)"
   ]
  },
  {
   "cell_type": "markdown",
   "metadata": {
    "deletable": true,
    "editable": true
   },
   "source": [
    "Матрица из нулей."
   ]
  },
  {
   "cell_type": "code",
   "execution_count": 137,
   "metadata": {
    "collapsed": false,
    "deletable": true,
    "editable": true
   },
   "outputs": [
    {
     "data": {
      "image/png": "[encoded data removed]",
      "text/latex": [
       "$$\\left[\\begin{matrix}0 & 0 & 0\\\\0 & 0 & 0\\\\0 & 0 & 0\\end{matrix}\\right]$$"
      ],
      "text/plain": [
       "⎡0  0  0⎤\n",
       "⎢       ⎥\n",
       "⎢0  0  0⎥\n",
       "⎢       ⎥\n",
       "⎣0  0  0⎦"
      ]
     },
     "execution_count": 137,
     "metadata": {},
     "output_type": "execute_result"
    }
   ],
   "source": [
    "zeros(3)"
   ]
  },
  {
   "cell_type": "code",
   "execution_count": 138,
   "metadata": {
    "collapsed": false,
    "deletable": true,
    "editable": true
   },
   "outputs": [
    {
     "data": {
      "image/png": "[encoded data removed]",
      "text/latex": [
       "$$\\left[\\begin{matrix}0 & 0 & 0\\\\0 & 0 & 0\\end{matrix}\\right]$$"
      ],
      "text/plain": [
       "⎡0  0  0⎤\n",
       "⎢       ⎥\n",
       "⎣0  0  0⎦"
      ]
     },
     "execution_count": 138,
     "metadata": {},
     "output_type": "execute_result"
    }
   ],
   "source": [
    "zeros(2,3)"
   ]
  },
  {
   "cell_type": "markdown",
   "metadata": {
    "deletable": true,
    "editable": true
   },
   "source": [
    "Диагональная матрица."
   ]
  },
  {
   "cell_type": "code",
   "execution_count": 139,
   "metadata": {
    "collapsed": false,
    "deletable": true,
    "editable": true
   },
   "outputs": [
    {
     "data": {
      "image/png": "[encoded data removed]",
      "text/latex": [
       "$$\\left[\\begin{matrix}1 & 0 & 0\\\\0 & 2 & 0\\\\0 & 0 & 3\\end{matrix}\\right]$$"
      ],
      "text/plain": [
       "⎡1  0  0⎤\n",
       "⎢       ⎥\n",
       "⎢0  2  0⎥\n",
       "⎢       ⎥\n",
       "⎣0  0  3⎦"
      ]
     },
     "execution_count": 139,
     "metadata": {},
     "output_type": "execute_result"
    }
   ],
   "source": [
    "diag(1,2,3)"
   ]
  },
  {
   "cell_type": "code",
   "execution_count": 140,
   "metadata": {
    "collapsed": false,
    "deletable": true,
    "editable": true
   },
   "outputs": [
    {
     "data": {
      "image/png": "[encoded data removed]",
      "text/latex": [
       "$$\\left[\\begin{matrix}1 & 0 & 0 & 0\\\\0 & a & 1 & 0\\\\0 & 0 & a & 0\\\\0 & 0 & 0 & 2\\end{matrix}\\right]$$"
      ],
      "text/plain": [
       "⎡1  0  0  0⎤\n",
       "⎢          ⎥\n",
       "⎢0  a  1  0⎥\n",
       "⎢          ⎥\n",
       "⎢0  0  a  0⎥\n",
       "⎢          ⎥\n",
       "⎣0  0  0  2⎦"
      ]
     },
     "execution_count": 140,
     "metadata": {},
     "output_type": "execute_result"
    }
   ],
   "source": [
    "M=Matrix([[a,1],[0,a]])\n",
    "diag(1,M,2)"
   ]
  },
  {
   "cell_type": "markdown",
   "metadata": {
    "deletable": true,
    "editable": true
   },
   "source": [
    "Операции с матрицами."
   ]
  },
  {
   "cell_type": "code",
   "execution_count": 141,
   "metadata": {
    "collapsed": false,
    "deletable": true,
    "editable": true
   },
   "outputs": [
    {
     "data": {
      "image/png": "[encoded data removed]",
      "text/latex": [
       "$$\\left[\\begin{matrix}a + 1 & b + 2\\\\c + 3 & d + 4\\end{matrix}\\right]$$"
      ],
      "text/plain": [
       "⎡a + 1  b + 2⎤\n",
       "⎢            ⎥\n",
       "⎣c + 3  d + 4⎦"
      ]
     },
     "execution_count": 141,
     "metadata": {},
     "output_type": "execute_result"
    }
   ],
   "source": [
    "A=Matrix([[a,b],[c,d]])\n",
    "B=Matrix([[1,2],[3,4]])\n",
    "A+B"
   ]
  },
  {
   "cell_type": "code",
   "execution_count": 142,
   "metadata": {
    "collapsed": false,
    "deletable": true,
    "editable": true
   },
   "outputs": [
    {
     "data": {
      "image/png": "[encoded data removed]",
      "text/latex": [
       "$$\\left ( \\left[\\begin{matrix}a + 3 b & 2 a + 4 b\\\\c + 3 d & 2 c + 4 d\\end{matrix}\\right], \\quad \\left[\\begin{matrix}a + 2 c & b + 2 d\\\\3 a + 4 c & 3 b + 4 d\\end{matrix}\\right]\\right )$$"
      ],
      "text/plain": [
       "⎛⎡a + 3⋅b  2⋅a + 4⋅b⎤, ⎡ a + 2⋅c    b + 2⋅d ⎤⎞\n",
       "⎜⎢                  ⎥  ⎢                    ⎥⎟\n",
       "⎝⎣c + 3⋅d  2⋅c + 4⋅d⎦  ⎣3⋅a + 4⋅c  3⋅b + 4⋅d⎦⎠"
      ]
     },
     "execution_count": 142,
     "metadata": {},
     "output_type": "execute_result"
    }
   ],
   "source": [
    "A*B,B*A"
   ]
  },
  {
   "cell_type": "code",
   "execution_count": 143,
   "metadata": {
    "collapsed": false,
    "deletable": true,
    "editable": true
   },
   "outputs": [
    {
     "data": {
      "image/png": "[encoded data removed]",
      "text/latex": [
       "$$\\left[\\begin{matrix}3 b - 2 c & 2 a + 3 b - 2 d\\\\- 3 a - 3 c + 3 d & - 3 b + 2 c\\end{matrix}\\right]$$"
      ],
      "text/plain": [
       "⎡   3⋅b - 2⋅c      2⋅a + 3⋅b - 2⋅d⎤\n",
       "⎢                                 ⎥\n",
       "⎣-3⋅a - 3⋅c + 3⋅d    -3⋅b + 2⋅c   ⎦"
      ]
     },
     "execution_count": 143,
     "metadata": {},
     "output_type": "execute_result"
    }
   ],
   "source": [
    "A*B-B*A"
   ]
  },
  {
   "cell_type": "code",
   "execution_count": 144,
   "metadata": {
    "collapsed": false,
    "deletable": true,
    "editable": true
   },
   "outputs": [
    {
     "data": {
      "image/png": "[encoded data removed]",
      "text/latex": [
       "$$\\left[\\begin{matrix}\\frac{d}{a d - b c} & - \\frac{b}{a d - b c}\\\\- \\frac{c}{a d - b c} & \\frac{a}{a d - b c}\\end{matrix}\\right]$$"
      ],
      "text/plain": [
       "⎡    d         -b    ⎤\n",
       "⎢─────────  ─────────⎥\n",
       "⎢a⋅d - b⋅c  a⋅d - b⋅c⎥\n",
       "⎢                    ⎥\n",
       "⎢   -c          a    ⎥\n",
       "⎢─────────  ─────────⎥\n",
       "⎣a⋅d - b⋅c  a⋅d - b⋅c⎦"
      ]
     },
     "execution_count": 144,
     "metadata": {},
     "output_type": "execute_result"
    }
   ],
   "source": [
    "simplify(A**(-1))"
   ]
  },
  {
   "cell_type": "code",
   "execution_count": 145,
   "metadata": {
    "collapsed": false,
    "deletable": true,
    "editable": true
   },
   "outputs": [
    {
     "data": {
      "image/png": "[encoded data removed]",
      "text/latex": [
       "$$a d - b c$$"
      ],
      "text/plain": [
       "a⋅d - b⋅c"
      ]
     },
     "execution_count": 145,
     "metadata": {},
     "output_type": "execute_result"
    }
   ],
   "source": [
    "det(A)"
   ]
  },
  {
   "cell_type": "markdown",
   "metadata": {
    "deletable": true,
    "editable": true
   },
   "source": [
    "### Собственные значения и векторы"
   ]
  },
  {
   "cell_type": "code",
   "execution_count": 146,
   "metadata": {
    "collapsed": true,
    "deletable": true,
    "editable": true
   },
   "outputs": [],
   "source": [
    "x=Symbol('x',real=True)"
   ]
  },
  {
   "cell_type": "code",
   "execution_count": 147,
   "metadata": {
    "collapsed": false,
    "deletable": true,
    "editable": true
   },
   "outputs": [
    {
     "data": {
      "image/png": "[encoded data removed]",
      "text/latex": [
       "$$\\left[\\begin{matrix}\\left(- x + 1\\right)^{3} \\left(x + 3\\right) & 4 x \\left(- x^{2} + 1\\right) & \\left(- x + 3\\right) \\left(2 x^{2} - 2\\right)\\\\4 x \\left(- x^{2} + 1\\right) & - \\left(- x + 3\\right) \\left(x + 1\\right)^{3} & \\left(x + 3\\right) \\left(- 2 x^{2} + 2\\right)\\\\\\left(- x + 3\\right) \\left(2 x^{2} - 2\\right) & \\left(x + 3\\right) \\left(- 2 x^{2} + 2\\right) & 16 x\\end{matrix}\\right]$$"
      ],
      "text/plain": [
       "⎡         3                  ⎛   2    ⎞              ⎛   2    ⎞ ⎤\n",
       "⎢ (-x + 1) ⋅(x + 3)      4⋅x⋅⎝- x  + 1⎠     (-x + 3)⋅⎝2⋅x  - 2⎠ ⎥\n",
       "⎢                                                               ⎥\n",
       "⎢      ⎛   2    ⎞                       3           ⎛     2    ⎞⎥\n",
       "⎢  4⋅x⋅⎝- x  + 1⎠      -(-x + 3)⋅(x + 1)    (x + 3)⋅⎝- 2⋅x  + 2⎠⎥\n",
       "⎢                                                               ⎥\n",
       "⎢         ⎛   2    ⎞          ⎛     2    ⎞                      ⎥\n",
       "⎣(-x + 3)⋅⎝2⋅x  - 2⎠  (x + 3)⋅⎝- 2⋅x  + 2⎠          16⋅x        ⎦"
      ]
     },
     "execution_count": 147,
     "metadata": {},
     "output_type": "execute_result"
    }
   ],
   "source": [
    "M=Matrix([[(1-x)**3*(3+x),4*x*(1-x**2),-2*(1-x**2)*(3-x)],\n",
    "          [4*x*(1-x**2),-(1+x)**3*(3-x),2*(1-x**2)*(3+x)],\n",
    "          [-2*(1-x**2)*(3-x),2*(1-x**2)*(3+x),16*x]])\n",
    "M"
   ]
  },
  {
   "cell_type": "code",
   "execution_count": 148,
   "metadata": {
    "collapsed": false,
    "deletable": true,
    "editable": true
   },
   "outputs": [
    {
     "data": {
      "image/png": "[encoded data removed]",
      "text/latex": [
       "$$0$$"
      ],
      "text/plain": [
       "0"
      ]
     },
     "execution_count": 148,
     "metadata": {},
     "output_type": "execute_result"
    }
   ],
   "source": [
    "det(M)"
   ]
  },
  {
   "cell_type": "markdown",
   "metadata": {
    "deletable": true,
    "editable": true
   },
   "source": [
    "Значит, у этой матрицы есть нулевое подпространство (она обращает векторы из этого подпространства в 0). Базис этого подпространства."
   ]
  },
  {
   "cell_type": "code",
   "execution_count": 149,
   "metadata": {
    "collapsed": false,
    "deletable": true,
    "editable": true
   },
   "outputs": [
    {
     "data": {
      "image/png": "[encoded data removed]",
      "text/latex": [
       "$$1$$"
      ],
      "text/plain": [
       "1"
      ]
     },
     "execution_count": 149,
     "metadata": {},
     "output_type": "execute_result"
    }
   ],
   "source": [
    "v=M.nullspace()\n",
    "len(v)"
   ]
  },
  {
   "cell_type": "markdown",
   "metadata": {
    "deletable": true,
    "editable": true
   },
   "source": [
    "Оно одномерно."
   ]
  },
  {
   "cell_type": "code",
   "execution_count": 150,
   "metadata": {
    "collapsed": false,
    "deletable": true,
    "editable": true
   },
   "outputs": [
    {
     "data": {
      "image/png": "[encoded data removed]",
      "text/latex": [
       "$$\\left[\\begin{matrix}- \\frac{2}{x - 1}\\\\\\frac{2}{x + 1}\\\\1\\end{matrix}\\right]$$"
      ],
      "text/plain": [
       "⎡ -2  ⎤\n",
       "⎢─────⎥\n",
       "⎢x - 1⎥\n",
       "⎢     ⎥\n",
       "⎢  2  ⎥\n",
       "⎢─────⎥\n",
       "⎢x + 1⎥\n",
       "⎢     ⎥\n",
       "⎣  1  ⎦"
      ]
     },
     "execution_count": 150,
     "metadata": {},
     "output_type": "execute_result"
    }
   ],
   "source": [
    "v=simplify(v[0])\n",
    "v"
   ]
  },
  {
   "cell_type": "markdown",
   "metadata": {
    "deletable": true,
    "editable": true
   },
   "source": [
    "Проверим."
   ]
  },
  {
   "cell_type": "code",
   "execution_count": 151,
   "metadata": {
    "collapsed": false,
    "deletable": true,
    "editable": true
   },
   "outputs": [
    {
     "data": {
      "image/png": "[encoded data removed]",
      "text/latex": [
       "$$\\left[\\begin{matrix}0\\\\0\\\\0\\end{matrix}\\right]$$"
      ],
      "text/plain": [
       "⎡0⎤\n",
       "⎢ ⎥\n",
       "⎢0⎥\n",
       "⎢ ⎥\n",
       "⎣0⎦"
      ]
     },
     "execution_count": 151,
     "metadata": {},
     "output_type": "execute_result"
    }
   ],
   "source": [
    "simplify(M*v)"
   ]
  },
  {
   "cell_type": "markdown",
   "metadata": {
    "deletable": true,
    "editable": true
   },
   "source": [
    "Собственные значения и их кратности."
   ]
  },
  {
   "cell_type": "code",
   "execution_count": 152,
   "metadata": {
    "collapsed": false,
    "deletable": true,
    "editable": true
   },
   "outputs": [
    {
     "data": {
      "image/png": "[encoded data removed]",
      "text/latex": [
       "$$\\left \\{ 0 : 1, \\quad - \\left(x^{2} + 3\\right)^{2} : 1, \\quad \\left(x^{2} + 3\\right)^{2} : 1\\right \\}$$"
      ],
      "text/plain": [
       "⎧               2             2   ⎫\n",
       "⎨       ⎛ 2    ⎞      ⎛ 2    ⎞    ⎬\n",
       "⎩0: 1, -⎝x  + 3⎠ : 1, ⎝x  + 3⎠ : 1⎭"
      ]
     },
     "execution_count": 152,
     "metadata": {},
     "output_type": "execute_result"
    }
   ],
   "source": [
    "M.eigenvals()"
   ]
  },
  {
   "cell_type": "markdown",
   "metadata": {
    "deletable": true,
    "editable": true
   },
   "source": [
    "Если нужны не только собственные значения, но и собственные векторы, то нужно использовать метод `eigenvects`. Он возвращает список кортежей. В каждом из них нулевой элемент - собственное значение, первый - его кратность, и последний - список собственных векторов, образующих базис (их столько, какова кратность)."
   ]
  },
  {
   "cell_type": "code",
   "execution_count": 153,
   "metadata": {
    "collapsed": false,
    "deletable": true,
    "editable": true
   },
   "outputs": [
    {
     "data": {
      "image/png": "[encoded data removed]",
      "text/latex": [
       "$$3$$"
      ],
      "text/plain": [
       "3"
      ]
     },
     "execution_count": 153,
     "metadata": {},
     "output_type": "execute_result"
    }
   ],
   "source": [
    "v=M.eigenvects()\n",
    "len(v)"
   ]
  },
  {
   "cell_type": "code",
   "execution_count": 154,
   "metadata": {
    "collapsed": false,
    "deletable": true,
    "editable": true
   },
   "outputs": [
    {
     "data": {
      "image/png": "[encoded data removed]",
      "text/latex": [
       "$$\\left [ \\left ( 0, \\quad 1, \\quad \\left [ \\left[\\begin{matrix}- \\frac{2}{x - 1}\\\\\\frac{2}{x + 1}\\\\1\\end{matrix}\\right]\\right ]\\right ), \\quad \\left ( - \\left(x^{2} + 3\\right)^{2}, \\quad 1, \\quad \\left [ \\left[\\begin{matrix}\\frac{x}{2} + \\frac{1}{2}\\\\\\frac{x + 1}{x - 1}\\\\1\\end{matrix}\\right]\\right ]\\right ), \\quad \\left ( \\left(x^{2} + 3\\right)^{2}, \\quad 1, \\quad \\left [ \\left[\\begin{matrix}\\frac{x - 1}{x + 1}\\\\- \\frac{x}{2} + \\frac{1}{2}\\\\1\\end{matrix}\\right]\\right ]\\right )\\right ]$$"
      ],
      "text/plain": [
       "⎡                   ⎛         2              ⎞  ⎛        2                ⎞⎤\n",
       "⎢⎛      ⎡⎡ -2  ⎤⎤⎞  ⎜ ⎛ 2    ⎞      ⎡⎡x   1⎤⎤⎟  ⎜⎛ 2    ⎞      ⎡⎡ x - 1 ⎤⎤⎟⎥\n",
       "⎢⎜0, 1, ⎢⎢─────⎥⎥⎟, ⎜-⎝x  + 3⎠ , 1, ⎢⎢─ + ─⎥⎥⎟, ⎜⎝x  + 3⎠ , 1, ⎢⎢ ───── ⎥⎥⎟⎥\n",
       "⎢⎜      ⎢⎢x - 1⎥⎥⎟  ⎜               ⎢⎢2   2⎥⎥⎟  ⎜              ⎢⎢ x + 1 ⎥⎥⎟⎥\n",
       "⎢⎜      ⎢⎢     ⎥⎥⎟  ⎜               ⎢⎢     ⎥⎥⎟  ⎜              ⎢⎢       ⎥⎥⎟⎥\n",
       "⎢⎜      ⎢⎢  2  ⎥⎥⎟  ⎜               ⎢⎢x + 1⎥⎥⎟  ⎜              ⎢⎢  x   1⎥⎥⎟⎥\n",
       "⎢⎜      ⎢⎢─────⎥⎥⎟  ⎜               ⎢⎢─────⎥⎥⎟  ⎜              ⎢⎢- ─ + ─⎥⎥⎟⎥\n",
       "⎢⎜      ⎢⎢x + 1⎥⎥⎟  ⎜               ⎢⎢x - 1⎥⎥⎟  ⎜              ⎢⎢  2   2⎥⎥⎟⎥\n",
       "⎢⎜      ⎢⎢     ⎥⎥⎟  ⎜               ⎢⎢     ⎥⎥⎟  ⎜              ⎢⎢       ⎥⎥⎟⎥\n",
       "⎣⎝      ⎣⎣  1  ⎦⎦⎠  ⎝               ⎣⎣  1  ⎦⎦⎠  ⎝              ⎣⎣   1   ⎦⎦⎠⎦"
      ]
     },
     "execution_count": 154,
     "metadata": {},
     "output_type": "execute_result"
    }
   ],
   "source": [
    "for i in range(len(v)):\n",
    "    v[i][2][0]=simplify(v[i][2][0])\n",
    "v"
   ]
  },
  {
   "cell_type": "markdown",
   "metadata": {
    "deletable": true,
    "editable": true
   },
   "source": [
    "Проверим."
   ]
  },
  {
   "cell_type": "code",
   "execution_count": 155,
   "metadata": {
    "collapsed": false,
    "deletable": true,
    "editable": true
   },
   "outputs": [
    {
     "name": "stdout",
     "output_type": "stream",
     "text": [
      "⎡0⎤\n",
      "⎢ ⎥\n",
      "⎢0⎥\n",
      "⎢ ⎥\n",
      "⎣0⎦\n",
      "⎡0⎤\n",
      "⎢ ⎥\n",
      "⎢0⎥\n",
      "⎢ ⎥\n",
      "⎣0⎦\n",
      "⎡0⎤\n",
      "⎢ ⎥\n",
      "⎢0⎥\n",
      "⎢ ⎥\n",
      "⎣0⎦\n"
     ]
    }
   ],
   "source": [
    "for i in range(len(v)):\n",
    "    z=M*v[i][2][0]-v[i][0]*v[i][2][0]\n",
    "    pprint(simplify(z))"
   ]
  },
  {
   "cell_type": "markdown",
   "metadata": {
    "deletable": true,
    "editable": true
   },
   "source": [
    "### Жорданова нормальная форма"
   ]
  },
  {
   "cell_type": "code",
   "execution_count": 156,
   "metadata": {
    "collapsed": false,
    "deletable": true,
    "editable": true
   },
   "outputs": [
    {
     "data": {
      "image/png": "[encoded data removed]",
      "text/latex": [
       "$$\\left[\\begin{matrix}\\frac{13}{9} & - \\frac{2}{9} & \\frac{1}{3} & \\frac{4}{9} & \\frac{2}{3}\\\\- \\frac{2}{9} & \\frac{10}{9} & \\frac{2}{15} & - \\frac{2}{9} & - \\frac{11}{15}\\\\\\frac{1}{5} & - \\frac{2}{5} & \\frac{41}{25} & - \\frac{2}{5} & \\frac{12}{25}\\\\\\frac{4}{9} & - \\frac{2}{9} & \\frac{14}{15} & \\frac{13}{9} & - \\frac{2}{15}\\\\- \\frac{4}{15} & \\frac{8}{15} & \\frac{12}{25} & \\frac{8}{15} & \\frac{34}{25}\\end{matrix}\\right]$$"
      ],
      "text/plain": [
       "⎡13/9   -2/9  1/3   4/9    2/3 ⎤\n",
       "⎢                              ⎥\n",
       "⎢                         -11  ⎥\n",
       "⎢-2/9   10/9  2/15  -2/9  ──── ⎥\n",
       "⎢                          15  ⎥\n",
       "⎢                              ⎥\n",
       "⎢              41          12  ⎥\n",
       "⎢ 1/5   -2/5   ──   -2/5   ──  ⎥\n",
       "⎢              25          25  ⎥\n",
       "⎢                              ⎥\n",
       "⎢              14              ⎥\n",
       "⎢ 4/9   -2/9   ──   13/9  -2/15⎥\n",
       "⎢              15              ⎥\n",
       "⎢                              ⎥\n",
       "⎢              12          34  ⎥\n",
       "⎢-4/15  8/15   ──   8/15   ──  ⎥\n",
       "⎣              25          25  ⎦"
      ]
     },
     "execution_count": 156,
     "metadata": {},
     "output_type": "execute_result"
    }
   ],
   "source": [
    "M=Matrix([[Rational(13,9),-Rational(2,9),Rational(1,3),Rational(4,9),Rational(2,3)],\n",
    "          [-Rational(2,9),Rational(10,9),Rational(2,15),-Rational(2,9),-Rational(11,15)],\n",
    "          [Rational(1,5),-Rational(2,5),Rational(41,25),-Rational(2,5),Rational(12,25)],\n",
    "          [Rational(4,9),-Rational(2,9),Rational(14,15),Rational(13,9),-Rational(2,15)],\n",
    "          [-Rational(4,15),Rational(8,15),Rational(12,25),Rational(8,15),Rational(34,25)]])\n",
    "M"
   ]
  },
  {
   "cell_type": "markdown",
   "metadata": {
    "deletable": true,
    "editable": true
   },
   "source": [
    "Метод `M.jordan_form()` возвращает пару матриц, матрицу преобразования $P$ и собственно жорданову форму $J$: $M = P J P^{-1}$."
   ]
  },
  {
   "cell_type": "code",
   "execution_count": 157,
   "metadata": {
    "collapsed": false,
    "deletable": true,
    "editable": true
   },
   "outputs": [
    {
     "data": {
      "image/png": "[encoded data removed]",
      "text/latex": [
       "$$\\left[\\begin{matrix}1 & 0 & 0 & 0 & 0\\\\0 & 2 & 1 & 0 & 0\\\\0 & 0 & 2 & 0 & 0\\\\0 & 0 & 0 & 1 - i & 0\\\\0 & 0 & 0 & 0 & 1 + i\\end{matrix}\\right]$$"
      ],
      "text/plain": [
       "⎡1  0  0    0      0  ⎤\n",
       "⎢                     ⎥\n",
       "⎢0  2  1    0      0  ⎥\n",
       "⎢                     ⎥\n",
       "⎢0  0  2    0      0  ⎥\n",
       "⎢                     ⎥\n",
       "⎢0  0  0  1 - ⅈ    0  ⎥\n",
       "⎢                     ⎥\n",
       "⎣0  0  0    0    1 + ⅈ⎦"
      ]
     },
     "execution_count": 157,
     "metadata": {},
     "output_type": "execute_result"
    }
   ],
   "source": [
    "P,J=M.jordan_form()\n",
    "J"
   ]
  },
  {
   "cell_type": "code",
   "execution_count": 158,
   "metadata": {
    "collapsed": false,
    "deletable": true,
    "editable": true
   },
   "outputs": [
    {
     "data": {
      "image/png": "[encoded data removed]",
      "text/latex": [
       "$$\\left[\\begin{matrix}-2 & \\frac{10}{9} & 0 & \\frac{5 i}{12} & - \\frac{5 i}{12}\\\\-2 & - \\frac{5}{9} & 0 & - \\frac{5 i}{6} & \\frac{5 i}{6}\\\\0 & 0 & \\frac{4}{3} & - \\frac{3}{4} & - \\frac{3}{4}\\\\1 & \\frac{10}{9} & 0 & - \\frac{5 i}{6} & \\frac{5 i}{6}\\\\0 & 0 & 1 & 1 & 1\\end{matrix}\\right]$$"
      ],
      "text/plain": [
       "⎡                5⋅ⅈ   -5⋅ⅈ ⎤\n",
       "⎢-2  10/9   0    ───   ─────⎥\n",
       "⎢                 12     12 ⎥\n",
       "⎢                           ⎥\n",
       "⎢               -5⋅ⅈ    5⋅ⅈ ⎥\n",
       "⎢-2  -5/9   0   ─────   ─── ⎥\n",
       "⎢                 6      6  ⎥\n",
       "⎢                           ⎥\n",
       "⎢0    0    4/3  -3/4   -3/4 ⎥\n",
       "⎢                           ⎥\n",
       "⎢               -5⋅ⅈ    5⋅ⅈ ⎥\n",
       "⎢1   10/9   0   ─────   ─── ⎥\n",
       "⎢                 6      6  ⎥\n",
       "⎢                           ⎥\n",
       "⎣0    0     1     1      1  ⎦"
      ]
     },
     "execution_count": 158,
     "metadata": {},
     "output_type": "execute_result"
    }
   ],
   "source": [
    "P=simplify(P)\n",
    "P"
   ]
  },
  {
   "cell_type": "markdown",
   "metadata": {
    "deletable": true,
    "editable": true
   },
   "source": [
    "Проверим."
   ]
  },
  {
   "cell_type": "code",
   "execution_count": 159,
   "metadata": {
    "collapsed": false,
    "deletable": true,
    "editable": true
   },
   "outputs": [
    {
     "data": {
      "image/png": "[encoded data removed]",
      "text/latex": [
       "$$\\left[\\begin{matrix}0 & 0 & 0 & 0 & 0\\\\0 & 0 & 0 & 0 & 0\\\\0 & 0 & 0 & 0 & 0\\\\0 & 0 & 0 & 0 & 0\\\\0 & 0 & 0 & 0 & 0\\end{matrix}\\right]$$"
      ],
      "text/plain": [
       "⎡0  0  0  0  0⎤\n",
       "⎢             ⎥\n",
       "⎢0  0  0  0  0⎥\n",
       "⎢             ⎥\n",
       "⎢0  0  0  0  0⎥\n",
       "⎢             ⎥\n",
       "⎢0  0  0  0  0⎥\n",
       "⎢             ⎥\n",
       "⎣0  0  0  0  0⎦"
      ]
     },
     "execution_count": 159,
     "metadata": {},
     "output_type": "execute_result"
    }
   ],
   "source": [
    "Z=P*J*P**(-1)-M\n",
    "simplify(Z)"
   ]
  },
  {
   "cell_type": "markdown",
   "metadata": {
    "deletable": true,
    "editable": true
   },
   "source": [
    "## Графики\n",
    "\n",
    "`SymPy` использует `matplotlib`. Однако он распределяет точки по $x$ адаптивно, а не равномерно."
   ]
  },
  {
   "cell_type": "code",
   "execution_count": 160,
   "metadata": {
    "collapsed": true,
    "deletable": true,
    "editable": true
   },
   "outputs": [],
   "source": [
    "%matplotlib inline"
   ]
  },
  {
   "cell_type": "markdown",
   "metadata": {
    "deletable": true,
    "editable": true
   },
   "source": [
    "Одна функция."
   ]
  },
  {
   "cell_type": "code",
   "execution_count": 161,
   "metadata": {
    "collapsed": false,
    "deletable": true,
    "editable": true
   },
   "outputs": [
    {
     "data": {
      "image/png": "[encoded data removed]",
      "text/plain": [
       "<matplotlib.figure.Figure at 0x7fac5f8ff748>"
      ]
     },
     "metadata": {},
     "output_type": "display_data"
    },
    {
     "data": {
      "text/plain": [
       "<sympy.plotting.plot.Plot at 0x7fac5f8ff6d8>"
      ]
     },
     "execution_count": 161,
     "metadata": {},
     "output_type": "execute_result"
    }
   ],
   "source": [
    "plot(sin(x)/x,(x,-10,10))"
   ]
  },
  {
   "cell_type": "markdown",
   "metadata": {
    "deletable": true,
    "editable": true
   },
   "source": [
    "Несколько функций."
   ]
  },
  {
   "cell_type": "code",
   "execution_count": 162,
   "metadata": {
    "collapsed": false,
    "deletable": true,
    "editable": true
   },
   "outputs": [
    {
     "data": {
      "image/png": "[encoded data removed]",
      "text/plain": [
       "<matplotlib.figure.Figure at 0x7fac5f6610b8>"
      ]
     },
     "metadata": {},
     "output_type": "display_data"
    },
    {
     "data": {
      "text/plain": [
       "<sympy.plotting.plot.Plot at 0x7fac5f567390>"
      ]
     },
     "execution_count": 162,
     "metadata": {},
     "output_type": "execute_result"
    }
   ],
   "source": [
    "plot(x,x**2,x**3,(x,0,2))"
   ]
  },
  {
   "cell_type": "markdown",
   "metadata": {
    "deletable": true,
    "editable": true
   },
   "source": [
    "Другие функции надо импортировать из пакета `sympy.plotting`."
   ]
  },
  {
   "cell_type": "code",
   "execution_count": 163,
   "metadata": {
    "collapsed": true,
    "deletable": true,
    "editable": true
   },
   "outputs": [],
   "source": [
    "from sympy.plotting import (plot_parametric,plot_implicit,\n",
    "                            plot3d,plot3d_parametric_line,\n",
    "                            plot3d_parametric_surface)"
   ]
  },
  {
   "cell_type": "markdown",
   "metadata": {
    "deletable": true,
    "editable": true
   },
   "source": [
    "Параметрический график - фигура Лиссажу."
   ]
  },
  {
   "cell_type": "code",
   "execution_count": 164,
   "metadata": {
    "collapsed": false,
    "deletable": true,
    "editable": true
   },
   "outputs": [
    {
     "data": {
      "image/png": "[encoded data removed]",
      "text/plain": [
       "<matplotlib.figure.Figure at 0x7fac5f524c88>"
      ]
     },
     "metadata": {},
     "output_type": "display_data"
    },
    {
     "data": {
      "text/plain": [
       "<sympy.plotting.plot.Plot at 0x7fac5f514978>"
      ]
     },
     "execution_count": 164,
     "metadata": {},
     "output_type": "execute_result"
    }
   ],
   "source": [
    "t=Symbol('t')\n",
    "plot_parametric(sin(2*t),cos(3*t),(t,0,2*pi),\n",
    "                title='Lissajous',xlabel='x',ylabel='y')"
   ]
  },
  {
   "cell_type": "markdown",
   "metadata": {
    "deletable": true,
    "editable": true
   },
   "source": [
    "Неявный график - окружность."
   ]
  },
  {
   "cell_type": "code",
   "execution_count": 165,
   "metadata": {
    "collapsed": false,
    "deletable": true,
    "editable": true
   },
   "outputs": [
    {
     "data": {
      "image/png": "[encoded data removed]",
      "text/plain": [
       "<matplotlib.figure.Figure at 0x7fac5f537c88>"
      ]
     },
     "metadata": {},
     "output_type": "display_data"
    },
    {
     "data": {
      "text/plain": [
       "<sympy.plotting.plot.Plot at 0x7fac5f625940>"
      ]
     },
     "execution_count": 165,
     "metadata": {},
     "output_type": "execute_result"
    }
   ],
   "source": [
    "plot_implicit(x**2+y**2-1,(x,-1,1),(y,-1,1))"
   ]
  },
  {
   "cell_type": "markdown",
   "metadata": {
    "deletable": true,
    "editable": true
   },
   "source": [
    "Поверхность. Если она строится не `inline`, а в отдельном окне, то её можно вертеть мышкой."
   ]
  },
  {
   "cell_type": "code",
   "execution_count": 166,
   "metadata": {
    "collapsed": false,
    "deletable": true,
    "editable": true
   },
   "outputs": [
    {
     "data": {
      "image/png": "[encoded data removed]",
      "text/plain": [
       "<matplotlib.figure.Figure at 0x7fac5f50f470>"
      ]
     },
     "metadata": {},
     "output_type": "display_data"
    },
    {
     "data": {
      "text/plain": [
       "<sympy.plotting.plot.Plot at 0x7fac71242ac8>"
      ]
     },
     "execution_count": 166,
     "metadata": {},
     "output_type": "execute_result"
    }
   ],
   "source": [
    "plot3d(x*y,(x,-2,2),(y,-2,2))"
   ]
  },
  {
   "cell_type": "markdown",
   "metadata": {
    "deletable": true,
    "editable": true
   },
   "source": [
    "Несколько поверхностей."
   ]
  },
  {
   "cell_type": "code",
   "execution_count": 167,
   "metadata": {
    "collapsed": false,
    "deletable": true,
    "editable": true
   },
   "outputs": [
    {
     "data": {
      "image/png": "[encoded data removed]",
      "text/plain": [
       "<matplotlib.figure.Figure at 0x7fac5f17f320>"
      ]
     },
     "metadata": {},
     "output_type": "display_data"
    },
    {
     "data": {
      "text/plain": [
       "<sympy.plotting.plot.Plot at 0x7fac5f3ac9b0>"
      ]
     },
     "execution_count": 167,
     "metadata": {},
     "output_type": "execute_result"
    }
   ],
   "source": [
    "plot3d(x**2+y**2,x*y,(x,-2,2),(y,-2,2))"
   ]
  },
  {
   "cell_type": "markdown",
   "metadata": {
    "deletable": true,
    "editable": true
   },
   "source": [
    "Параметрическая пространственная линия - спираль."
   ]
  },
  {
   "cell_type": "code",
   "execution_count": 168,
   "metadata": {
    "collapsed": false,
    "deletable": true,
    "editable": true
   },
   "outputs": [
    {
     "data": {
      "image/png": "[encoded data removed]",
      "text/plain": [
       "<matplotlib.figure.Figure at 0x7fac5d25bef0>"
      ]
     },
     "metadata": {},
     "output_type": "display_data"
    },
    {
     "data": {
      "text/plain": [
       "<sympy.plotting.plot.Plot at 0x7fac5d25be10>"
      ]
     },
     "execution_count": 168,
     "metadata": {},
     "output_type": "execute_result"
    }
   ],
   "source": [
    "a=0.1\n",
    "plot3d_parametric_line(cos(t),sin(t),a*t,(t,0,4*pi))"
   ]
  },
  {
   "cell_type": "markdown",
   "metadata": {
    "deletable": true,
    "editable": true
   },
   "source": [
    "Параметрическая поверхность - тор."
   ]
  },
  {
   "cell_type": "code",
   "execution_count": 169,
   "metadata": {
    "collapsed": false,
    "deletable": true,
    "editable": true
   },
   "outputs": [
    {
     "data": {
      "image/png": "[encoded data removed]",
      "text/plain": [
       "<matplotlib.figure.Figure at 0x7fac5d151e80>"
      ]
     },
     "metadata": {},
     "output_type": "display_data"
    },
    {
     "data": {
      "text/plain": [
       "<sympy.plotting.plot.Plot at 0x7fac5d151f60>"
      ]
     },
     "execution_count": 169,
     "metadata": {},
     "output_type": "execute_result"
    }
   ],
   "source": [
    "u,v=symbols('u v')\n",
    "a=0.4\n",
    "plot3d_parametric_surface((1+a*cos(u))*cos(v),\n",
    "                          (1+a*cos(u))*sin(v),a*sin(u),\n",
    "                          (u,0,2*pi),(v,0,2*pi))"
   ]
  }
 ],
 "metadata": {
  "kernelspec": {
   "display_name": "Python 3",
   "language": "python",
   "name": "python3"
  },
  "language_info": {
   "codemirror_mode": {
    "name": "ipython",
    "version": 3
   },
   "file_extension": ".py",
   "mimetype": "text/x-python",
   "name": "python",
   "nbconvert_exporter": "python",
   "pygments_lexer": "ipython3",
   "version": "3.6.1"
  }
 },
 "nbformat": 4,
 "nbformat_minor": 0
}

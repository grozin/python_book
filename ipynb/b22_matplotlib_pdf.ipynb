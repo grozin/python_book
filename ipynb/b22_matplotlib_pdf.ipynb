{
 "cells": [
  {
   "cell_type": "code",
   "execution_count": 1,
   "metadata": {
    "collapsed": true,
    "deletable": true,
    "editable": true
   },
   "outputs": [],
   "source": [
    "from matplotlib import use\n",
    "use('pdf')\n",
    "from matplotlib.pyplot import (axes,axis,title,legend,figure,\n",
    "                               xlabel,ylabel,xticks,yticks,\n",
    "                               xscale,yscale,text,grid,\n",
    "                               plot,scatter,errorbar,hist,polar,\n",
    "                               contour,contourf,colorbar,clabel,\n",
    "                               imshow,savefig,clf)\n",
    "from mpl_toolkits.mplot3d import Axes3D\n",
    "from numpy import (linspace,logspace,zeros,ones,outer,meshgrid,\n",
    "                   pi,sin,cos,sqrt,exp)\n",
    "from numpy.random import normal"
   ]
  },
  {
   "cell_type": "code",
   "execution_count": 2,
   "metadata": {
    "collapsed": false,
    "deletable": true,
    "editable": true
   },
   "outputs": [],
   "source": [
    "plot([0,1,0.5])\n",
    "savefig('b22_matplotlib_01.pdf')\n",
    "clf()"
   ]
  },
  {
   "cell_type": "code",
   "execution_count": 3,
   "metadata": {
    "collapsed": false,
    "deletable": true,
    "editable": true
   },
   "outputs": [],
   "source": [
    "plot([0,0.25,1],[0,1,0.5])\n",
    "savefig('b22_matplotlib_02.pdf')\n",
    "clf()"
   ]
  },
  {
   "cell_type": "code",
   "execution_count": 4,
   "metadata": {
    "collapsed": false,
    "deletable": true,
    "editable": true
   },
   "outputs": [],
   "source": [
    "scatter([0,0.25,1],[0,1,0.5])\n",
    "savefig('b22_matplotlib_03.pdf')\n",
    "clf()"
   ]
  },
  {
   "cell_type": "code",
   "execution_count": 5,
   "metadata": {
    "collapsed": false,
    "deletable": true,
    "editable": true
   },
   "outputs": [],
   "source": [
    "plot([0,0.25,1,0],[0,1,0.5,0])\n",
    "savefig('b22_matplotlib_04.pdf')\n",
    "clf()"
   ]
  },
  {
   "cell_type": "code",
   "execution_count": 6,
   "metadata": {
    "collapsed": false,
    "deletable": true,
    "editable": true
   },
   "outputs": [],
   "source": [
    "x=linspace(0,4*pi,100)\n",
    "plot(x,sin(x))\n",
    "savefig('b22_matplotlib_05.pdf')\n",
    "clf()"
   ]
  },
  {
   "cell_type": "code",
   "execution_count": 7,
   "metadata": {
    "collapsed": false,
    "deletable": true,
    "editable": true
   },
   "outputs": [],
   "source": [
    "t=linspace(0,2*pi,100)\n",
    "plot(cos(t),sin(t))\n",
    "axes().set_aspect(1)\n",
    "savefig('b22_matplotlib_06.pdf')\n",
    "clf()"
   ]
  },
  {
   "cell_type": "code",
   "execution_count": 8,
   "metadata": {
    "collapsed": false,
    "deletable": true,
    "editable": true
   },
   "outputs": [],
   "source": [
    "plot(sin(2*t),cos(3*t))\n",
    "axes().set_aspect(1)\n",
    "savefig('b22_matplotlib_07.pdf')\n",
    "clf()"
   ]
  },
  {
   "cell_type": "code",
   "execution_count": 9,
   "metadata": {
    "collapsed": false,
    "deletable": true,
    "editable": true
   },
   "outputs": [],
   "source": [
    "x=linspace(0,2,100)\n",
    "plot(x,x,x,x**2,x,x**3)\n",
    "savefig('b22_matplotlib_08.pdf')\n",
    "clf()"
   ]
  },
  {
   "cell_type": "code",
   "execution_count": 10,
   "metadata": {
    "collapsed": false,
    "deletable": true,
    "editable": true
   },
   "outputs": [],
   "source": [
    "x=linspace(0,4*pi,100)\n",
    "plot(x,sin(x),'r-',x,cos(x),'b--')\n",
    "savefig('b22_matplotlib_09.pdf')\n",
    "clf()"
   ]
  },
  {
   "cell_type": "code",
   "execution_count": 11,
   "metadata": {
    "collapsed": false,
    "deletable": true,
    "editable": true
   },
   "outputs": [],
   "source": [
    "x=linspace(0,1,11)\n",
    "plot(x,x**2,'ro',x,1-x,'gs')\n",
    "savefig('b22_matplotlib_10.pdf')\n",
    "clf()"
   ]
  },
  {
   "cell_type": "code",
   "execution_count": 12,
   "metadata": {
    "collapsed": false,
    "deletable": true,
    "editable": true
   },
   "outputs": [],
   "source": [
    "axis([0,2*pi,-1,1])\n",
    "xticks(linspace(0,2*pi,9),\n",
    "       ('0',r'$\\frac{1}{4}\\pi$',r'$\\frac{1}{2}\\pi$',\n",
    "        r'$\\frac{3}{4}\\pi$',r'$\\pi$',r'$\\frac{5}{4}\\pi$',\n",
    "        r'$\\frac{3}{2}\\pi$',r'$\\frac{7}{4}\\pi$',r'$2\\pi$'),\n",
    "      fontsize=20)\n",
    "xlabel(r'$x$')\n",
    "ylabel(r'$y$')\n",
    "title(r'$\\sin x$, $\\cos x$',fontsize=20)\n",
    "x=linspace(0,2*pi,100)\n",
    "plot(x,sin(x),linewidth=2,color='b',dashes=[8,4],\n",
    "     label=r'$\\sin x$')\n",
    "plot(x,cos(x),linewidth=2,color='r',dashes=[8,4,2,4],\n",
    "     label=r'$\\cos x$')\n",
    "legend(fontsize=20)\n",
    "savefig('b22_matplotlib_11.pdf')\n",
    "clf()"
   ]
  },
  {
   "cell_type": "code",
   "execution_count": 13,
   "metadata": {
    "collapsed": false,
    "deletable": true,
    "editable": true
   },
   "outputs": [],
   "source": [
    "x=linspace(0,1,11)\n",
    "axis([-0.05,1.05,-0.05,1.05])\n",
    "axes().set_aspect(1)\n",
    "plot(x,x,linestyle='',marker='<',markersize=10,\n",
    "     markerfacecolor='#FF0000')\n",
    "plot(x,x**2,linestyle='',marker='^',markersize=10,\n",
    "     markerfacecolor='#00FF00')\n",
    "plot(x,x**(1/2),linestyle='',marker='v',markersize=10,\n",
    "     markerfacecolor='#0000FF')\n",
    "plot(x,1-x,linestyle='',marker='+',markersize=10,\n",
    "     markerfacecolor='#0F0F00')\n",
    "plot(x,1-x**2,linestyle='',marker='x',markersize=10,\n",
    "     markerfacecolor='#0F000F')\n",
    "savefig('b22_matplotlib_12.pdf')\n",
    "clf()"
   ]
  },
  {
   "cell_type": "code",
   "execution_count": 14,
   "metadata": {
    "collapsed": false,
    "deletable": true,
    "editable": true
   },
   "outputs": [],
   "source": [
    "x=linspace(-5,5,100)\n",
    "yscale('log')\n",
    "plot(x,exp(x)+exp(-x))\n",
    "savefig('b22_matplotlib_13.pdf')\n",
    "clf()"
   ]
  },
  {
   "cell_type": "code",
   "execution_count": 16,
   "metadata": {
    "collapsed": false,
    "deletable": true,
    "editable": true
   },
   "outputs": [],
   "source": [
    "x=logspace(-2,2,100)\n",
    "xscale('log')\n",
    "yscale('log')\n",
    "plot(x,x+x**3)\n",
    "savefig('b22_matplotlib_14.pdf')\n",
    "clf()"
   ]
  },
  {
   "cell_type": "code",
   "execution_count": 17,
   "metadata": {
    "collapsed": false,
    "deletable": true,
    "editable": true
   },
   "outputs": [],
   "source": [
    "t=linspace(0,4*pi,100)\n",
    "polar(t,t)\n",
    "savefig('b22_matplotlib_15.pdf')\n",
    "clf()"
   ]
  },
  {
   "cell_type": "code",
   "execution_count": 18,
   "metadata": {
    "collapsed": false,
    "deletable": true,
    "editable": true
   },
   "outputs": [],
   "source": [
    "phi=linspace(0,2*pi,100)\n",
    "polar(phi,sin(phi)**2)\n",
    "savefig('b22_matplotlib_16.pdf')\n",
    "clf()"
   ]
  },
  {
   "cell_type": "code",
   "execution_count": 19,
   "metadata": {
    "collapsed": true,
    "deletable": true,
    "editable": true
   },
   "outputs": [],
   "source": [
    "xt=linspace(-4,4,101)\n",
    "yt=1/(xt**2+1)"
   ]
  },
  {
   "cell_type": "code",
   "execution_count": 20,
   "metadata": {
    "collapsed": false,
    "deletable": true,
    "editable": true
   },
   "outputs": [],
   "source": [
    "xe=linspace(-3,3,21)\n",
    "yerr=0.1*ones(21)\n",
    "ye=1/(xe**2+1)+yerr*normal(size=21)"
   ]
  },
  {
   "cell_type": "code",
   "execution_count": 21,
   "metadata": {
    "collapsed": false,
    "deletable": true,
    "editable": true
   },
   "outputs": [],
   "source": [
    "plot(xt,yt)\n",
    "errorbar(xe,ye,fmt='ro',yerr=yerr)\n",
    "savefig('b22_matplotlib_17.pdf')\n",
    "clf()"
   ]
  },
  {
   "cell_type": "code",
   "execution_count": 22,
   "metadata": {
    "collapsed": false,
    "deletable": true,
    "editable": true
   },
   "outputs": [],
   "source": [
    "N=10000\n",
    "r=normal(size=N)\n",
    "n,bins,patches=hist(r,range=(-3,3),bins=20)\n",
    "x=linspace(-3,3,100)\n",
    "plot(x,N/sqrt(2*pi)*0.3*exp(-0.5*x**2),'r')\n",
    "text(-2,1000,r'$\\frac{1}{\\sqrt{2\\pi}}\\,e^{-x^2/2}$',\n",
    "     fontsize=20,horizontalalignment='center',\n",
    "     verticalalignment='center')\n",
    "savefig('b22_matplotlib_18.pdf')\n",
    "clf()"
   ]
  },
  {
   "cell_type": "code",
   "execution_count": 23,
   "metadata": {
    "collapsed": false,
    "deletable": true,
    "editable": true
   },
   "outputs": [],
   "source": [
    "x=linspace(-1,1,50)\n",
    "y=x\n",
    "z=outer(x,y)\n",
    "contour(x,y,z)\n",
    "axes().set_aspect(1)\n",
    "savefig('b22_matplotlib_19.pdf')\n",
    "clf()"
   ]
  },
  {
   "cell_type": "code",
   "execution_count": 24,
   "metadata": {
    "collapsed": false,
    "deletable": true,
    "editable": true
   },
   "outputs": [],
   "source": [
    "title(r'$z=xy$',fontsize=20)\n",
    "curves=contour(x,y,z,linspace(-1,1,11))\n",
    "clabel(curves)\n",
    "axes().set_aspect(1)\n",
    "savefig('b22_matplotlib_20.pdf')\n",
    "clf()"
   ]
  },
  {
   "cell_type": "code",
   "execution_count": 25,
   "metadata": {
    "collapsed": false,
    "deletable": true,
    "editable": true
   },
   "outputs": [],
   "source": [
    "contourf(x,y,z,linspace(-1,1,11))\n",
    "colorbar()\n",
    "axes().set_aspect(1)\n",
    "savefig('b22_matplotlib_21.pdf')\n",
    "clf()"
   ]
  },
  {
   "cell_type": "code",
   "execution_count": 26,
   "metadata": {
    "collapsed": false,
    "deletable": true,
    "editable": true
   },
   "outputs": [],
   "source": [
    "n=256\n",
    "u=linspace(0,1,n)\n",
    "x,y=meshgrid(u,u)\n",
    "z=zeros((n,n,3))\n",
    "z[:,:,0]=x\n",
    "z[:,:,2]=y\n",
    "imshow(z)\n",
    "savefig('b22_matplotlib_22.pdf')\n",
    "clf()"
   ]
  },
  {
   "cell_type": "code",
   "execution_count": 27,
   "metadata": {
    "collapsed": false,
    "deletable": true,
    "editable": true
   },
   "outputs": [],
   "source": [
    "t=linspace(0,4*pi,100)\n",
    "x=cos(t)\n",
    "y=sin(t)\n",
    "z=t/(4*pi)"
   ]
  },
  {
   "cell_type": "code",
   "execution_count": 28,
   "metadata": {
    "collapsed": false,
    "deletable": true,
    "editable": true
   },
   "outputs": [],
   "source": [
    "fig=figure()\n",
    "ax=Axes3D(fig)\n",
    "ax.plot(x,y,z)\n",
    "savefig('b22_matplotlib_23.pdf')\n",
    "clf()"
   ]
  },
  {
   "cell_type": "code",
   "execution_count": 29,
   "metadata": {
    "collapsed": false,
    "deletable": true,
    "editable": true
   },
   "outputs": [],
   "source": [
    "fig=figure()\n",
    "ax=Axes3D(fig)\n",
    "ax.elev,ax.azim=30,30\n",
    "ax.plot(x,y,z)\n",
    "savefig('b22_matplotlib_24.pdf')\n",
    "clf()"
   ]
  },
  {
   "cell_type": "code",
   "execution_count": 30,
   "metadata": {
    "collapsed": false,
    "deletable": true,
    "editable": true
   },
   "outputs": [],
   "source": [
    "X=10\n",
    "N=50\n",
    "u=linspace(-X,X,N)\n",
    "x,y=meshgrid(u,u)\n",
    "r=sqrt(x**2+y**2)\n",
    "z=sin(r)/r\n",
    "fig=figure()\n",
    "ax=Axes3D(fig)\n",
    "ax.plot_surface(x,y,z,rstride=1,cstride=1)\n",
    "savefig('b22_matplotlib_25.pdf')\n",
    "clf()"
   ]
  },
  {
   "cell_type": "code",
   "execution_count": 31,
   "metadata": {
    "collapsed": false,
    "deletable": true,
    "editable": true
   },
   "outputs": [],
   "source": [
    "fig=figure()\n",
    "ax=Axes3D(fig)\n",
    "ax.plot_surface(x,y,z,rstride=1,cstride=1,cmap='gnuplot')\n",
    "savefig('b22_matplotlib_26.pdf')\n",
    "clf()"
   ]
  },
  {
   "cell_type": "code",
   "execution_count": 32,
   "metadata": {
    "collapsed": false,
    "deletable": true,
    "editable": true
   },
   "outputs": [],
   "source": [
    "t=linspace(0,2*pi,50)\n",
    "th,ph=meshgrid(t,t)\n",
    "r=0.4\n",
    "x,y,z=(1+r*cos(ph))*cos(th),(1+r*cos(ph))*sin(th),r*sin(ph)\n",
    "fig=figure()\n",
    "ax=Axes3D(fig)\n",
    "ax.elev=60\n",
    "ax.set_aspect(r/(1+r))\n",
    "ax.plot_surface(x,y,z,rstride=2,cstride=1)\n",
    "savefig('b22_matplotlib_27.pdf')\n",
    "clf()"
   ]
  }
 ],
 "metadata": {
  "kernelspec": {
   "display_name": "Python 3",
   "language": "python",
   "name": "python3"
  },
  "language_info": {
   "codemirror_mode": {
    "name": "ipython",
    "version": 3
   },
   "file_extension": ".py",
   "mimetype": "text/x-python",
   "name": "python",
   "nbconvert_exporter": "python",
   "pygments_lexer": "ipython3",
   "version": "3.6.1"
  }
 },
 "nbformat": 4,
 "nbformat_minor": 0
}

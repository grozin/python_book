{
 "cells": [
  {
   "cell_type": "markdown",
   "metadata": {},
   "source": [
    "# plumbum\n",
    "или как писать shell-скрипты на питоне\n",
    "\n",
    "## Работа на локальной машине"
   ]
  },
  {
   "cell_type": "code",
   "execution_count": 1,
   "metadata": {
    "collapsed": true
   },
   "outputs": [],
   "source": [
    "from plumbum import local"
   ]
  },
  {
   "cell_type": "markdown",
   "metadata": {},
   "source": [
    "Из объекта `local` можно получать питонские объекты, представляющие внешние программы."
   ]
  },
  {
   "cell_type": "code",
   "execution_count": 2,
   "metadata": {
    "collapsed": false
   },
   "outputs": [
    {
     "name": "stdout",
     "output_type": "stream",
     "text": [
      "/bin/ls\n"
     ]
    }
   ],
   "source": [
    "ls=local[\"ls\"]\n",
    "print(ls)"
   ]
  },
  {
   "cell_type": "markdown",
   "metadata": {},
   "source": [
    "Их можно вызывать."
   ]
  },
  {
   "cell_type": "code",
   "execution_count": 3,
   "metadata": {
    "collapsed": false
   },
   "outputs": [
    {
     "name": "stdout",
     "output_type": "stream",
     "text": [
      "C1.pyx\n",
      "C2.pyx\n",
      "C3.pyx\n",
      "Untitled.ipynb\n",
      "Untitled1.ipynb\n",
      "Untitled2.ipynb\n",
      "Untitled3.ipynb\n",
      "Zskim.root\n",
      "__pycache__\n",
      "cfib.c\n",
      "cfib.h\n",
      "cfib.o\n",
      "cfoo.c\n",
      "cfoo.h\n",
      "cfoo.o\n",
      "d1\n",
      "du\n",
      "fac.py\n",
      "foo.c\n",
      "foo.o\n",
      "foo.pxd\n",
      "foo.pyx\n",
      "foo.so\n",
      "google-python-exercises\n",
      "ind.gle\n",
      "ind.png\n",
      "iterators_generators.ipynb\n",
      "minuit.html\n",
      "minuit.ipynb\n",
      "mpmath.html\n",
      "mpmath.ipynb\n",
      "newtext.txt\n",
      "osc.ipynb\n",
      "p1\n",
      "pandas.html\n",
      "pandas.ipynb\n",
      "poster\n",
      "python.png\n",
      "python0.png\n",
      "python1.html\n",
      "python1.ipynb\n",
      "python2.html\n",
      "python2.ipynb\n",
      "python3.html\n",
      "python3.ipynb\n",
      "python4.html\n",
      "python4.ipynb\n",
      "python5.html\n",
      "python5.ipynb\n",
      "python6.html\n",
      "python6.ipynb\n",
      "python7.html\n",
      "python7.ipynb\n",
      "python8.html\n",
      "python8.ipynb\n",
      "root.ipynb\n",
      "rpyc.html\n",
      "rpyc.ipynb\n",
      "rpyc_old.ipynb\n",
      "sh.ipynb\n",
      "sympy.html\n",
      "sympy.ipynb\n",
      "tasks\n",
      "text.txt\n",
      "text2.txt\n",
      "wrap.c\n",
      "wrap.o\n",
      "wrap.pyx\n",
      "wrap.so\n",
      "\n"
     ]
    }
   ],
   "source": [
    "print(ls())"
   ]
  },
  {
   "cell_type": "markdown",
   "metadata": {},
   "source": [
    "Они возвращают строки, которые можна присваивать переменным или ещё как-то использовать."
   ]
  },
  {
   "cell_type": "code",
   "execution_count": 4,
   "metadata": {
    "collapsed": false
   },
   "outputs": [
    {
     "data": {
      "text/plain": [
       "['C1.pyx',\n",
       " 'C2.pyx',\n",
       " 'C3.pyx',\n",
       " 'Untitled.ipynb',\n",
       " 'Untitled1.ipynb',\n",
       " 'Untitled2.ipynb',\n",
       " 'Untitled3.ipynb',\n",
       " 'Zskim.root',\n",
       " '__pycache__',\n",
       " 'cfib.c',\n",
       " 'cfib.h',\n",
       " 'cfib.o',\n",
       " 'cfoo.c',\n",
       " 'cfoo.h',\n",
       " 'cfoo.o',\n",
       " 'd1',\n",
       " 'du',\n",
       " 'fac.py',\n",
       " 'foo.c',\n",
       " 'foo.o',\n",
       " 'foo.pxd',\n",
       " 'foo.pyx',\n",
       " 'foo.so',\n",
       " 'google-python-exercises',\n",
       " 'ind.gle',\n",
       " 'ind.png',\n",
       " 'iterators_generators.ipynb',\n",
       " 'minuit.html',\n",
       " 'minuit.ipynb',\n",
       " 'mpmath.html',\n",
       " 'mpmath.ipynb',\n",
       " 'newtext.txt',\n",
       " 'osc.ipynb',\n",
       " 'p1',\n",
       " 'pandas.html',\n",
       " 'pandas.ipynb',\n",
       " 'poster',\n",
       " 'python.png',\n",
       " 'python0.png',\n",
       " 'python1.html',\n",
       " 'python1.ipynb',\n",
       " 'python2.html',\n",
       " 'python2.ipynb',\n",
       " 'python3.html',\n",
       " 'python3.ipynb',\n",
       " 'python4.html',\n",
       " 'python4.ipynb',\n",
       " 'python5.html',\n",
       " 'python5.ipynb',\n",
       " 'python6.html',\n",
       " 'python6.ipynb',\n",
       " 'python7.html',\n",
       " 'python7.ipynb',\n",
       " 'python8.html',\n",
       " 'python8.ipynb',\n",
       " 'root.ipynb',\n",
       " 'rpyc.html',\n",
       " 'rpyc.ipynb',\n",
       " 'rpyc_old.ipynb',\n",
       " 'sh.ipynb',\n",
       " 'sympy.html',\n",
       " 'sympy.ipynb',\n",
       " 'tasks',\n",
       " 'text.txt',\n",
       " 'text2.txt',\n",
       " 'wrap.c',\n",
       " 'wrap.o',\n",
       " 'wrap.pyx',\n",
       " 'wrap.so']"
      ]
     },
     "execution_count": 4,
     "metadata": {},
     "output_type": "execute_result"
    }
   ],
   "source": [
    "s=ls()\n",
    "s.split()"
   ]
  },
  {
   "cell_type": "markdown",
   "metadata": {},
   "source": [
    "Можно вызывать их с аргументами."
   ]
  },
  {
   "cell_type": "code",
   "execution_count": 5,
   "metadata": {
    "collapsed": false
   },
   "outputs": [
    {
     "name": "stdout",
     "output_type": "stream",
     "text": [
      "итого 12\n",
      "drwxr-xr-x 2 grozin grozin 4096 ноя  4  2015 __pycache__\n",
      "drwxr-xr-x 3 grozin grozin 4096 ноя  4  2015 d2\n",
      "-rw-r--r-- 1 grozin grozin   23 ноя  4  2015 m1.py\n",
      "\n"
     ]
    }
   ],
   "source": [
    "print(ls('-l','d1'))"
   ]
  },
  {
   "cell_type": "markdown",
   "metadata": {},
   "source": [
    "Следующая строчка означает в точности то же самое, что\n",
    "```\n",
    "cat=local['cat']\n",
    "grep=local['grep']\n",
    "```\n",
    "(модуль `plumbum.cmd` использует чёрную магию для переопределения импорта из него)."
   ]
  },
  {
   "cell_type": "code",
   "execution_count": 6,
   "metadata": {
    "collapsed": true
   },
   "outputs": [],
   "source": [
    "from plumbum.cmd import cat,grep"
   ]
  },
  {
   "cell_type": "markdown",
   "metadata": {},
   "source": [
    "Это объект, представляющий внешнюю программу с привязанными аргументами."
   ]
  },
  {
   "cell_type": "code",
   "execution_count": 7,
   "metadata": {
    "collapsed": false
   },
   "outputs": [
    {
     "name": "stdout",
     "output_type": "stream",
     "text": [
      "/bin/ls -l\n"
     ]
    }
   ],
   "source": [
    "ll=ls['-l']\n",
    "print(ll)"
   ]
  },
  {
   "cell_type": "code",
   "execution_count": 9,
   "metadata": {
    "collapsed": false
   },
   "outputs": [
    {
     "name": "stdout",
     "output_type": "stream",
     "text": [
      "итого 17856\n",
      "-rw-r--r-- 1 grozin grozin     290 дек 10  2015 C1.pyx\n",
      "-rw-r--r-- 1 grozin grozin     208 дек 10  2015 C2.pyx\n",
      "-rw-r--r-- 1 grozin grozin     310 дек 10  2015 C3.pyx\n",
      "-rw-r--r-- 1 grozin grozin   18997 ноя 12  2015 Untitled.ipynb\n",
      "-rw-r--r-- 1 grozin grozin    1588 ноя 29  2015 Untitled1.ipynb\n",
      "-rw-r--r-- 1 grozin grozin     841 дек 13  2015 Untitled2.ipynb\n",
      "-rw-r--r-- 1 grozin grozin   16752 дек 28  2015 Untitled3.ipynb\n",
      "-rw-r--r-- 1 grozin grozin 9231391 дек 13  2015 Zskim.root\n",
      "drwxr-xr-x 2 grozin grozin    4096 ноя  4  2015 __pycache__\n",
      "-rw-r--r-- 1 grozin grozin     157 дек  6  2015 cfib.c\n",
      "-rw-r--r-- 1 grozin grozin      19 дек  6  2015 cfib.h\n",
      "-rw-r--r-- 1 grozin grozin    1312 ноя 16 19:08 cfib.o\n",
      "-rw-r--r-- 1 grozin grozin     243 дек 10  2015 cfoo.c\n",
      "-rw-r--r-- 1 grozin grozin     130 дек 10  2015 cfoo.h\n",
      "-rw-r--r-- 1 grozin grozin    1752 ноя 16 19:45 cfoo.o\n",
      "drwxr-xr-x 4 grozin grozin    4096 ноя  4  2015 d1\n",
      "drwxr-xr-x 3 grozin grozin    4096 окт  9 21:13 du\n",
      "-rwxr-xr-x 1 grozin grozin     401 ноя  4  2015 fac.py\n",
      "-rw-r--r-- 1 grozin grozin   85006 ноя 16 19:45 foo.c\n",
      "-rw-r--r-- 1 grozin grozin   21512 ноя 16 19:45 foo.o\n",
      "-rw-r--r-- 1 grozin grozin     164 дек 10  2015 foo.pxd\n",
      "-rw-r--r-- 1 grozin grozin     282 дек 10  2015 foo.pyx\n",
      "-rwxr-xr-x 1 grozin grozin   24200 ноя 16 19:45 foo.so\n",
      "drwxr-xr-x 6 grozin grozin    4096 сен 28 16:50 google-python-exercises\n",
      "-rw-r--r-- 1 grozin grozin     630 окт 11  2015 ind.gle\n",
      "-rw-r--r-- 1 grozin grozin    3945 окт 12  2015 ind.png\n",
      "-rw-r--r-- 1 grozin grozin   11154 ноя  2 16:25 iterators_generators.ipynb\n",
      "-rw-r--r-- 1 grozin grozin  421451 дек 25  2015 minuit.html\n",
      "-rw-r--r-- 1 grozin grozin  294985 ноя  9 17:37 minuit.ipynb\n",
      "-rw-r--r-- 1 grozin grozin  543403 ноя  2 20:51 mpmath.html\n",
      "-rw-r--r-- 1 grozin grozin  266855 ноя  2 19:39 mpmath.ipynb\n",
      "-rw-r--r-- 1 grozin grozin      15 ноя  8  2015 newtext.txt\n",
      "-rw-r--r-- 1 grozin grozin   10665 дек  3  2015 osc.ipynb\n",
      "drwxr-xr-x 4 grozin grozin    4096 ноя  8  2015 p1\n",
      "-rw-r--r-- 1 grozin grozin  299444 дек 25  2015 pandas.html\n",
      "-rw-r--r-- 1 grozin grozin  130941 ноя  2 18:51 pandas.ipynb\n",
      "drwxr-xr-x 2 grozin grozin    4096 авг 29 15:48 poster\n",
      "-rw-r--r-- 1 grozin grozin   67230 окт 11  2015 python.png\n",
      "-rw-r--r-- 1 grozin grozin  146956 окт 10  2015 python0.png\n",
      "-rw-r--r-- 1 grozin grozin  371477 сен 17 23:16 python1.html\n",
      "-rw-r--r-- 1 grozin grozin   81013 сен 21 19:23 python1.ipynb\n",
      "-rw-r--r-- 1 grozin grozin  373780 сен 28 16:20 python2.html\n",
      "-rw-r--r-- 1 grozin grozin   68480 сен 28 22:18 python2.ipynb\n",
      "-rw-r--r-- 1 grozin grozin  295939 ноя  5  2015 python3.html\n",
      "-rw-r--r-- 1 grozin grozin   47236 окт 22 10:51 python3.ipynb\n",
      "-rw-r--r-- 1 grozin grozin  291364 ноя  5  2015 python4.html\n",
      "-rw-r--r-- 1 grozin grozin   58657 окт 12 19:46 python4.ipynb\n",
      "-rw-r--r-- 1 grozin grozin  349899 дек  5  2015 python5.html\n",
      "-rw-r--r-- 1 grozin grozin  101188 окт 19 19:47 python5.ipynb\n",
      "-rw-r--r-- 1 grozin grozin  919499 дек  5  2015 python6.html\n",
      "-rw-r--r-- 1 grozin grozin 1018131 окт 26 19:37 python6.ipynb\n",
      "-rw-r--r-- 1 grozin grozin  390422 дек 19  2015 python7.html\n",
      "-rw-r--r-- 1 grozin grozin  730517 ноя 16 18:48 python7.ipynb\n",
      "-rw-r--r-- 1 grozin grozin  240728 дек 24  2015 python8.html\n",
      "-rw-r--r-- 1 grozin grozin   30472 ноя 16 19:49 python8.ipynb\n",
      "-rw-r--r-- 1 grozin grozin   16206 дек 14  2015 root.ipynb\n",
      "-rw-r--r-- 1 grozin grozin  243066 дек 28  2015 rpyc.html\n",
      "-rw-r--r-- 1 grozin grozin   26991 ноя 23 18:36 rpyc.ipynb\n",
      "-rw-r--r-- 1 grozin grozin   23252 дек 28  2015 rpyc_old.ipynb\n",
      "-rw-r--r-- 1 grozin grozin    7492 ноя 23 18:31 sh.ipynb\n",
      "-rw-r--r-- 1 grozin grozin  378705 дек 25  2015 sympy.html\n",
      "-rw-r--r-- 1 grozin grozin  332000 дек 25  2015 sympy.ipynb\n",
      "drwxr-xr-x 3 grozin grozin    4096 дек  3  2015 tasks\n",
      "-rw-r--r-- 1 grozin grozin      15 окт 11  2015 text.txt\n",
      "-rw-r--r-- 1 grozin grozin       5 ноя 23 15:09 text2.txt\n",
      "-rw-r--r-- 1 grozin grozin   73021 ноя 16 19:11 wrap.c\n",
      "-rw-r--r-- 1 grozin grozin   16216 ноя 16 19:11 wrap.o\n",
      "-rw-r--r-- 1 grozin grozin      86 дек  6  2015 wrap.pyx\n",
      "-rwxr-xr-x 1 grozin grozin   19048 ноя 16 19:11 wrap.so\n",
      "\n"
     ]
    }
   ],
   "source": [
    "print(ll())"
   ]
  },
  {
   "cell_type": "markdown",
   "metadata": {},
   "source": [
    "Из таких объектов можно строить цепочки."
   ]
  },
  {
   "cell_type": "code",
   "execution_count": 10,
   "metadata": {
    "collapsed": false
   },
   "outputs": [
    {
     "name": "stdout",
     "output_type": "stream",
     "text": [
      "/bin/ls -l | /bin/grep ipynb\n"
     ]
    }
   ],
   "source": [
    "chain=ll | grep['ipynb']\n",
    "print(chain)"
   ]
  },
  {
   "cell_type": "markdown",
   "metadata": {},
   "source": [
    "Цепочки можно вызывать."
   ]
  },
  {
   "cell_type": "code",
   "execution_count": 11,
   "metadata": {
    "collapsed": false
   },
   "outputs": [
    {
     "name": "stdout",
     "output_type": "stream",
     "text": [
      "-rw-r--r-- 1 grozin grozin   18997 ноя 12  2015 Untitled.ipynb\n",
      "-rw-r--r-- 1 grozin grozin    1588 ноя 29  2015 Untitled1.ipynb\n",
      "-rw-r--r-- 1 grozin grozin     841 дек 13  2015 Untitled2.ipynb\n",
      "-rw-r--r-- 1 grozin grozin   16752 дек 28  2015 Untitled3.ipynb\n",
      "-rw-r--r-- 1 grozin grozin   11154 ноя  2 16:25 iterators_generators.ipynb\n",
      "-rw-r--r-- 1 grozin grozin  294985 ноя  9 17:37 minuit.ipynb\n",
      "-rw-r--r-- 1 grozin grozin  266855 ноя  2 19:39 mpmath.ipynb\n",
      "-rw-r--r-- 1 grozin grozin   10665 дек  3  2015 osc.ipynb\n",
      "-rw-r--r-- 1 grozin grozin  130941 ноя  2 18:51 pandas.ipynb\n",
      "-rw-r--r-- 1 grozin grozin   81013 сен 21 19:23 python1.ipynb\n",
      "-rw-r--r-- 1 grozin grozin   68480 сен 28 22:18 python2.ipynb\n",
      "-rw-r--r-- 1 grozin grozin   47236 окт 22 10:51 python3.ipynb\n",
      "-rw-r--r-- 1 grozin grozin   58657 окт 12 19:46 python4.ipynb\n",
      "-rw-r--r-- 1 grozin grozin  101188 окт 19 19:47 python5.ipynb\n",
      "-rw-r--r-- 1 grozin grozin 1018131 окт 26 19:37 python6.ipynb\n",
      "-rw-r--r-- 1 grozin grozin  730517 ноя 16 18:48 python7.ipynb\n",
      "-rw-r--r-- 1 grozin grozin   30472 ноя 16 19:49 python8.ipynb\n",
      "-rw-r--r-- 1 grozin grozin   16206 дек 14  2015 root.ipynb\n",
      "-rw-r--r-- 1 grozin grozin   32413 ноя 23 18:38 rpyc.ipynb\n",
      "-rw-r--r-- 1 grozin grozin   23252 дек 28  2015 rpyc_old.ipynb\n",
      "-rw-r--r-- 1 grozin grozin    7492 ноя 23 18:31 sh.ipynb\n",
      "-rw-r--r-- 1 grozin grozin  332000 дек 25  2015 sympy.ipynb\n",
      "\n"
     ]
    }
   ],
   "source": [
    "print(chain())"
   ]
  },
  {
   "cell_type": "markdown",
   "metadata": {
    "collapsed": true
   },
   "source": [
    "Можно использовать перенаправления ввода-вывода."
   ]
  },
  {
   "cell_type": "code",
   "execution_count": 12,
   "metadata": {
    "collapsed": false
   },
   "outputs": [
    {
     "name": "stdout",
     "output_type": "stream",
     "text": [
      "abcd\r\n",
      "efgh\r\n",
      "ijkl\r\n"
     ]
    }
   ],
   "source": [
    "!cat newtext.txt"
   ]
  },
  {
   "cell_type": "code",
   "execution_count": 13,
   "metadata": {
    "collapsed": false
   },
   "outputs": [
    {
     "name": "stdout",
     "output_type": "stream",
     "text": [
      "/bin/grep ab < newtext.txt > text2.txt\n"
     ]
    }
   ],
   "source": [
    "chain=(grep['ab'] < 'newtext.txt') > 'text2.txt'\n",
    "print(chain)"
   ]
  },
  {
   "cell_type": "markdown",
   "metadata": {},
   "source": [
    "(скобки здесь обязательны)"
   ]
  },
  {
   "cell_type": "code",
   "execution_count": 14,
   "metadata": {
    "collapsed": false
   },
   "outputs": [
    {
     "name": "stdout",
     "output_type": "stream",
     "text": [
      "abcd\n",
      "\n"
     ]
    }
   ],
   "source": [
    "chain()\n",
    "print(cat('text2.txt'))"
   ]
  },
  {
   "cell_type": "markdown",
   "metadata": {},
   "source": [
    "Если нужно послать текст в `stdin` внешней программы, используется оператор `<<`. "
   ]
  },
  {
   "cell_type": "code",
   "execution_count": 15,
   "metadata": {
    "collapsed": false
   },
   "outputs": [
    {
     "name": "stdout",
     "output_type": "stream",
     "text": [
      "abc\n",
      "\n"
     ]
    }
   ],
   "source": [
    "print((grep['ab'] << 'xxx\\nabc\\nyyy\\n')())"
   ]
  },
  {
   "cell_type": "markdown",
   "metadata": {},
   "source": [
    "## Работа на удалённой машине\n",
    "\n",
    "Допустим, в локальной сети есть машина eeepc (192.168.0.105), доступная по `ssh`."
   ]
  },
  {
   "cell_type": "code",
   "execution_count": 16,
   "metadata": {
    "collapsed": true
   },
   "outputs": [],
   "source": [
    "ip='192.168.43.95'"
   ]
  },
  {
   "cell_type": "code",
   "execution_count": 17,
   "metadata": {
    "collapsed": true
   },
   "outputs": [],
   "source": [
    "from plumbum import SshMachine\n",
    "eeepc=SshMachine(ip)"
   ]
  },
  {
   "cell_type": "markdown",
   "metadata": {},
   "source": [
    "Теперь мы можем выполнять на ней команды."
   ]
  },
  {
   "cell_type": "code",
   "execution_count": 18,
   "metadata": {
    "collapsed": false
   },
   "outputs": [
    {
     "name": "stdout",
     "output_type": "stream",
     "text": [
      "/bin/ls\n"
     ]
    }
   ],
   "source": [
    "eeepc_ls=eeepc['ls']\n",
    "print(eeepc_ls)"
   ]
  },
  {
   "cell_type": "code",
   "execution_count": 19,
   "metadata": {
    "collapsed": false
   },
   "outputs": [
    {
     "name": "stdout",
     "output_type": "stream",
     "text": [
      "__pycache__\n",
      "mymodule.py\n",
      "rpyc.txt\n",
      "\n"
     ]
    }
   ],
   "source": [
    "print(eeepc_ls('rpyc'))"
   ]
  },
  {
   "cell_type": "markdown",
   "metadata": {},
   "source": [
    "Можно строить цепочки из локальных и удалённых команд."
   ]
  },
  {
   "cell_type": "code",
   "execution_count": 20,
   "metadata": {
    "collapsed": false
   },
   "outputs": [
    {
     "name": "stdout",
     "output_type": "stream",
     "text": [
      "/bin/ls rpyc | /bin/grep '\\.py'\n"
     ]
    }
   ],
   "source": [
    "chain=eeepc_ls['rpyc'] | grep[r'\\.py']\n",
    "print(chain)"
   ]
  },
  {
   "cell_type": "code",
   "execution_count": 22,
   "metadata": {
    "collapsed": false
   },
   "outputs": [
    {
     "data": {
      "text/plain": [
       "Pipeline(BoundCommand(RemoteCommand(<SshMachine ssh://192.168.43.95>, <RemotePath /bin/ls>), ['rpyc']), BoundCommand(LocalCommand(/bin/grep), ['\\\\.py']))"
      ]
     },
     "execution_count": 22,
     "metadata": {},
     "output_type": "execute_result"
    }
   ],
   "source": [
    "chain"
   ]
  },
  {
   "cell_type": "code",
   "execution_count": 21,
   "metadata": {
    "collapsed": false
   },
   "outputs": [
    {
     "name": "stdout",
     "output_type": "stream",
     "text": [
      "mymodule.py\n",
      "\n"
     ]
    }
   ],
   "source": [
    "print(chain())"
   ]
  },
  {
   "cell_type": "code",
   "execution_count": 23,
   "metadata": {
    "collapsed": false
   },
   "outputs": [
    {
     "name": "stdout",
     "output_type": "stream",
     "text": [
      "abcd\n",
      "\n"
     ]
    }
   ],
   "source": [
    "eeepc_grep=eeepc['grep']\n",
    "print((eeepc_grep['ab'] < 'newtext.txt')())"
   ]
  },
  {
   "cell_type": "code",
   "execution_count": 24,
   "metadata": {
    "collapsed": false
   },
   "outputs": [
    {
     "name": "stdout",
     "output_type": "stream",
     "text": [
      "abc\n",
      "\n"
     ]
    }
   ],
   "source": [
    "print((eeepc_grep['ab'] << 'xxx\\nabc\\nyyy\\n')())"
   ]
  },
  {
   "cell_type": "code",
   "execution_count": 25,
   "metadata": {
    "collapsed": false
   },
   "outputs": [
    {
     "name": "stdout",
     "output_type": "stream",
     "text": [
      "abcd\n",
      "\n"
     ]
    }
   ],
   "source": [
    "print((cat['newtext.txt'] | eeepc_grep['ab'])())"
   ]
  },
  {
   "cell_type": "markdown",
   "metadata": {},
   "source": [
    "Теперь закроем связь с eeepc."
   ]
  },
  {
   "cell_type": "code",
   "execution_count": 26,
   "metadata": {
    "collapsed": true
   },
   "outputs": [],
   "source": [
    "eeepc.close()"
   ]
  },
  {
   "cell_type": "markdown",
   "metadata": {},
   "source": [
    "Сеанс работы с eeepc удобно записать в виде\n",
    "```\n",
    "with SshMachine('192.168.0.105') as eeeps:\n",
    "    eeepc['ls']()\n",
    "    # и так далее\n",
    "```\n",
    "\n",
    "# RPyC\n",
    "\n",
    "Remote Python Call [http://rpyc.sourceforge.net/](http://rpyc.sourceforge.net/) - очень простой пакет для организации распределённых вычислений. Он работает на любой платформе, где есть питон, так что Вы можете объединить в вычислительный кластер всё, что подвернётся под руку - Linux, Windows, Mac, хоть свой телефон.\n",
    "\n",
    "На всех компьютерах, которые мы хотим использовать, запускаются `rpyc` серверы. Клиент обращается к ним и поручает выполнить какую-нибудь работу. Есть два типа серверов - классический (или slave-сервер) и современный. Классический сервер может (по поручению клиента) делать всё, что может делать интерпретатор питон (от имени того пользователя, который запустил сервер). Он не производит аутентификацию клиента. Поэтому его можно запускать только в защищённой локальной сети (возможно виртуальной), или он должен принимать соединения только с `localhost` (а другие машины получают к нему доступ через `ssh` туннели). В отличие от классического сервера (который поставляется в пакете `RPyC`), современный сервер должен быть написан пользователем под конкретную задачу. Он предоставляет клиентам некоторый набор сервисов; клиенты могут вызывать их. Если эти сервисы безопасны, такой сервер может работать и в открытом интернете.\n",
    "\n",
    "Есть более простой способ использования `RPyC`, который даже не требует, чтобы этот пакет был установлен на всех машинах - достаточно иметь его на клиентской (локальной) машине. Установим `ssh` связь с удалённой машиной."
   ]
  },
  {
   "cell_type": "code",
   "execution_count": 27,
   "metadata": {
    "collapsed": true
   },
   "outputs": [],
   "source": [
    "eeepc=SshMachine(ip)"
   ]
  },
  {
   "cell_type": "markdown",
   "metadata": {},
   "source": [
    "Функция `DeployedServer` передаёт на `eeepc` нужные исходные тексты, запускает там классический `rpyc` сервер, принимающий соединения только с локальной машины, и создаёт `ssh` туннель на `eeepc`."
   ]
  },
  {
   "cell_type": "code",
   "execution_count": 28,
   "metadata": {
    "collapsed": true
   },
   "outputs": [],
   "source": [
    "import rpyc\n",
    "from rpyc.utils.zerodeploy import DeployedServer\n",
    "server=DeployedServer(eeepc)"
   ]
  },
  {
   "cell_type": "markdown",
   "metadata": {},
   "source": [
    "Теперь мы можем установить связь с этим сервером."
   ]
  },
  {
   "cell_type": "code",
   "execution_count": 29,
   "metadata": {
    "collapsed": true
   },
   "outputs": [],
   "source": [
    "eee=server.classic_connect()"
   ]
  },
  {
   "cell_type": "markdown",
   "metadata": {},
   "source": [
    "Теперь я могу выполнять различные действия на `eeepc`:"
   ]
  },
  {
   "cell_type": "code",
   "execution_count": 30,
   "metadata": {
    "collapsed": true
   },
   "outputs": [],
   "source": [
    "eee.execute('n=2')"
   ]
  },
  {
   "cell_type": "code",
   "execution_count": 31,
   "metadata": {
    "collapsed": false
   },
   "outputs": [
    {
     "data": {
      "text/plain": [
       "3"
      ]
     },
     "execution_count": 31,
     "metadata": {},
     "output_type": "execute_result"
    }
   ],
   "source": [
    "eee.eval('n+1')"
   ]
  },
  {
   "cell_type": "markdown",
   "metadata": {
    "collapsed": true
   },
   "source": [
    "Я могу использовать встроенные функции питона."
   ]
  },
  {
   "cell_type": "code",
   "execution_count": 32,
   "metadata": {
    "collapsed": true
   },
   "outputs": [],
   "source": [
    "eee_file=eee.builtins.open('/home/grozin/rpyc/mymodule.py')"
   ]
  },
  {
   "cell_type": "markdown",
   "metadata": {},
   "source": [
    "В отличие от простых неизменяемых объектов (чисел, строк и т.д.), которые передаются между машинами по значению, изменяемые объекты передаются по ссылке. То есть на `eeepc` создался файловый объект; на локальной машине создалась сетевая ссылка на него - прокси-объект `eee_file`. Мы можем производить над ним любые действия, доступные для файлового объекта. Все они переадресутся объекту на `eeepc`."
   ]
  },
  {
   "cell_type": "code",
   "execution_count": 33,
   "metadata": {
    "collapsed": false
   },
   "outputs": [
    {
     "name": "stdout",
     "output_type": "stream",
     "text": [
      "#!/usr/bin/env python\n",
      "from time import sleep\n",
      "\n",
      "class MyClass:\n",
      "\n",
      "    def __init__(self,t):\n",
      "        self.t=t\n",
      "\n",
      "    def f(self,n):\n",
      "        sleep(self.t)\n",
      "        return n+1\n",
      "\n"
     ]
    }
   ],
   "source": [
    "print(eee_file.read())"
   ]
  },
  {
   "cell_type": "code",
   "execution_count": 34,
   "metadata": {
    "collapsed": true
   },
   "outputs": [],
   "source": [
    "eee_file.close()"
   ]
  },
  {
   "cell_type": "markdown",
   "metadata": {},
   "source": [
    "Этот прокси-объект можно подставить в любую программу, ожидающую иметь файловый объект. По принципу утиной типизации этот объект - файл.\n",
    "\n",
    "Я могу использовать функции и прочие объекты из библиотечных модулей питона на `eeepc`:"
   ]
  },
  {
   "cell_type": "code",
   "execution_count": 35,
   "metadata": {
    "collapsed": false
   },
   "outputs": [
    {
     "name": "stdout",
     "output_type": "stream",
     "text": [
      "['/home/grozin/tmp.hK717huHzN', '/home/grozin/tmp.hK717huHzN', '/usr/lib/python35.zip', '/usr/lib/python3.5', '/usr/lib/python3.5/plat-linux', '/usr/lib/python3.5/lib-dynload', '/usr/lib/python3.5/site-packages']\n"
     ]
    }
   ],
   "source": [
    "eee_path=eee.modules.sys.path\n",
    "print(eee_path)"
   ]
  },
  {
   "cell_type": "code",
   "execution_count": 36,
   "metadata": {
    "collapsed": true
   },
   "outputs": [],
   "source": [
    "eee_path.append('/home/grozin/rpyc')"
   ]
  },
  {
   "cell_type": "markdown",
   "metadata": {},
   "source": [
    "`eee_path` - это прокси-объект для `sys.path` на `eeepc`; любые изменения этого объекта сразу передаются туда. Теперь, расширив `path`, я могу использовать файл из этой \n",
    "директории на `eeepc`:"
   ]
  },
  {
   "cell_type": "code",
   "execution_count": 37,
   "metadata": {
    "collapsed": true
   },
   "outputs": [],
   "source": [
    "eee_object=eee.modules.mymodule.MyClass(0)"
   ]
  },
  {
   "cell_type": "code",
   "execution_count": 38,
   "metadata": {
    "collapsed": false
   },
   "outputs": [
    {
     "data": {
      "text/plain": [
       "4"
      ]
     },
     "execution_count": 38,
     "metadata": {},
     "output_type": "execute_result"
    }
   ],
   "source": [
    "eee_object.f(3)"
   ]
  },
  {
   "cell_type": "markdown",
   "metadata": {},
   "source": [
    "`eee_object` - это прокси-объект (сетевая ссылка) для объекта класса `MyClass` на машине `eeepc`. Его метод `f` прибавляет 1 к аргументу; чтобы у нас была возможность моделировать длительные вычисления, он это делает за `t` секунд, где `t` - атрибут этого объекта."
   ]
  },
  {
   "cell_type": "code",
   "execution_count": 39,
   "metadata": {
    "collapsed": false
   },
   "outputs": [
    {
     "data": {
      "text/plain": [
       "5"
      ]
     },
     "execution_count": 39,
     "metadata": {},
     "output_type": "execute_result"
    }
   ],
   "source": [
    "eee_object.t=2\n",
    "eee_object.f(4)"
   ]
  },
  {
   "cell_type": "markdown",
   "metadata": {},
   "source": [
    "Теперь нам пришлось ждать 2 секунды.\n",
    "\n",
    "Можно передавать удалённым функциям в качестве параметров любые объекты, в частности, локальные функции. Определим"
   ]
  },
  {
   "cell_type": "code",
   "execution_count": 40,
   "metadata": {
    "collapsed": true
   },
   "outputs": [],
   "source": [
    "def loc(n):\n",
    "    print('loc',n)\n",
    "    return n+1"
   ]
  },
  {
   "cell_type": "markdown",
   "metadata": {},
   "source": [
    "Тогда"
   ]
  },
  {
   "cell_type": "code",
   "execution_count": 41,
   "metadata": {
    "collapsed": false
   },
   "outputs": [
    {
     "name": "stdout",
     "output_type": "stream",
     "text": [
      "loc 1\n",
      "loc 2\n",
      "loc 3\n"
     ]
    },
    {
     "data": {
      "text/plain": [
       "[2, 3, 4]"
      ]
     },
     "execution_count": 41,
     "metadata": {},
     "output_type": "execute_result"
    }
   ],
   "source": [
    "list(eee.builtins.map(loc,[1,2,3]))"
   ]
  },
  {
   "cell_type": "markdown",
   "metadata": {},
   "source": [
    "То есть функция map на `eeepc` на каждом шаге вызывает функцию `loc` на локальной машине (callback).\n",
    "\n",
    "Всё, что мы до сих пор обсуждали, несомненно, красиво - разные объекты могут жить на разных машинах, и единая программа работает с ними, не замечая этого. Но все эти операции синхронные - одна машина просит другую что-то сделать и ждёт, когда та вернёт ей результат. Для организации распределённых вычислений нужны асинхронные операции:"
   ]
  },
  {
   "cell_type": "code",
   "execution_count": 42,
   "metadata": {
    "collapsed": false
   },
   "outputs": [
    {
     "data": {
      "text/plain": [
       "False"
      ]
     },
     "execution_count": 42,
     "metadata": {},
     "output_type": "execute_result"
    }
   ],
   "source": [
    "eee_object.t=10\n",
    "async_f=rpyc.async(eee_object.f)\n",
    "res=async_f(1)\n",
    "res.ready"
   ]
  },
  {
   "cell_type": "code",
   "execution_count": 43,
   "metadata": {
    "collapsed": false
   },
   "outputs": [
    {
     "data": {
      "text/plain": [
       "False"
      ]
     },
     "execution_count": 43,
     "metadata": {},
     "output_type": "execute_result"
    }
   ],
   "source": [
    "res.ready"
   ]
  },
  {
   "cell_type": "code",
   "execution_count": 45,
   "metadata": {
    "collapsed": false
   },
   "outputs": [
    {
     "data": {
      "text/plain": [
       "True"
      ]
     },
     "execution_count": 45,
     "metadata": {},
     "output_type": "execute_result"
    }
   ],
   "source": [
    "res.ready"
   ]
  },
  {
   "cell_type": "code",
   "execution_count": 46,
   "metadata": {
    "collapsed": false
   },
   "outputs": [
    {
     "data": {
      "text/plain": [
       "2"
      ]
     },
     "execution_count": 46,
     "metadata": {},
     "output_type": "execute_result"
    }
   ],
   "source": [
    "res.value"
   ]
  },
  {
   "cell_type": "markdown",
   "metadata": {},
   "source": [
    "Это уже лучше. Клиент может время от времени спрашивать, готов ли результат, и когда он будет готов, забрать его. Если запросить `res.value` когда результат ещё не готов, то клиент блокируется до момента, когда он будет готов:"
   ]
  },
  {
   "cell_type": "code",
   "execution_count": 47,
   "metadata": {
    "collapsed": false
   },
   "outputs": [
    {
     "data": {
      "text/plain": [
       "3"
      ]
     },
     "execution_count": 47,
     "metadata": {},
     "output_type": "execute_result"
    }
   ],
   "source": [
    "res=async_f(2)\n",
    "res.value"
   ]
  },
  {
   "cell_type": "markdown",
   "metadata": {},
   "source": [
    "(после `res.value` 10 секунд ожидания, потом появляется ответ).\n",
    "\n",
    "Но ещё лучше определить callback-функцию, которая будет вызвана на локальной машине, когда результат будет готов:"
   ]
  },
  {
   "cell_type": "code",
   "execution_count": 48,
   "metadata": {
    "collapsed": true
   },
   "outputs": [],
   "source": [
    "def callback(res):\n",
    "    print(res.value)"
   ]
  },
  {
   "cell_type": "markdown",
   "metadata": {},
   "source": [
    "Эта функция может быть вызвана только в отдельном thread-е:"
   ]
  },
  {
   "cell_type": "code",
   "execution_count": 49,
   "metadata": {
    "collapsed": true
   },
   "outputs": [],
   "source": [
    "thr=rpyc.BgServingThread(eee)\n",
    "res=async_f(3)\n",
    "res.add_callback(callback)"
   ]
  },
  {
   "cell_type": "code",
   "execution_count": 50,
   "metadata": {
    "collapsed": true
   },
   "outputs": [],
   "source": [
    "n=1"
   ]
  },
  {
   "cell_type": "code",
   "execution_count": 51,
   "metadata": {
    "collapsed": false
   },
   "outputs": [
    {
     "data": {
      "text/plain": [
       "1"
      ]
     },
     "execution_count": 51,
     "metadata": {},
     "output_type": "execute_result"
    }
   ],
   "source": [
    "n"
   ]
  },
  {
   "cell_type": "code",
   "execution_count": 52,
   "metadata": {
    "collapsed": false
   },
   "outputs": [
    {
     "data": {
      "text/plain": [
       "2"
      ]
     },
     "execution_count": 52,
     "metadata": {},
     "output_type": "execute_result"
    },
    {
     "name": "stdout",
     "output_type": "stream",
     "text": [
      "4\n"
     ]
    }
   ],
   "source": [
    "n+1"
   ]
  },
  {
   "cell_type": "markdown",
   "metadata": {},
   "source": [
    "Это печать из функции callback из другого thread-а. Теперь это  thread можно и остановить."
   ]
  },
  {
   "cell_type": "code",
   "execution_count": 53,
   "metadata": {
    "collapsed": true
   },
   "outputs": [],
   "source": [
    "thr.stop()"
   ]
  },
  {
   "cell_type": "markdown",
   "metadata": {},
   "source": [
    "Например, на клиентской машине может работать графический пользовательский интерфейс (на питоне легко написать такой интерфейс, причём он будет работать на любой платформе - Linux, Windows, Mac - без малейших изменений в программе). Эта клиентская программа обращается к нескольким мощным серверам для проведения длинных вычислений, и регистрирует callback функции, которые, наприер, добавляют очередную точку на график.\n",
    "\n",
    "Наконец, закроем связь с машиной eeepc:"
   ]
  },
  {
   "cell_type": "code",
   "execution_count": 54,
   "metadata": {
    "collapsed": true
   },
   "outputs": [],
   "source": [
    "eee.close()"
   ]
  },
  {
   "cell_type": "markdown",
   "metadata": {},
   "source": [
    "Сеанс связи с `rpyc` сервером удобно записывать как\n",
    "```\n",
    "with server.classic_connection() as eee:\n",
    "    eee.execute('n=2')\n",
    "    # и так далее\n",
    "```\n",
    "\n",
    "Наконец, закроем `ssh` связь с eeepc."
   ]
  },
  {
   "cell_type": "code",
   "execution_count": 55,
   "metadata": {
    "collapsed": true
   },
   "outputs": [],
   "source": [
    "eeepc.close()"
   ]
  },
  {
   "cell_type": "code",
   "execution_count": null,
   "metadata": {
    "collapsed": true
   },
   "outputs": [],
   "source": []
  }
 ],
 "metadata": {
  "kernelspec": {
   "display_name": "Python 3",
   "language": "python",
   "name": "python3"
  },
  "language_info": {
   "codemirror_mode": {
    "name": "ipython",
    "version": 3
   },
   "file_extension": ".py",
   "mimetype": "text/x-python",
   "name": "python",
   "nbconvert_exporter": "python",
   "pygments_lexer": "ipython3",
   "version": "3.5.2"
  }
 },
 "nbformat": 4,
 "nbformat_minor": 0
}

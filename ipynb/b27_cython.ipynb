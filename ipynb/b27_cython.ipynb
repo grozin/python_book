{
 "cells": [
  {
   "cell_type": "markdown",
   "metadata": {
    "deletable": true,
    "editable": true
   },
   "source": [
    "# cython\n",
    "\n",
    "`cython` позволяет писать программы, выглядящие почти как питонские, но с добавлением статических деклараций типов. Эти программы (`foo.pyx`) транслируются в исходные тексты на C (`foo.c`) и затем компилируются. Определённые в них функции могут использоваться из программ на чистом питоне. Программа на `cython`-е может также вызывать функции из библиотек, написанных на C. `cython` не пытается автоматически сгенерировать интерфейсы к таким библиотекам, читая их `.h` файлы; для этого можно использовать `swig` или другие подобные системы.\n",
    "\n",
    "В `ipython` можно писать `cython` фрагменты inline, если загрузить расширение `cython`."
   ]
  },
  {
   "cell_type": "code",
   "execution_count": 1,
   "metadata": {
    "collapsed": false,
    "deletable": true,
    "editable": true
   },
   "outputs": [],
   "source": [
    "%load_ext cython"
   ]
  },
  {
   "cell_type": "markdown",
   "metadata": {
    "deletable": true,
    "editable": true
   },
   "source": [
    "## Функции\n",
    "\n",
    "Это интерпретируемая функция на питоне."
   ]
  },
  {
   "cell_type": "code",
   "execution_count": 2,
   "metadata": {
    "collapsed": false,
    "deletable": true,
    "editable": true
   },
   "outputs": [],
   "source": [
    "def fib(n):\n",
    "    if n<=2:\n",
    "        return 1\n",
    "    a,b=1,1\n",
    "    for i in range(n-2):\n",
    "        a,b=b,a+b\n",
    "    return b"
   ]
  },
  {
   "cell_type": "code",
   "execution_count": 3,
   "metadata": {
    "collapsed": false,
    "deletable": true,
    "editable": true
   },
   "outputs": [
    {
     "data": {
      "text/plain": [
       "2880067194370816120"
      ]
     },
     "execution_count": 3,
     "metadata": {},
     "output_type": "execute_result"
    }
   ],
   "source": [
    "fib(90)"
   ]
  },
  {
   "cell_type": "code",
   "execution_count": 4,
   "metadata": {
    "collapsed": false,
    "deletable": true,
    "editable": true
   },
   "outputs": [
    {
     "name": "stdout",
     "output_type": "stream",
     "text": [
      "100000 loops, best of 3: 7.05 µs per loop\n"
     ]
    }
   ],
   "source": [
    "%timeit fib(90)"
   ]
  },
  {
   "cell_type": "markdown",
   "metadata": {
    "deletable": true,
    "editable": true
   },
   "source": [
    "Это такая же функция на `cython`, типы переменных не объявлены - то есть все они обычные питонские объекты."
   ]
  },
  {
   "cell_type": "code",
   "execution_count": 5,
   "metadata": {
    "collapsed": false,
    "deletable": true,
    "editable": true
   },
   "outputs": [],
   "source": [
    "%%cython\n",
    "def dyn_fib(n):\n",
    "    if n<=2:\n",
    "        return 1\n",
    "    a,b=1,1\n",
    "    for i in range(n-2):\n",
    "        a,b=b,a+b\n",
    "    return b"
   ]
  },
  {
   "cell_type": "code",
   "execution_count": 6,
   "metadata": {
    "collapsed": false,
    "deletable": true,
    "editable": true
   },
   "outputs": [
    {
     "data": {
      "text/plain": [
       "2880067194370816120"
      ]
     },
     "execution_count": 6,
     "metadata": {},
     "output_type": "execute_result"
    }
   ],
   "source": [
    "dyn_fib(90)"
   ]
  },
  {
   "cell_type": "code",
   "execution_count": 7,
   "metadata": {
    "collapsed": false,
    "deletable": true,
    "editable": true
   },
   "outputs": [
    {
     "name": "stdout",
     "output_type": "stream",
     "text": [
      "100000 loops, best of 3: 5.52 µs per loop\n"
     ]
    }
   ],
   "source": [
    "%timeit dyn_fib(90)"
   ]
  },
  {
   "cell_type": "markdown",
   "metadata": {
    "deletable": true,
    "editable": true
   },
   "source": [
    "Получилось чуть быстрее. Скомпилированная программа выполняет всю ту же возню с типами и их преобразованиями, что и интерпретируемая.\n",
    "\n",
    "Теперь типы декларированы статически."
   ]
  },
  {
   "cell_type": "code",
   "execution_count": 8,
   "metadata": {
    "collapsed": false,
    "deletable": true,
    "editable": true
   },
   "outputs": [],
   "source": [
    "%%cython\n",
    "def stat_fib(long n):\n",
    "    cdef long i,a,b\n",
    "    if n<=2:\n",
    "        return 1\n",
    "    a,b=1,1\n",
    "    for i in range(n-2):\n",
    "        a,b=b,a+b\n",
    "    return b"
   ]
  },
  {
   "cell_type": "code",
   "execution_count": 9,
   "metadata": {
    "collapsed": false,
    "deletable": true,
    "editable": true
   },
   "outputs": [
    {
     "data": {
      "text/plain": [
       "2880067194370816120"
      ]
     },
     "execution_count": 9,
     "metadata": {},
     "output_type": "execute_result"
    }
   ],
   "source": [
    "stat_fib(90)"
   ]
  },
  {
   "cell_type": "code",
   "execution_count": 10,
   "metadata": {
    "collapsed": false,
    "deletable": true,
    "editable": true
   },
   "outputs": [
    {
     "name": "stdout",
     "output_type": "stream",
     "text": [
      "The slowest run took 6.68 times longer than the fastest. This could mean that an intermediate result is being cached.\n",
      "1000000 loops, best of 3: 630 ns per loop\n"
     ]
    }
   ],
   "source": [
    "%timeit stat_fib(90)"
   ]
  },
  {
   "cell_type": "markdown",
   "metadata": {
    "deletable": true,
    "editable": true
   },
   "source": [
    "Получилось на порядок быстрее.\n",
    "\n",
    "`c_fib` - это фактически функция на C, только написанная в `cython`-ском синтаксисе. Её можно вызывать откуда угодно в той же программе на `cython`, но не из питонской программы. Поэтому напишем обёртку, которую можно вызывать из питона."
   ]
  },
  {
   "cell_type": "code",
   "execution_count": 11,
   "metadata": {
    "collapsed": false,
    "deletable": true,
    "editable": true
   },
   "outputs": [],
   "source": [
    "%%cython\n",
    "cdef long c_fib(long n):\n",
    "    cdef long i,a,b\n",
    "    if n<=2:\n",
    "        return 1\n",
    "    a,b=1,1\n",
    "    for i in range(n-2):\n",
    "        a,b=b,a+b\n",
    "    return b\n",
    "def wrap_fib(long n):\n",
    "    return c_fib(n)"
   ]
  },
  {
   "cell_type": "code",
   "execution_count": 12,
   "metadata": {
    "collapsed": false,
    "deletable": true,
    "editable": true
   },
   "outputs": [
    {
     "data": {
      "text/plain": [
       "2880067194370816120"
      ]
     },
     "execution_count": 12,
     "metadata": {},
     "output_type": "execute_result"
    }
   ],
   "source": [
    "wrap_fib(90)"
   ]
  },
  {
   "cell_type": "code",
   "execution_count": 13,
   "metadata": {
    "collapsed": false,
    "deletable": true,
    "editable": true
   },
   "outputs": [
    {
     "name": "stdout",
     "output_type": "stream",
     "text": [
      "The slowest run took 5.85 times longer than the fastest. This could mean that an intermediate result is being cached.\n",
      "1000000 loops, best of 3: 632 ns per loop\n"
     ]
    }
   ],
   "source": [
    "%timeit wrap_fib(90)"
   ]
  },
  {
   "cell_type": "markdown",
   "metadata": {
    "deletable": true,
    "editable": true
   },
   "source": [
    "Время то же самое.\n",
    "\n",
    "`cpdef` создаёт как C функцию, так и питонскую. Первая вызывается из `cython`, вторая из питона."
   ]
  },
  {
   "cell_type": "code",
   "execution_count": 14,
   "metadata": {
    "collapsed": true,
    "deletable": true,
    "editable": true
   },
   "outputs": [],
   "source": [
    "%%cython\n",
    "cpdef long cp_fib(long n):\n",
    "    cdef long i,a,b\n",
    "    if n<=2:\n",
    "        return 1\n",
    "    a,b=1,1\n",
    "    for i in range(n-2):\n",
    "        a,b=b,a+b\n",
    "    return b"
   ]
  },
  {
   "cell_type": "code",
   "execution_count": 15,
   "metadata": {
    "collapsed": false,
    "deletable": true,
    "editable": true
   },
   "outputs": [
    {
     "data": {
      "text/plain": [
       "2880067194370816120"
      ]
     },
     "execution_count": 15,
     "metadata": {},
     "output_type": "execute_result"
    }
   ],
   "source": [
    "cp_fib(90)"
   ]
  },
  {
   "cell_type": "code",
   "execution_count": 16,
   "metadata": {
    "collapsed": false,
    "deletable": true,
    "editable": true
   },
   "outputs": [
    {
     "name": "stdout",
     "output_type": "stream",
     "text": [
      "The slowest run took 5.04 times longer than the fastest. This could mean that an intermediate result is being cached.\n",
      "1000000 loops, best of 3: 637 ns per loop\n"
     ]
    }
   ],
   "source": [
    "%timeit cp_fib(90)"
   ]
  },
  {
   "cell_type": "markdown",
   "metadata": {
    "deletable": true,
    "editable": true
   },
   "source": [
    "Время то же самое.\n",
    "\n",
    "## Интерфейс к библиотеке на C\n",
    "\n",
    "Пусть у нас есть файл на C."
   ]
  },
  {
   "cell_type": "code",
   "execution_count": 17,
   "metadata": {
    "collapsed": false,
    "deletable": true,
    "editable": true
   },
   "outputs": [
    {
     "name": "stdout",
     "output_type": "stream",
     "text": [
      "long cfib(long n)\r\n",
      "{   long i,a,b,c;\r\n",
      "    if(n<=2) return 1;\r\n",
      "    {   a=1; b=1;\r\n",
      "        for(i=2;i<n;++i)\r\n",
      "        { c=a+b; a=b; b=c; }\r\n",
      "        return b;\r\n",
      "    }\r\n",
      "}\r\n"
     ]
    }
   ],
   "source": [
    "!cat cfib.c"
   ]
  },
  {
   "cell_type": "code",
   "execution_count": 18,
   "metadata": {
    "collapsed": false,
    "deletable": true,
    "editable": true
   },
   "outputs": [
    {
     "name": "stdout",
     "output_type": "stream",
     "text": [
      "long cfib(long n);\r\n"
     ]
    }
   ],
   "source": [
    "!cat cfib.h"
   ]
  },
  {
   "cell_type": "markdown",
   "metadata": {
    "deletable": true,
    "editable": true
   },
   "source": [
    "Скомпилируем его."
   ]
  },
  {
   "cell_type": "code",
   "execution_count": 19,
   "metadata": {
    "collapsed": true,
    "deletable": true,
    "editable": true
   },
   "outputs": [],
   "source": [
    "!gcc -fPIC -c cfib.c"
   ]
  },
  {
   "cell_type": "markdown",
   "metadata": {
    "deletable": true,
    "editable": true
   },
   "source": [
    "Напишем обёртку на `cython`."
   ]
  },
  {
   "cell_type": "code",
   "execution_count": 20,
   "metadata": {
    "collapsed": false,
    "deletable": true,
    "editable": true
   },
   "outputs": [
    {
     "name": "stdout",
     "output_type": "stream",
     "text": [
      "cdef extern from \"cfib.h\":\r\n",
      "    long cfib(long n)\r\n",
      "\r\n",
      "def fib(long n):\r\n",
      "    return cfib(n)\r\n"
     ]
    }
   ],
   "source": [
    "!cat wrap.pyx"
   ]
  },
  {
   "cell_type": "markdown",
   "metadata": {
    "deletable": true,
    "editable": true
   },
   "source": [
    "Скомпилируем её и соберём в библиотеку."
   ]
  },
  {
   "cell_type": "code",
   "execution_count": 21,
   "metadata": {
    "collapsed": false,
    "deletable": true,
    "editable": true
   },
   "outputs": [
    {
     "data": {
      "text/plain": [
       "[]"
      ]
     },
     "execution_count": 21,
     "metadata": {},
     "output_type": "execute_result"
    }
   ],
   "source": [
    "%%!\n",
    "cython -3 wrap.pyx\n",
    "CFLAGS=$(python-config --cflags)\n",
    "LDFLAGS=$(python-config --ldflags)\n",
    "gcc $CFLAGS -fPIC -c wrap.c\n",
    "gcc $LDFLAGS -shared wrap.o cfib.o -o wrap.so"
   ]
  },
  {
   "cell_type": "markdown",
   "metadata": {
    "deletable": true,
    "editable": true
   },
   "source": [
    "Эту библиотеку можно импортировать в программу на питоне."
   ]
  },
  {
   "cell_type": "code",
   "execution_count": 22,
   "metadata": {
    "collapsed": false,
    "deletable": true,
    "editable": true
   },
   "outputs": [],
   "source": [
    "from wrap import fib"
   ]
  },
  {
   "cell_type": "code",
   "execution_count": 23,
   "metadata": {
    "collapsed": false,
    "deletable": true,
    "editable": true
   },
   "outputs": [
    {
     "data": {
      "text/plain": [
       "2880067194370816120"
      ]
     },
     "execution_count": 23,
     "metadata": {},
     "output_type": "execute_result"
    }
   ],
   "source": [
    "fib(90)"
   ]
  },
  {
   "cell_type": "code",
   "execution_count": 24,
   "metadata": {
    "collapsed": false,
    "deletable": true,
    "editable": true
   },
   "outputs": [
    {
     "name": "stdout",
     "output_type": "stream",
     "text": [
      "The slowest run took 4.65 times longer than the fastest. This could mean that an intermediate result is being cached.\n",
      "1000000 loops, best of 3: 574 ns per loop\n"
     ]
    }
   ],
   "source": [
    "%timeit fib(90)"
   ]
  },
  {
   "cell_type": "markdown",
   "metadata": {
    "deletable": true,
    "editable": true
   },
   "source": [
    "Пулучилось чуть быстрее, чем функция на `cython`.\n",
    "\n",
    "## Структуры\n",
    "\n",
    "Структуры можно описывать в `cython` с помощью `ctypedef struct`. Поля в них описываются фактически в синтаксисе C. Переменную, описываемую в `cdef`, можно, если хочется, сразу инициализировать. Имя типа-структуры можно использовать как функцию, аргументы которой - её поля (в порядке описания). `print` печатает структуру как словарь; на самом деле это не словарь, а структура языка C, не содержащая накладных расходов по памяти и времени, имеющихся у словаря, но и не дающая гибкости словаря. Поля структуры обозначаются `z.re`; их можно менять.\n",
    "\n",
    "В `cython` можно работать с указателями. Импортируем `malloc` и `free` из стандартной библиотеки. Результат `malloc` - адрес, его нужно привести к правильному типу, используя `<type>`. В C поля структуры, на которую ссылается `w`, обозначаются `w->re`; в `cython` - просто `w.re`. В C структура, на которую ссылается `w`, обозначается `*w`; в `cython` такой синтаксис не разрешён, вместо этого надо писать `w[0]` (в C это тоже законная форма записи, но чаще используется `*w`). При работе с указателями управление памятью производится вручную, а не автоматически, как в питоне, так что не забывайте `free`."
   ]
  },
  {
   "cell_type": "code",
   "execution_count": 25,
   "metadata": {
    "collapsed": false,
    "deletable": true,
    "editable": true
   },
   "outputs": [
    {
     "name": "stdout",
     "output_type": "stream",
     "text": [
      "{'re': 1.0, 'im': 2.0}\n",
      "1.0\n",
      "{'re': -1.0, 'im': 2.0}\n",
      "{'re': 2.0, 'im': 1.0}\n"
     ]
    }
   ],
   "source": [
    "%%cython\n",
    "ctypedef struct mycomplex:\n",
    "    double re\n",
    "    double im\n",
    "cdef mycomplex z=mycomplex(1.,2.)\n",
    "print(z)\n",
    "print(z.re)\n",
    "z.re=-1\n",
    "print(z)\n",
    "# pointers\n",
    "from libc.stdlib cimport malloc,free\n",
    "cdef mycomplex *w=<mycomplex*>malloc(sizeof(mycomplex))\n",
    "w.re,w.im=2.,1.\n",
    "print(w[0])\n",
    "free(w)"
   ]
  },
  {
   "cell_type": "markdown",
   "metadata": {
    "deletable": true,
    "editable": true
   },
   "source": [
    "## cdef классы\n",
    "\n",
    "`cython` позволяет определять классы, объекты которых являются фактически структурами языка C. Их атрибуты нужно статически описывать с помощью `cdef`; во время выполнения нельзя добавлять новые атрибуты (или уничножать имеющиеся). Вот пример такого класса. Его основной метод `atol` вызывает функцию `atol` из стандартной библиотеки C, преобразующую строку в `long`."
   ]
  },
  {
   "cell_type": "code",
   "execution_count": 26,
   "metadata": {
    "collapsed": false,
    "deletable": true,
    "editable": true
   },
   "outputs": [
    {
     "name": "stdout",
     "output_type": "stream",
     "text": [
      "from libc.stdlib cimport atol\r\n",
      "\r\n",
      "cdef class C1:\r\n",
      "\r\n",
      "    cdef:\r\n",
      "        char *s\r\n",
      "        long n\r\n",
      "\r\n",
      "    def __init__(self):\r\n",
      "        self.s=NULL\r\n",
      "        self.n=0\r\n",
      "\r\n",
      "    def set_s(self,bytes s):\r\n",
      "        self.s=s\r\n",
      "\r\n",
      "    def get_n(self):\r\n",
      "        return self.n\r\n",
      "\r\n",
      "    def atol(self):\r\n",
      "        self.n=atol(self.s)\r\n"
     ]
    }
   ],
   "source": [
    "!cat C1.pyx"
   ]
  },
  {
   "cell_type": "markdown",
   "metadata": {
    "deletable": true,
    "editable": true
   },
   "source": [
    "Есть удобный способ импортировать `pyx` модуль в питон: `pyximport`, он автоматически произведёт преобразование в C, компиляцию и сборку."
   ]
  },
  {
   "cell_type": "code",
   "execution_count": 27,
   "metadata": {
    "collapsed": false,
    "deletable": true,
    "editable": true
   },
   "outputs": [
    {
     "data": {
      "text/plain": [
       "(None, <pyximport.pyximport.PyxImporter at 0x7f2185779780>)"
      ]
     },
     "execution_count": 27,
     "metadata": {},
     "output_type": "execute_result"
    }
   ],
   "source": [
    "import pyximport\n",
    "pyximport.install()"
   ]
  },
  {
   "cell_type": "code",
   "execution_count": 28,
   "metadata": {
    "collapsed": false,
    "deletable": true,
    "editable": true
   },
   "outputs": [],
   "source": [
    "from C1 import C1"
   ]
  },
  {
   "cell_type": "code",
   "execution_count": 29,
   "metadata": {
    "collapsed": false,
    "deletable": true,
    "editable": true
   },
   "outputs": [
    {
     "name": "stdout",
     "output_type": "stream",
     "text": [
      "12345\n"
     ]
    }
   ],
   "source": [
    "o=C1()\n",
    "s=b\"12345\"\n",
    "o.set_s(s)\n",
    "o.atol()\n",
    "print(o.get_n())"
   ]
  },
  {
   "cell_type": "markdown",
   "metadata": {
    "deletable": true,
    "editable": true
   },
   "source": [
    "Тип `char*` в C соответствует типу `bytes` в питоне. При совместном использовании питона с его автоматическим управлением памятью и C с указателями нужно соблюдать осторожность. Строка `b\"12345\"` доступна в питоне как значение переменной `s`, поэтому занимаемая ей память не будет освобождена, пока `s` не будет присвоено другое значение. Мы скопировали её адрес в атрибут `o.s` типа `char*`. Если бы мы не присвоили эту строку переменной `s`, а прямо подставили бы её в качестве аргумента метода `o.set_s`, то питон не знал бы, что её надо сохранять, и освободил бы занимаемую её память. Указатель `o.s` указывал бы после этого неведомо куда, с катастрофическими последствиями.\n",
    "\n",
    "Усовершенствуем немного эту `cython` программу. По умолчанию `cdef` атрибуты недоступны ни из питона, ни из `cython` программы. Но можно описать их как `public` или `readonly`, тогда не нужны будут методы `get_foo` и `set_foo`. Метод `__init__` может быть и не будет вызван (например, другой класс унаследовал текущий, и его `__init__` не вызвал `__init__` родителя); если в структуре есть указатели, то они могут остаться неинициализированными. Поэтому лучше использовать `__cinit__`, который обязательно вызывается сразу после выделения память для объекта."
   ]
  },
  {
   "cell_type": "code",
   "execution_count": 30,
   "metadata": {
    "collapsed": false,
    "deletable": true,
    "editable": true
   },
   "outputs": [
    {
     "name": "stdout",
     "output_type": "stream",
     "text": [
      "from libc.stdlib cimport atol\r\n",
      "\r\n",
      "cdef class C2:\r\n",
      "\r\n",
      "    cdef public char *s\r\n",
      "    cdef readonly long n\r\n",
      "\r\n",
      "    def __cinit__(self):\r\n",
      "        self.s=NULL\r\n",
      "        self.n=0\r\n",
      "\r\n",
      "    def atol(self):\r\n",
      "        self.n=atol(self.s)\r\n"
     ]
    }
   ],
   "source": [
    "!cat C2.pyx"
   ]
  },
  {
   "cell_type": "code",
   "execution_count": 31,
   "metadata": {
    "collapsed": true,
    "deletable": true,
    "editable": true
   },
   "outputs": [],
   "source": [
    "from C2 import C2"
   ]
  },
  {
   "cell_type": "code",
   "execution_count": 32,
   "metadata": {
    "collapsed": false,
    "deletable": true,
    "editable": true
   },
   "outputs": [
    {
     "name": "stdout",
     "output_type": "stream",
     "text": [
      "12345\n"
     ]
    }
   ],
   "source": [
    "o=C2()\n",
    "o.s=s\n",
    "o.atol()\n",
    "print(o.n)"
   ]
  },
  {
   "cell_type": "markdown",
   "metadata": {
    "deletable": true,
    "editable": true
   },
   "source": [
    "`cdef` классы поддерживают наследование (только от одного класса, не множественное). Можно написать класс-потомок как `cdef` класс на `cython`. Можно и написать класс-потомок на питоне. Пусть мы хотим добавить к нашему классу метод преобразования строки в число с плавающей точкой, но нам лень использовать `atof` из стандортной библиотеки C. Сделаем это обычными средствами питона. Атрибут `x` добавляется к объектам класса `C3` динамически, описывать его не надо."
   ]
  },
  {
   "cell_type": "code",
   "execution_count": 33,
   "metadata": {
    "collapsed": true,
    "deletable": true,
    "editable": true
   },
   "outputs": [],
   "source": [
    "class C3(C2):\n",
    "    \n",
    "    def atof(self):\n",
    "        self.x=float(self.s)"
   ]
  },
  {
   "cell_type": "code",
   "execution_count": 34,
   "metadata": {
    "collapsed": false,
    "deletable": true,
    "editable": true
   },
   "outputs": [
    {
     "name": "stdout",
     "output_type": "stream",
     "text": [
      "12345.6789\n"
     ]
    }
   ],
   "source": [
    "o=C3()\n",
    "s=b\"12345.6789\"\n",
    "o.s=s\n",
    "o.atof()\n",
    "print(o.x)"
   ]
  },
  {
   "cell_type": "markdown",
   "metadata": {
    "deletable": true,
    "editable": true
   },
   "source": [
    "## Интерфейс к библиотеке на C\n",
    "\n",
    "Рассмотрим очень упощённый пример того, как можно написать удобный питонский интерфейс к библиотеке на C, используя `cython`. Если бы мы хотели использовать эту библиотеку из программы на C, достаточно было бы включить `#include \"foo.h\"` в эту программу."
   ]
  },
  {
   "cell_type": "code",
   "execution_count": 35,
   "metadata": {
    "collapsed": false,
    "deletable": true,
    "editable": true
   },
   "outputs": [
    {
     "name": "stdout",
     "output_type": "stream",
     "text": [
      "typedef struct { long n; double x; } CFoo;\r\n",
      "CFoo *Foo_new(long n,double x);\r\n",
      "void Foo_del(CFoo *z);\r\n",
      "double Foo_f(CFoo *z,double y);\r\n"
     ]
    }
   ],
   "source": [
    "!cat cfoo.h"
   ]
  },
  {
   "cell_type": "markdown",
   "metadata": {
    "deletable": true,
    "editable": true
   },
   "source": [
    "Здесь описан тип-структура `CFoo`. Функция `Foo_new` создаёт и инициализирует такую структуру и возвращает указатель на неё. Функция `Foo_del` уничтожает эту структуру. Наконец, функция `Foo_f` делает какое-то вычисление со своим параметром `y` и данными из структуры. Подобным образом часто выглядят интерфейсы к генераторам случайных чисел: мы можем создать несколько структур с начальными данными и получить несколько независимых потоков случайных чисел.\n",
    "\n",
    "А вот реализация на C."
   ]
  },
  {
   "cell_type": "code",
   "execution_count": 36,
   "metadata": {
    "collapsed": false,
    "deletable": true,
    "editable": true
   },
   "outputs": [
    {
     "name": "stdout",
     "output_type": "stream",
     "text": [
      "#include <stdlib.h>\r\n",
      "#include \"cfoo.h\"\r\n",
      "\r\n",
      "CFoo *Foo_new(long n,double x)\r\n",
      "{   CFoo *r=(CFoo*)malloc(sizeof(CFoo));\r\n",
      "    r->n=n;\r\n",
      "    r->x=x;\r\n",
      "    return r;\r\n",
      "}\r\n",
      "\r\n",
      "void Foo_del(CFoo *z)\r\n",
      "{ free(z); }\r\n",
      "\r\n",
      "double Foo_f(CFoo *z,double y)\r\n",
      "{ return z->n*y+z->x; }\r\n"
     ]
    }
   ],
   "source": [
    "!cat cfoo.c"
   ]
  },
  {
   "cell_type": "markdown",
   "metadata": {
    "deletable": true,
    "editable": true
   },
   "source": [
    "В первую очередь мы напишем файл определений `cython`. Он почти копирует `foo.h` с минимальными синтаксическими изменениями."
   ]
  },
  {
   "cell_type": "code",
   "execution_count": 37,
   "metadata": {
    "collapsed": false,
    "deletable": true,
    "editable": true
   },
   "outputs": [
    {
     "name": "stdout",
     "output_type": "stream",
     "text": [
      "cdef extern from \"cfoo.h\":\r\n",
      "\r\n",
      "    ctypedef struct CFoo:\r\n",
      "        pass\r\n",
      "\r\n",
      "    CFoo *Foo_new(long n,double x)\r\n",
      "    void Foo_del(CFoo *z)\r\n",
      "    double Foo_f(CFoo *z,double y)\r\n"
     ]
    }
   ],
   "source": [
    "!cat foo.pxd"
   ]
  },
  {
   "cell_type": "markdown",
   "metadata": {
    "deletable": true,
    "editable": true
   },
   "source": [
    "Теперь напишем удобную объектно-ориентированную обёртку. Файл определений импортируется при помощи `cimport` (мы уже использовали эту команду, когда импортировали `libc.stdlib`; `cython` содержит ряд стандартных `pxd` файлов, включая `stdlib.pxd`, `stdio.pxd` и т.д.). Теперь определим `cdef` класс `Foo`. Метод `__dealloc__` вызывается в последний момент перед уничтожением объекта (условие `if self.foo!=NULL:` написано из перестраховки, в законном объекте класса `Foo` этот атрибут всегда не `NULL`, т.к. он инициализируется в `__cinit__`)."
   ]
  },
  {
   "cell_type": "code",
   "execution_count": 38,
   "metadata": {
    "collapsed": false,
    "deletable": true,
    "editable": true
   },
   "outputs": [
    {
     "name": "stdout",
     "output_type": "stream",
     "text": [
      "cimport foo\r\n",
      "\r\n",
      "cdef class Foo:\r\n",
      "\r\n",
      "    cdef foo.CFoo *foo\r\n",
      "\r\n",
      "    def __cinit__(self,long n,double x):\r\n",
      "        self.foo=foo.Foo_new(n,x)\r\n",
      "\r\n",
      "    def __dealloc__(self):\r\n",
      "        if self.foo!=NULL:\r\n",
      "            foo.Foo_del(self.foo)\r\n",
      "\r\n",
      "    def f(self,double y):\r\n",
      "        return foo.Foo_f(self.foo,y)\r\n"
     ]
    }
   ],
   "source": [
    "!cat foo.pyx"
   ]
  },
  {
   "cell_type": "markdown",
   "metadata": {
    "deletable": true,
    "editable": true
   },
   "source": [
    "Скомпилируем и соберём."
   ]
  },
  {
   "cell_type": "code",
   "execution_count": 39,
   "metadata": {
    "collapsed": false,
    "deletable": true,
    "editable": true
   },
   "outputs": [
    {
     "data": {
      "text/plain": [
       "[]"
      ]
     },
     "execution_count": 39,
     "metadata": {},
     "output_type": "execute_result"
    }
   ],
   "source": [
    "%%!\n",
    "gcc -fPIC -c cfoo.c\n",
    "cython -3 foo.pyx\n",
    "CFLAGS=$(python-config --cflags)\n",
    "LDFLAGS=$(python-config --ldflags)\n",
    "gcc $CFLAGS -fPIC -c foo.c\n",
    "gcc $LDFLAGS -shared foo.o cfoo.o -o foo.so"
   ]
  },
  {
   "cell_type": "code",
   "execution_count": 40,
   "metadata": {
    "collapsed": true,
    "deletable": true,
    "editable": true
   },
   "outputs": [],
   "source": [
    "from foo import Foo"
   ]
  },
  {
   "cell_type": "markdown",
   "metadata": {
    "deletable": true,
    "editable": true
   },
   "source": [
    "Теперь мы можем в питоне создавать объекты класса `Foo` и вызывать их метод `f`."
   ]
  },
  {
   "cell_type": "code",
   "execution_count": 41,
   "metadata": {
    "collapsed": false,
    "deletable": true,
    "editable": true
   },
   "outputs": [
    {
     "data": {
      "text/plain": [
       "6.0"
      ]
     },
     "execution_count": 41,
     "metadata": {},
     "output_type": "execute_result"
    }
   ],
   "source": [
    "o=Foo(2,0.)\n",
    "o.f(3.)"
   ]
  }
 ],
 "metadata": {
  "kernelspec": {
   "display_name": "Python 3",
   "language": "python",
   "name": "python3"
  },
  "language_info": {
   "codemirror_mode": {
    "name": "ipython",
    "version": 3
   },
   "file_extension": ".py",
   "mimetype": "text/x-python",
   "name": "python",
   "nbconvert_exporter": "python",
   "pygments_lexer": "ipython3",
   "version": "3.6.1"
  }
 },
 "nbformat": 4,
 "nbformat_minor": 0
}
